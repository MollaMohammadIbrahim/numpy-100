{
 "cells": [
  {
   "cell_type": "markdown",
   "id": "c742d9cc",
   "metadata": {},
   "source": [
    "# 100 numpy exercises\n",
    "\n",
    "This is a collection of exercises that have been collected in the numpy mailing list, on stack overflow\n",
    "and in the numpy documentation. The goal of this collection is to offer a quick reference for both old\n",
    "and new users but also to provide a set of exercises for those who teach.\n",
    "\n",
    "\n",
    "If you find an error or think you've a better way to solve some of them, feel\n",
    "free to open an issue at <https://github.com/rougier/numpy-100>."
   ]
  },
  {
   "cell_type": "markdown",
   "id": "4292e21c",
   "metadata": {},
   "source": [
    "File automatically generated. See the documentation to update questions/answers/hints programmatically."
   ]
  },
  {
   "cell_type": "markdown",
   "id": "e1eba8a7",
   "metadata": {},
   "source": [
    "Run the `initialize.py` module, then for each question you can query the\n",
    "answer or an hint with `hint(n)` or `answer(n)` for `n` question number."
   ]
  },
  {
   "cell_type": "code",
   "execution_count": null,
   "id": "1ca6f730",
   "metadata": {},
   "outputs": [],
   "source": [
    "%run initialise.py"
   ]
  },
  {
   "cell_type": "markdown",
   "id": "c6ed9243",
   "metadata": {},
   "source": [
    "#### 1. Import the numpy package under the name `np` (★☆☆)"
   ]
  },
  {
   "cell_type": "code",
   "execution_count": 1,
   "id": "4dc18925",
   "metadata": {},
   "outputs": [],
   "source": [
    "import numpy as np"
   ]
  },
  {
   "cell_type": "markdown",
   "id": "b4882d94",
   "metadata": {},
   "source": [
    "#### 2. Print the numpy version and the configuration (★☆☆)"
   ]
  },
  {
   "cell_type": "code",
   "execution_count": 5,
   "id": "9a41fb2b",
   "metadata": {},
   "outputs": [
    {
     "name": "stdout",
     "output_type": "stream",
     "text": [
      "1.20.1\n",
      "blas_mkl_info:\n",
      "    libraries = ['mkl_rt']\n",
      "    library_dirs = ['C:/Users/IBRAHIM/anaconda3\\\\Library\\\\lib']\n",
      "    define_macros = [('SCIPY_MKL_H', None), ('HAVE_CBLAS', None)]\n",
      "    include_dirs = ['C:/Users/IBRAHIM/anaconda3\\\\Library\\\\include']\n",
      "blas_opt_info:\n",
      "    libraries = ['mkl_rt']\n",
      "    library_dirs = ['C:/Users/IBRAHIM/anaconda3\\\\Library\\\\lib']\n",
      "    define_macros = [('SCIPY_MKL_H', None), ('HAVE_CBLAS', None)]\n",
      "    include_dirs = ['C:/Users/IBRAHIM/anaconda3\\\\Library\\\\include']\n",
      "lapack_mkl_info:\n",
      "    libraries = ['mkl_rt']\n",
      "    library_dirs = ['C:/Users/IBRAHIM/anaconda3\\\\Library\\\\lib']\n",
      "    define_macros = [('SCIPY_MKL_H', None), ('HAVE_CBLAS', None)]\n",
      "    include_dirs = ['C:/Users/IBRAHIM/anaconda3\\\\Library\\\\include']\n",
      "lapack_opt_info:\n",
      "    libraries = ['mkl_rt']\n",
      "    library_dirs = ['C:/Users/IBRAHIM/anaconda3\\\\Library\\\\lib']\n",
      "    define_macros = [('SCIPY_MKL_H', None), ('HAVE_CBLAS', None)]\n",
      "    include_dirs = ['C:/Users/IBRAHIM/anaconda3\\\\Library\\\\include']\n"
     ]
    }
   ],
   "source": [
    "print(np.__version__)\n",
    "np.show_config()"
   ]
  },
  {
   "cell_type": "markdown",
   "id": "084258bf",
   "metadata": {},
   "source": [
    "#### 3. Create a null vector of size 10 (★☆☆)"
   ]
  },
  {
   "cell_type": "code",
   "execution_count": 7,
   "id": "660c6b91",
   "metadata": {},
   "outputs": [
    {
     "data": {
      "text/plain": [
       "array([0., 0., 0., 0., 0., 0., 0., 0., 0., 0.])"
      ]
     },
     "execution_count": 7,
     "metadata": {},
     "output_type": "execute_result"
    }
   ],
   "source": [
    "a=np.zeros(10)\n",
    "a"
   ]
  },
  {
   "cell_type": "markdown",
   "id": "0b7ea863",
   "metadata": {},
   "source": [
    "#### 4. How to find the memory size of any array (★☆☆)"
   ]
  },
  {
   "cell_type": "code",
   "execution_count": 8,
   "id": "ac12eeb3",
   "metadata": {},
   "outputs": [
    {
     "data": {
      "text/plain": [
       "80"
      ]
     },
     "execution_count": 8,
     "metadata": {},
     "output_type": "execute_result"
    }
   ],
   "source": [
    "a.size*a.itemsize"
   ]
  },
  {
   "cell_type": "markdown",
   "id": "399ac53c",
   "metadata": {},
   "source": [
    "#### 5. How to get the documentation of the numpy add function from the command line? (★☆☆)"
   ]
  },
  {
   "cell_type": "code",
   "execution_count": 11,
   "id": "8706e03d",
   "metadata": {},
   "outputs": [
    {
     "name": "stdout",
     "output_type": "stream",
     "text": [
      "add(x1, x2, /, out=None, *, where=True, casting='same_kind', order='K', dtype=None, subok=True[, signature, extobj])\n",
      "\n",
      "Add arguments element-wise.\n",
      "\n",
      "Parameters\n",
      "----------\n",
      "x1, x2 : array_like\n",
      "    The arrays to be added.\n",
      "    If ``x1.shape != x2.shape``, they must be broadcastable to a common\n",
      "    shape (which becomes the shape of the output).\n",
      "out : ndarray, None, or tuple of ndarray and None, optional\n",
      "    A location into which the result is stored. If provided, it must have\n",
      "    a shape that the inputs broadcast to. If not provided or None,\n",
      "    a freshly-allocated array is returned. A tuple (possible only as a\n",
      "    keyword argument) must have length equal to the number of outputs.\n",
      "where : array_like, optional\n",
      "    This condition is broadcast over the input. At locations where the\n",
      "    condition is True, the `out` array will be set to the ufunc result.\n",
      "    Elsewhere, the `out` array will retain its original value.\n",
      "    Note that if an uninitialized `out` array is created via the default\n",
      "    ``out=None``, locations within it where the condition is False will\n",
      "    remain uninitialized.\n",
      "**kwargs\n",
      "    For other keyword-only arguments, see the\n",
      "    :ref:`ufunc docs <ufuncs.kwargs>`.\n",
      "\n",
      "Returns\n",
      "-------\n",
      "add : ndarray or scalar\n",
      "    The sum of `x1` and `x2`, element-wise.\n",
      "    This is a scalar if both `x1` and `x2` are scalars.\n",
      "\n",
      "Notes\n",
      "-----\n",
      "Equivalent to `x1` + `x2` in terms of array broadcasting.\n",
      "\n",
      "Examples\n",
      "--------\n",
      ">>> np.add(1.0, 4.0)\n",
      "5.0\n",
      ">>> x1 = np.arange(9.0).reshape((3, 3))\n",
      ">>> x2 = np.arange(3.0)\n",
      ">>> np.add(x1, x2)\n",
      "array([[  0.,   2.,   4.],\n",
      "       [  3.,   5.,   7.],\n",
      "       [  6.,   8.,  10.]])\n",
      "\n",
      "The ``+`` operator can be used as a shorthand for ``np.add`` on ndarrays.\n",
      "\n",
      ">>> x1 = np.arange(9.0).reshape((3, 3))\n",
      ">>> x2 = np.arange(3.0)\n",
      ">>> x1 + x2\n",
      "array([[ 0.,  2.,  4.],\n",
      "       [ 3.,  5.,  7.],\n",
      "       [ 6.,  8., 10.]])\n"
     ]
    }
   ],
   "source": [
    "np.info(np.add)"
   ]
  },
  {
   "cell_type": "markdown",
   "id": "94fb58be",
   "metadata": {},
   "source": [
    "#### 6. Create a null vector of size 10 but the fifth value which is 1 (★☆☆)"
   ]
  },
  {
   "cell_type": "code",
   "execution_count": 12,
   "id": "618f340f",
   "metadata": {},
   "outputs": [
    {
     "name": "stdout",
     "output_type": "stream",
     "text": [
      "[0. 0. 0. 0. 1. 0. 0. 0. 0. 0.]\n"
     ]
    }
   ],
   "source": [
    "a = np.zeros(10)\n",
    "a[4]=1\n",
    "print(a)"
   ]
  },
  {
   "cell_type": "markdown",
   "id": "d577e66c",
   "metadata": {},
   "source": [
    "#### 7. Create a vector with values ranging from 10 to 49 (★☆☆)"
   ]
  },
  {
   "cell_type": "code",
   "execution_count": 15,
   "id": "091a60f4",
   "metadata": {},
   "outputs": [
    {
     "name": "stdout",
     "output_type": "stream",
     "text": [
      "[[10 11 12 13 14 15 16 17 18 19 20 21 22 23 24 25 26 27 28 29 30 31 32 33\n",
      "  34 35 36 37 38 39 40 41 42 43 44 45 46 47 48 49]]\n"
     ]
    }
   ],
   "source": [
    "a = np.array([range(10,50)])\n",
    "print(a)\n",
    "##a = np.arrange(10,50)"
   ]
  },
  {
   "cell_type": "markdown",
   "id": "bc9c60e2",
   "metadata": {},
   "source": [
    "#### 8. Reverse a vector (first element becomes last) (★☆☆)"
   ]
  },
  {
   "cell_type": "code",
   "execution_count": 27,
   "id": "23978628",
   "metadata": {},
   "outputs": [
    {
     "data": {
      "text/plain": [
       "array([[49, 48, 47, 46, 45, 44, 43, 42, 41, 40, 39, 38, 37, 36, 35, 34,\n",
       "        33, 32, 31, 30, 29, 28, 27, 26, 25, 24, 23, 22, 21, 20, 19, 18,\n",
       "        17, 16, 15, 14, 13, 12, 11, 10]])"
      ]
     },
     "execution_count": 27,
     "metadata": {},
     "output_type": "execute_result"
    }
   ],
   "source": [
    "np.flip(a)"
   ]
  },
  {
   "cell_type": "markdown",
   "id": "7454fb7b",
   "metadata": {},
   "source": [
    "#### 9. Create a 3x3 matrix with values ranging from 0 to 8 (★☆☆)"
   ]
  },
  {
   "cell_type": "code",
   "execution_count": 37,
   "id": "28f9a38f",
   "metadata": {},
   "outputs": [
    {
     "name": "stdout",
     "output_type": "stream",
     "text": [
      "[[0 1 2]\n",
      " [3 4 5]\n",
      " [6 7 8]]\n"
     ]
    }
   ],
   "source": [
    "b = np.arange(9).reshape(3,3)\n",
    "print(b)"
   ]
  },
  {
   "cell_type": "markdown",
   "id": "caf21358",
   "metadata": {},
   "source": [
    "#### 10. Find indices of non-zero elements from [1,2,0,0,4,0] (★☆☆)"
   ]
  },
  {
   "cell_type": "code",
   "execution_count": 40,
   "id": "d390f4e1",
   "metadata": {},
   "outputs": [],
   "source": [
    "a = [1,2,0,0,4,0]\n",
    "b = np.nonzero(a)"
   ]
  },
  {
   "cell_type": "markdown",
   "id": "1dd829ac",
   "metadata": {},
   "source": [
    "#### 11. Create a 3x3 identity matrix (★☆☆)"
   ]
  },
  {
   "cell_type": "code",
   "execution_count": 5,
   "id": "1dde894f",
   "metadata": {},
   "outputs": [
    {
     "data": {
      "text/plain": [
       "array([[1., 0., 0.],\n",
       "       [0., 1., 0.],\n",
       "       [0., 0., 1.]])"
      ]
     },
     "execution_count": 5,
     "metadata": {},
     "output_type": "execute_result"
    }
   ],
   "source": [
    "import numpy as np\n",
    "np.identity(3)"
   ]
  },
  {
   "cell_type": "markdown",
   "id": "322aa74e",
   "metadata": {},
   "source": [
    "#### 12. Create a 3x3x3 array with random values (★☆☆)"
   ]
  },
  {
   "cell_type": "code",
   "execution_count": 20,
   "id": "1f5c8d38",
   "metadata": {},
   "outputs": [
    {
     "data": {
      "text/plain": [
       "array([[[68, 84, 21],\n",
       "        [74, 32, 78],\n",
       "        [38, 16, 62]],\n",
       "\n",
       "       [[59, 66, 65],\n",
       "        [56, 59, 89],\n",
       "        [44, 66, 17]],\n",
       "\n",
       "       [[41, 12, 62],\n",
       "        [54, 53, 58],\n",
       "        [69, 67, 38]]])"
      ]
     },
     "execution_count": 20,
     "metadata": {},
     "output_type": "execute_result"
    }
   ],
   "source": [
    "\n",
    "np.random.randint(1,100,(3,3,3))"
   ]
  },
  {
   "cell_type": "markdown",
   "id": "82e8c932",
   "metadata": {},
   "source": [
    "#### 13. Create a 10x10 array with random values and find the minimum and maximum values (★☆☆)"
   ]
  },
  {
   "cell_type": "code",
   "execution_count": 25,
   "id": "85c6a59d",
   "metadata": {},
   "outputs": [
    {
     "name": "stdout",
     "output_type": "stream",
     "text": [
      "0.001434788215211369 0.9917436191297037\n"
     ]
    }
   ],
   "source": [
    "a= np.random.random((10,10))\n",
    "amin,amax = a.min(),a.max()\n",
    "print(amin,amax)"
   ]
  },
  {
   "cell_type": "markdown",
   "id": "c78b3d5e",
   "metadata": {},
   "source": [
    "#### 14. Create a random vector of size 30 and find the mean value (★☆☆)"
   ]
  },
  {
   "cell_type": "code",
   "execution_count": 28,
   "id": "37149237",
   "metadata": {},
   "outputs": [
    {
     "data": {
      "text/plain": [
       "0.5631508277760296"
      ]
     },
     "execution_count": 28,
     "metadata": {},
     "output_type": "execute_result"
    }
   ],
   "source": [
    "a = np.random.random(30)\n",
    "mean= a.mean()\n",
    "mean"
   ]
  },
  {
   "cell_type": "markdown",
   "id": "c07320af",
   "metadata": {},
   "source": [
    "#### 15. Create a 2d array with 1 on the border and 0 inside (★☆☆)"
   ]
  },
  {
   "cell_type": "code",
   "execution_count": 50,
   "id": "19897ca9",
   "metadata": {},
   "outputs": [
    {
     "name": "stdout",
     "output_type": "stream",
     "text": [
      "[[1. 1. 1. 1. 1. 1. 1. 1. 1. 1.]\n",
      " [1. 0. 0. 0. 0. 0. 0. 0. 0. 1.]\n",
      " [1. 0. 0. 0. 0. 0. 0. 0. 0. 1.]\n",
      " [1. 0. 0. 0. 0. 0. 0. 0. 0. 1.]\n",
      " [1. 0. 0. 0. 0. 0. 0. 0. 0. 1.]\n",
      " [1. 0. 0. 0. 0. 0. 0. 0. 0. 1.]\n",
      " [1. 0. 0. 0. 0. 0. 0. 0. 0. 1.]\n",
      " [1. 0. 0. 0. 0. 0. 0. 0. 0. 1.]\n",
      " [1. 0. 0. 0. 0. 0. 0. 0. 0. 1.]\n",
      " [1. 1. 1. 1. 1. 1. 1. 1. 1. 1.]]\n"
     ]
    }
   ],
   "source": [
    "a = np.ones((10,10))\n",
    "a[1:-1,1:-1]=0\n",
    "print(a)"
   ]
  },
  {
   "cell_type": "markdown",
   "id": "c6d094c4",
   "metadata": {},
   "source": [
    "#### 16. How to add a border (filled with 0's) around an existing array? (★☆☆)"
   ]
  },
  {
   "cell_type": "code",
   "execution_count": 69,
   "id": "9c05295e",
   "metadata": {},
   "outputs": [
    {
     "name": "stdout",
     "output_type": "stream",
     "text": [
      "[[1. 1. 1. 1. 1. 1. 1. 1. 1. 1.]\n",
      " [1. 1. 1. 1. 1. 1. 1. 1. 1. 1.]\n",
      " [1. 1. 1. 1. 1. 1. 1. 1. 1. 1.]\n",
      " [1. 1. 1. 1. 1. 1. 1. 1. 1. 1.]\n",
      " [1. 1. 1. 1. 1. 1. 1. 1. 1. 1.]\n",
      " [1. 1. 1. 1. 1. 1. 1. 1. 1. 1.]\n",
      " [1. 1. 1. 1. 1. 1. 1. 1. 1. 1.]\n",
      " [1. 1. 1. 1. 1. 1. 1. 1. 1. 1.]\n",
      " [1. 1. 1. 1. 1. 1. 1. 1. 1. 1.]\n",
      " [1. 1. 1. 1. 1. 1. 1. 1. 1. 1.]]\n",
      "\n",
      "[[0. 0. 0. 0. 0. 0. 0. 0. 0. 0.]\n",
      " [0. 1. 1. 1. 1. 1. 1. 1. 1. 0.]\n",
      " [0. 1. 1. 1. 1. 1. 1. 1. 1. 0.]\n",
      " [0. 1. 1. 1. 1. 1. 1. 1. 1. 0.]\n",
      " [0. 1. 1. 1. 1. 1. 1. 1. 1. 0.]\n",
      " [0. 1. 1. 1. 1. 1. 1. 1. 1. 0.]\n",
      " [0. 1. 1. 1. 1. 1. 1. 1. 1. 0.]\n",
      " [0. 1. 1. 1. 1. 1. 1. 1. 1. 0.]\n",
      " [0. 1. 1. 1. 1. 1. 1. 1. 1. 0.]\n",
      " [0. 0. 0. 0. 0. 0. 0. 0. 0. 0.]]\n"
     ]
    }
   ],
   "source": [
    "a = np.ones((10,10))\n",
    "print(a)\n",
    "print()\n",
    "a[:,[0,-1]]=0\n",
    "a[[0,-1],:]=0\n",
    "print(a)"
   ]
  },
  {
   "cell_type": "markdown",
   "id": "6e00ebde",
   "metadata": {},
   "source": [
    "#### 17. What is the result of the following expression? (★☆☆)\n",
    "```python\n",
    "0 * np.nan\n",
    "np.nan == np.nan\n",
    "np.inf > np.nan\n",
    "np.nan - np.nan\n",
    "np.nan in set([np.nan])\n",
    "0.3 == 3 * 0.1\n",
    "```"
   ]
  },
  {
   "cell_type": "code",
   "execution_count": 82,
   "id": "5015d2a2",
   "metadata": {},
   "outputs": [
    {
     "data": {
      "text/plain": [
       "False"
      ]
     },
     "execution_count": 82,
     "metadata": {},
     "output_type": "execute_result"
    }
   ],
   "source": [
    "nan\n",
    "false\n",
    "false\n",
    "nan\n",
    "true\n",
    "false"
   ]
  },
  {
   "cell_type": "markdown",
   "id": "ffee7be0",
   "metadata": {},
   "source": [
    "#### 18. Create a 5x5 matrix with values 1,2,3,4 just below the diagonal (★☆☆)"
   ]
  },
  {
   "cell_type": "code",
   "execution_count": 95,
   "id": "2db510c1",
   "metadata": {},
   "outputs": [
    {
     "name": "stdout",
     "output_type": "stream",
     "text": [
      "[[0 0 0 0 0]\n",
      " [1 0 0 0 0]\n",
      " [0 2 0 0 0]\n",
      " [0 0 3 0 0]\n",
      " [0 0 0 4 0]]\n"
     ]
    }
   ],
   "source": [
    "a = np.diag(1+np.arange(4),k=-1)\n",
    "print(a)"
   ]
  },
  {
   "cell_type": "markdown",
   "id": "0c687bd7",
   "metadata": {},
   "source": [
    "### 19. Create a 8x8 matrix and fill it with a checkerboard pattern (★☆☆)"
   ]
  },
  {
   "cell_type": "code",
   "execution_count": 116,
   "id": "c7a51f78",
   "metadata": {},
   "outputs": [
    {
     "data": {
      "text/plain": [
       "array([[1., 0., 1., 0., 1., 0., 1., 0.],\n",
       "       [0., 1., 0., 1., 0., 1., 0., 1.],\n",
       "       [1., 0., 1., 0., 1., 0., 1., 0.],\n",
       "       [0., 1., 0., 1., 0., 1., 0., 1.],\n",
       "       [1., 0., 1., 0., 1., 0., 1., 0.],\n",
       "       [0., 1., 0., 1., 0., 1., 0., 1.],\n",
       "       [1., 0., 1., 0., 1., 0., 1., 0.],\n",
       "       [0., 1., 0., 1., 0., 1., 0., 1.]])"
      ]
     },
     "execution_count": 116,
     "metadata": {},
     "output_type": "execute_result"
    }
   ],
   "source": [
    "a = np.ones((8,8))\n",
    "a[1::2,::2]=0\n",
    "a[::2,1::2]=0\n",
    "a"
   ]
  },
  {
   "cell_type": "markdown",
   "id": "46c55b45",
   "metadata": {},
   "source": [
    "#### 20. Consider a (6,7,8) shape array, what is the index (x,y,z) of the 100th element?"
   ]
  },
  {
   "cell_type": "code",
   "execution_count": 117,
   "id": "d95d1406",
   "metadata": {},
   "outputs": [
    {
     "name": "stdout",
     "output_type": "stream",
     "text": [
      "(1, 5, 3)\n"
     ]
    }
   ],
   "source": [
    "print(np.unravel_index(99,(6,7,8)))"
   ]
  },
  {
   "cell_type": "markdown",
   "id": "4898dddb",
   "metadata": {},
   "source": [
    "#### 21. Create a checkerboard 8x8 matrix using the tile function (★☆☆)"
   ]
  },
  {
   "cell_type": "code",
   "execution_count": 143,
   "id": "de7dc9d8",
   "metadata": {},
   "outputs": [
    {
     "data": {
      "text/plain": [
       "array([[0, 1, 0, 1, 0, 1, 0, 1],\n",
       "       [1, 0, 1, 0, 1, 0, 1, 0],\n",
       "       [0, 1, 0, 1, 0, 1, 0, 1],\n",
       "       [1, 0, 1, 0, 1, 0, 1, 0],\n",
       "       [0, 1, 0, 1, 0, 1, 0, 1],\n",
       "       [1, 0, 1, 0, 1, 0, 1, 0],\n",
       "       [0, 1, 0, 1, 0, 1, 0, 1],\n",
       "       [1, 0, 1, 0, 1, 0, 1, 0]])"
      ]
     },
     "execution_count": 143,
     "metadata": {},
     "output_type": "execute_result"
    }
   ],
   "source": [
    "a = np.array([0,1])\n",
    "b = np.array([1,0])\n",
    "\n",
    "np.tile((a,b),(4,4))"
   ]
  },
  {
   "cell_type": "markdown",
   "id": "ef2963f0",
   "metadata": {},
   "source": [
    "#### 22. Normalize a 5x5 random matrix (★☆☆)"
   ]
  },
  {
   "cell_type": "code",
   "execution_count": 144,
   "id": "f92f76ce",
   "metadata": {},
   "outputs": [
    {
     "name": "stdout",
     "output_type": "stream",
     "text": [
      "[[ 0.38843279 -0.19500494 -1.00802564  1.40657933 -1.30722521]\n",
      " [ 0.19763168 -1.22601177  1.07100653  0.36894557  1.35907923]\n",
      " [-1.69246646  0.26763764  0.72460103  2.22876387 -0.25113693]\n",
      " [ 0.62033745 -0.05673604  0.58970501 -0.74887712 -1.58907804]\n",
      " [ 0.95820673 -1.14382498  0.14998804 -0.91265889 -0.1998689 ]]\n"
     ]
    }
   ],
   "source": [
    "Z = np.random.random((5,5))\n",
    "Z = (Z - np.mean (Z)) / (np.std (Z))\n",
    "print(Z)"
   ]
  },
  {
   "cell_type": "markdown",
   "id": "09390c44",
   "metadata": {},
   "source": [
    "#### 23. Create a custom dtype that describes a color as four unsigned bytes (RGBA) (★☆☆)"
   ]
  },
  {
   "cell_type": "markdown",
   "id": "352ada3e",
   "metadata": {},
   "source": [
    "# No nothing"
   ]
  },
  {
   "cell_type": "markdown",
   "id": "e8ff25fc",
   "metadata": {},
   "source": [
    "#### 24. Multiply a 5x3 matrix by a 3x2 matrix (real matrix product) (★☆☆)"
   ]
  },
  {
   "cell_type": "code",
   "execution_count": 149,
   "id": "bcb2fa2e",
   "metadata": {},
   "outputs": [
    {
     "data": {
      "text/plain": [
       "array([[3., 3.],\n",
       "       [3., 3.],\n",
       "       [3., 3.],\n",
       "       [3., 3.],\n",
       "       [3., 3.]])"
      ]
     },
     "execution_count": 149,
     "metadata": {},
     "output_type": "execute_result"
    }
   ],
   "source": [
    "a = np.ones((5,3))\n",
    "b = np.ones((3,2))\n",
    "a@b"
   ]
  },
  {
   "cell_type": "markdown",
   "id": "ce43c805",
   "metadata": {},
   "source": [
    "#### 25. Given a 1D array, negate all elements which are between 3 and 8, in place. (★☆☆)"
   ]
  },
  {
   "cell_type": "code",
   "execution_count": 162,
   "id": "2b915f12",
   "metadata": {},
   "outputs": [
    {
     "data": {
      "text/plain": [
       "array([[ 1,  2,  3, -4],\n",
       "       [-5, -6, -7,  8],\n",
       "       [ 9, 10, 11, 12],\n",
       "       [13, 14, 15, 16],\n",
       "       [17, 18, 19, 20]])"
      ]
     },
     "execution_count": 162,
     "metadata": {},
     "output_type": "execute_result"
    }
   ],
   "source": [
    "a = 1+ np.arange(20).reshape((5,4))\n",
    "a[ (a>3) & (a<8)] *= -1\n",
    "a\n"
   ]
  },
  {
   "cell_type": "markdown",
   "id": "20696fea",
   "metadata": {},
   "source": [
    "#### 26. What is the output of the following script? (★☆☆)\n",
    "```python\n",
    "# Author: Jake VanderPlas\n",
    "\n",
    "print(sum(range(5),-1))\n",
    "from numpy import *\n",
    "print(sum(range(5),-1))\n",
    "```"
   ]
  },
  {
   "cell_type": "markdown",
   "id": "caa35a83",
   "metadata": {},
   "source": [
    "# Cannot Undertstand\n",
    "print(sum(range(5),-1))\n",
    "from numpy import *\n",
    "print(sum(range(5),-1))\n",
    "range(5)"
   ]
  },
  {
   "cell_type": "markdown",
   "id": "9f3e3396",
   "metadata": {},
   "source": [
    "#### 27. Consider an integer vector Z, which of these expressions are legal? (★☆☆)\n",
    "```python\n",
    "Z**Z\n",
    "2 << Z >> 2\n",
    "Z <- Z\n",
    "1j*Z\n",
    "Z/1/1\n",
    "Z<Z>Z\n",
    "```"
   ]
  },
  {
   "cell_type": "markdown",
   "id": "72fb6b82",
   "metadata": {},
   "source": [
    "# Need to know more\n"
   ]
  },
  {
   "cell_type": "code",
   "execution_count": null,
   "id": "952efdae",
   "metadata": {},
   "outputs": [],
   "source": [
    "#### 28. What are the result of the following expressions?\n",
    "```python\n",
    "np.array(0) / np.array(0)\n",
    "np.array(0) // np.array(0)\n",
    "np.array([np.nan]).astype(int).astype(float)\n",
    "```"
   ]
  },
  {
   "cell_type": "code",
   "execution_count": 15,
   "id": "f5178b8b",
   "metadata": {},
   "outputs": [
    {
     "data": {
      "text/plain": [
       "array([-2.14748365e+09])"
      ]
     },
     "execution_count": 15,
     "metadata": {},
     "output_type": "execute_result"
    }
   ],
   "source": [
    "np.array([np.nan]).astype(int).astype(float)"
   ]
  },
  {
   "cell_type": "markdown",
   "id": "04270e58",
   "metadata": {},
   "source": [
    "#### 29. How to round away from zero a float array ? (★☆☆)"
   ]
  },
  {
   "cell_type": "markdown",
   "id": "01ac537d",
   "metadata": {},
   "source": [
    "# What is the question?? How to print array index\n"
   ]
  },
  {
   "cell_type": "markdown",
   "id": "186af0bd",
   "metadata": {},
   "source": [
    "#### 30. How to find common values between two arrays? (★☆☆)"
   ]
  },
  {
   "cell_type": "code",
   "execution_count": 39,
   "id": "751ce3d6",
   "metadata": {},
   "outputs": [
    {
     "name": "stdout",
     "output_type": "stream",
     "text": [
      "[[70 89  9 61 96 95 69 51 20 45]\n",
      " [55 57 20 57 74 41 32 54 69 72]\n",
      " [78 39 30  4 52  4 45 52  3 86]\n",
      " [27 11 42 45 13 79 18 46  4 71]\n",
      " [21 64 22 49 46 74 71 95  4 70]\n",
      " [33  7 52 78 59 24 97 88 69 80]\n",
      " [56 65 36 10  4 98 26 10  8 26]\n",
      " [31 87 50 64 13 11 85 57 13 66]\n",
      " [15 84 59 67 26 21  9 91 74 36]\n",
      " [74 93 59 66  5 50 33 45 90 49]]\n",
      "\n",
      "[[14 87 31 36 26  5 69 31  2 62]\n",
      " [30 77  6 88 82 14 25 75 13 75]\n",
      " [72 66 78 65 96 76 27 63 34 34]\n",
      " [64 86 91  2 81 99 53 89 29 26]\n",
      " [17 57 42 33 40 98  5 64 70 89]\n",
      " [79 20 41 75 52 13 27 74 27 91]\n",
      " [32 55 45 18  0 36 77 23 92 80]\n",
      " [ 4  8 42 21 53 52 95 52 30 57]\n",
      " [70  8 69 89 86 60 60 72 90 30]\n",
      " [76 66 31 19 87 76 55 27 84 62]]\n",
      "\n",
      "[ 4  5  8 13 18 20 21 26 27 30 31 32 33 36 41 42 45 52 55 57 64 65 66 69\n",
      " 70 72 74 78 79 80 84 86 87 88 89 90 91 95 96 98]\n",
      "(array([2, 2, 3, 4, 6], dtype=int64), array([3, 5, 8, 8, 4], dtype=int64))\n",
      "(array([9], dtype=int64), array([4], dtype=int64))\n",
      "(array([6], dtype=int64), array([8], dtype=int64))\n",
      "(array([3, 7, 7], dtype=int64), array([4, 4, 8], dtype=int64))\n",
      "(array([3], dtype=int64), array([6], dtype=int64))\n",
      "(array([0, 1], dtype=int64), array([8, 2], dtype=int64))\n",
      "(array([4, 8], dtype=int64), array([0, 5], dtype=int64))\n",
      "(array([6, 6, 8], dtype=int64), array([6, 9, 4], dtype=int64))\n",
      "(array([3], dtype=int64), array([0], dtype=int64))\n",
      "(array([2], dtype=int64), array([2], dtype=int64))\n",
      "(array([7], dtype=int64), array([0], dtype=int64))\n",
      "(array([1], dtype=int64), array([6], dtype=int64))\n",
      "(array([5, 9], dtype=int64), array([0, 6], dtype=int64))\n",
      "(array([6, 8], dtype=int64), array([2, 9], dtype=int64))\n",
      "(array([1], dtype=int64), array([5], dtype=int64))\n",
      "(array([3], dtype=int64), array([2], dtype=int64))\n",
      "(array([0, 2, 3, 9], dtype=int64), array([9, 6, 3, 7], dtype=int64))\n",
      "(array([2, 2, 5], dtype=int64), array([4, 7, 2], dtype=int64))\n",
      "(array([1], dtype=int64), array([0], dtype=int64))\n",
      "(array([1, 1, 7], dtype=int64), array([1, 3, 7], dtype=int64))\n",
      "(array([4, 7], dtype=int64), array([1, 3], dtype=int64))\n",
      "(array([6], dtype=int64), array([1], dtype=int64))\n",
      "(array([7, 9], dtype=int64), array([9, 3], dtype=int64))\n",
      "(array([0, 1, 5], dtype=int64), array([6, 8, 8], dtype=int64))\n",
      "(array([0, 4], dtype=int64), array([0, 9], dtype=int64))\n",
      "(array([1], dtype=int64), array([9], dtype=int64))\n",
      "(array([1, 4, 8, 9], dtype=int64), array([4, 5, 8, 0], dtype=int64))\n",
      "(array([2, 5], dtype=int64), array([0, 3], dtype=int64))\n",
      "(array([3], dtype=int64), array([5], dtype=int64))\n",
      "(array([5], dtype=int64), array([9], dtype=int64))\n",
      "(array([8], dtype=int64), array([1], dtype=int64))\n",
      "(array([2], dtype=int64), array([9], dtype=int64))\n",
      "(array([7], dtype=int64), array([1], dtype=int64))\n",
      "(array([5], dtype=int64), array([7], dtype=int64))\n",
      "(array([0], dtype=int64), array([1], dtype=int64))\n",
      "(array([9], dtype=int64), array([8], dtype=int64))\n",
      "(array([8], dtype=int64), array([7], dtype=int64))\n",
      "(array([0, 4], dtype=int64), array([5, 7], dtype=int64))\n",
      "(array([0], dtype=int64), array([4], dtype=int64))\n",
      "(array([6], dtype=int64), array([5], dtype=int64))\n"
     ]
    }
   ],
   "source": [
    "Z1 = np.random.randint(0,100,(10,10))\n",
    "Z2 = np.random.randint(0,100,(10,10))\n",
    "print(Z1)\n",
    "print()\n",
    "print(Z2)\n",
    "print()\n",
    "A=np.intersect1d(Z1,Z2)\n",
    "print(A)\n",
    "for i in A:\n",
    "    \n",
    "    print(np.where(Z1==i))"
   ]
  },
  {
   "cell_type": "markdown",
   "id": "8dc246e6",
   "metadata": {},
   "source": [
    "#### 31. How to ignore all numpy warnings (not recommended)? (★☆☆)"
   ]
  },
  {
   "cell_type": "code",
   "execution_count": 42,
   "id": "882d5831",
   "metadata": {},
   "outputs": [
    {
     "name": "stdout",
     "output_type": "stream",
     "text": [
      "0.0\n"
     ]
    }
   ],
   "source": [
    "defaults = np.seterr(all=\"ignore\")\n",
    "\n",
    "print(0/1)"
   ]
  },
  {
   "cell_type": "markdown",
   "id": "46286b98",
   "metadata": {},
   "source": [
    "#### 32. Is the following expressions true? (★☆☆)\n",
    "```python\n",
    "np.sqrt(-1) == np.emath.sqrt(-1)\n",
    "```"
   ]
  },
  {
   "cell_type": "code",
   "execution_count": 46,
   "id": "35b2ee6a",
   "metadata": {},
   "outputs": [
    {
     "data": {
      "text/plain": [
       "False"
      ]
     },
     "execution_count": 46,
     "metadata": {},
     "output_type": "execute_result"
    }
   ],
   "source": [
    "np.sqrt(-1) == np.emath.sqrt(-1)"
   ]
  },
  {
   "cell_type": "markdown",
   "id": "c19f893b",
   "metadata": {},
   "source": [
    "#### 33. How to get the dates of yesterday, today and tomorrow? (★☆☆)"
   ]
  },
  {
   "cell_type": "code",
   "execution_count": 59,
   "id": "39f552e8",
   "metadata": {},
   "outputs": [
    {
     "name": "stdout",
     "output_type": "stream",
     "text": [
      "2021-06-12 \n",
      " 2021-06-13 \n",
      " 2021-06-14\n"
     ]
    }
   ],
   "source": [
    "yesterday = np.datetime64('today') - np.timedelta64(1)\n",
    "today = np.datetime64('today')\n",
    "tomorrow = np.datetime64('today')+np.timedelta64(1)\n",
    "print(yesterday,\"\\n\",today,\"\\n\",tomorrow)"
   ]
  },
  {
   "cell_type": "markdown",
   "id": "7507fb36",
   "metadata": {},
   "source": [
    "#### 34. How to get all the dates corresponding to the month of July 2016? (★★☆)"
   ]
  },
  {
   "cell_type": "code",
   "execution_count": 68,
   "id": "23c538eb",
   "metadata": {},
   "outputs": [
    {
     "name": "stdout",
     "output_type": "stream",
     "text": [
      "['2016-07-01' '2016-07-02' '2016-07-03' '2016-07-04' '2016-07-05'\n",
      " '2016-07-06' '2016-07-07' '2016-07-08' '2016-07-09' '2016-07-10'\n",
      " '2016-07-11' '2016-07-12' '2016-07-13' '2016-07-14' '2016-07-15'\n",
      " '2016-07-16' '2016-07-17' '2016-07-18' '2016-07-19' '2016-07-20'\n",
      " '2016-07-21' '2016-07-22' '2016-07-23' '2016-07-24' '2016-07-25'\n",
      " '2016-07-26' '2016-07-27' '2016-07-28' '2016-07-29' '2016-07-30'\n",
      " '2016-07-31']\n"
     ]
    }
   ],
   "source": [
    "a = np.arange('2016-07','2016-08',dtype='datetime64[D]')\n",
    "print(a)"
   ]
  },
  {
   "cell_type": "markdown",
   "id": "d62fba94",
   "metadata": {},
   "source": [
    "#### 35. How to compute ((A+B)*(-A/2)) in place (without copy)? (★★☆)"
   ]
  },
  {
   "cell_type": "code",
   "execution_count": 77,
   "id": "b517ffa9",
   "metadata": {},
   "outputs": [
    {
     "data": {
      "text/plain": [
       "array([-1.5, -1.5, -1.5])"
      ]
     },
     "execution_count": 77,
     "metadata": {},
     "output_type": "execute_result"
    }
   ],
   "source": [
    "a = np.ones(3)*1\n",
    "b = np.ones(3)*2\n",
    "np.add(a,b,out=b)\n",
    "np.divide(a,2,out=a)\n",
    "np.negative(a,out=a)\n",
    "np.multiply(a,b,out=a)"
   ]
  },
  {
   "cell_type": "markdown",
   "id": "0593c304",
   "metadata": {},
   "source": [
    "#### 36. Extract the integer part of a random array of positive numbers using 4 different methods (★★☆)"
   ]
  },
  {
   "cell_type": "code",
   "execution_count": 85,
   "id": "9c7ad92e",
   "metadata": {},
   "outputs": [
    {
     "name": "stdout",
     "output_type": "stream",
     "text": [
      "[4.9327233  7.36766897 0.18206145 8.09375904 6.89116581 5.30645926\n",
      " 1.98797437 4.77764189 8.2947848  6.16848943]\n",
      "[4. 7. 0. 8. 6. 5. 1. 4. 8. 6.]\n",
      "[4. 7. 0. 8. 6. 5. 1. 4. 8. 6.]\n",
      "[4 7 0 8 6 5 1 4 8 6]\n",
      "[4. 7. 0. 8. 6. 5. 1. 4. 8. 6.]\n",
      "np.trunc: [4. 7. 0. 8. 6. 5. 1. 4. 8. 6.]\n",
      "[4. 7. 0. 8. 6. 5. 1. 4. 8. 6.]\n"
     ]
    }
   ],
   "source": [
    "a=np.random.uniform(0,10,10)\n",
    "print(a)\n",
    "print(a//1)\n",
    "print(a-a%1)\n",
    "print(a.astype(int))\n",
    "print(np.floor(a))\n",
    "print('np.trunc:',np.trunc(a))\n",
    "print(np.ceil(a)-1)\n"
   ]
  },
  {
   "cell_type": "markdown",
   "id": "e90b042b",
   "metadata": {},
   "source": [
    "#### 37. Create a 5x5 matrix with row values ranging from 0 to 4 (★★☆)"
   ]
  },
  {
   "cell_type": "code",
   "execution_count": 98,
   "id": "7892b4b0",
   "metadata": {},
   "outputs": [
    {
     "name": "stdout",
     "output_type": "stream",
     "text": [
      "[[0. 1. 2. 3. 4.]\n",
      " [0. 1. 2. 3. 4.]\n",
      " [0. 1. 2. 3. 4.]\n",
      " [0. 1. 2. 3. 4.]\n",
      " [0. 1. 2. 3. 4.]]\n",
      "[0 1 2 3 4]\n"
     ]
    }
   ],
   "source": [
    "Z = np.tile(np.arange(0, 5), (5,1))\n",
    "print(Z)"
   ]
  },
  {
   "cell_type": "markdown",
   "id": "a2d7df8e",
   "metadata": {},
   "source": [
    "#### 38. Consider a generator function that generates 10 integers and use it to build an array (★☆☆)"
   ]
  },
  {
   "cell_type": "markdown",
   "id": "da8738f5",
   "metadata": {},
   "source": [
    "# Nothing Here"
   ]
  },
  {
   "cell_type": "markdown",
   "id": "064c68c0",
   "metadata": {},
   "source": [
    "#### 39. Create a vector of size 10 with values ranging from 0 to 1, both excluded (★★☆)"
   ]
  },
  {
   "cell_type": "code",
   "execution_count": 17,
   "id": "a179d69e",
   "metadata": {},
   "outputs": [
    {
     "name": "stdout",
     "output_type": "stream",
     "text": [
      "[0.09090909 0.18181818 0.27272727 0.36363636 0.45454545 0.54545455\n",
      " 0.63636364 0.72727273 0.81818182 0.90909091]\n"
     ]
    }
   ],
   "source": [
    "import numpy as np\n",
    "a = np.linspace(0,1,11,endpoint=False)[1:]\n",
    "print(a)"
   ]
  },
  {
   "cell_type": "markdown",
   "id": "5682b5b3",
   "metadata": {},
   "source": [
    "#### 40. Create a random vector of size 10 and sort it (★★☆)"
   ]
  },
  {
   "cell_type": "code",
   "execution_count": 23,
   "id": "f5e5b511",
   "metadata": {},
   "outputs": [
    {
     "name": "stdout",
     "output_type": "stream",
     "text": [
      "[0 2 3 3 3 4 5 8 8 9]\n"
     ]
    }
   ],
   "source": [
    "a= np.random.randint(0,10,10)\n",
    "\n",
    "a.sort()\n",
    "print(a)\n"
   ]
  },
  {
   "cell_type": "markdown",
   "id": "c8831686",
   "metadata": {},
   "source": [
    "#### 41. How to sum a small array faster than np.sum? (★★☆)"
   ]
  },
  {
   "cell_type": "code",
   "execution_count": 31,
   "id": "31c6ec4d",
   "metadata": {},
   "outputs": [
    {
     "name": "stdout",
     "output_type": "stream",
     "text": [
      "1783293664\n",
      "0.0010066032409667969\n"
     ]
    }
   ],
   "source": [
    "import time\n",
    "\n",
    "a=np.arange(1000000)\n",
    "s=time.time()\n",
    "print(np.add.reduce(a))\n",
    "e=time.time()\n",
    "print(e-s)\n"
   ]
  },
  {
   "cell_type": "markdown",
   "id": "c39eed1e",
   "metadata": {},
   "source": [
    "#### 42. Consider two random array A and B, check if they are equal (★★☆)"
   ]
  },
  {
   "cell_type": "markdown",
   "id": "a94cda33",
   "metadata": {},
   "source": [
    "# need to know more\n",
    "a=np.arange(0,10,10)\n",
    "b=np.arange(0,10,10)\n",
    "equal = np.allclose(a,b)\n",
    "print(np.array_equal(a,b))\n",
    "print(equal)"
   ]
  },
  {
   "cell_type": "markdown",
   "id": "ffafa4aa",
   "metadata": {},
   "source": [
    "#### 43. Make an array immutable (read-only) (★★☆)"
   ]
  },
  {
   "cell_type": "code",
   "execution_count": 50,
   "id": "c237c0d2",
   "metadata": {},
   "outputs": [
    {
     "ename": "ValueError",
     "evalue": "assignment destination is read-only",
     "output_type": "error",
     "traceback": [
      "\u001b[1;31m---------------------------------------------------------------------------\u001b[0m",
      "\u001b[1;31mValueError\u001b[0m                                Traceback (most recent call last)",
      "\u001b[1;32m<ipython-input-50-dcc33b3e663d>\u001b[0m in \u001b[0;36m<module>\u001b[1;34m\u001b[0m\n\u001b[0;32m      1\u001b[0m \u001b[0ma\u001b[0m \u001b[1;33m=\u001b[0m \u001b[0mnp\u001b[0m\u001b[1;33m.\u001b[0m\u001b[0mones\u001b[0m\u001b[1;33m(\u001b[0m\u001b[1;33m(\u001b[0m\u001b[1;36m5\u001b[0m\u001b[1;33m,\u001b[0m\u001b[1;36m5\u001b[0m\u001b[1;33m)\u001b[0m\u001b[1;33m)\u001b[0m\u001b[1;33m\u001b[0m\u001b[1;33m\u001b[0m\u001b[0m\n\u001b[0;32m      2\u001b[0m \u001b[0ma\u001b[0m\u001b[1;33m.\u001b[0m\u001b[0mflags\u001b[0m\u001b[1;33m.\u001b[0m\u001b[0mwriteable\u001b[0m\u001b[1;33m=\u001b[0m\u001b[1;32mFalse\u001b[0m\u001b[1;33m\u001b[0m\u001b[1;33m\u001b[0m\u001b[0m\n\u001b[1;32m----> 3\u001b[1;33m \u001b[0ma\u001b[0m\u001b[1;33m[\u001b[0m\u001b[1;36m0\u001b[0m\u001b[1;33m:\u001b[0m\u001b[1;36m0\u001b[0m\u001b[1;33m]\u001b[0m\u001b[1;33m=\u001b[0m\u001b[1;36m8\u001b[0m\u001b[1;33m\u001b[0m\u001b[1;33m\u001b[0m\u001b[0m\n\u001b[0m",
      "\u001b[1;31mValueError\u001b[0m: assignment destination is read-only"
     ]
    }
   ],
   "source": [
    "a = np.ones((5,5))\n",
    "a.flags.writeable=False\n"
   ]
  },
  {
   "cell_type": "markdown",
   "id": "86886e5e",
   "metadata": {},
   "source": [
    "#### 44. Consider a random 10x2 matrix representing cartesian coordinates, convert them to polar coordinates (★★☆)"
   ]
  },
  {
   "cell_type": "code",
   "execution_count": 54,
   "id": "5146f04c",
   "metadata": {},
   "outputs": [
    {
     "name": "stdout",
     "output_type": "stream",
     "text": [
      "[0.54866613 0.80667498 0.57216111 1.0801642  0.80237165 1.05521214\n",
      " 0.6418922  1.19523042 0.80805835 1.0875518 ]\n",
      "[0.50181855 0.67879782 0.51969816 0.82391654 0.6761854  0.81225615\n",
      " 0.5706544  0.87409871 0.67963529 0.82731354]\n"
     ]
    }
   ],
   "source": [
    "a = np.random.random((10,2))\n",
    "x,y=a[:,0],a[:,1]\n",
    "\n",
    "r = np.sqrt(x**2 + y**2)\n",
    "t = np.arctan(r)\n",
    "print(r)\n",
    "print(t)"
   ]
  },
  {
   "cell_type": "markdown",
   "id": "50740a46",
   "metadata": {},
   "source": [
    "#### 45. Create random vector of size 10 and replace the maximum value by 0 (★★☆)"
   ]
  },
  {
   "cell_type": "code",
   "execution_count": 58,
   "id": "2c11ffdd",
   "metadata": {},
   "outputs": [
    {
     "name": "stdout",
     "output_type": "stream",
     "text": [
      "[0.7175006  0.00955616 0.60092442 0.95231297 0.81218159 0.12089039\n",
      " 0.45318634 0.66459102 0.29323973 0.76613851]\n",
      "[0.7175006  0.00955616 0.60092442 0.         0.81218159 0.12089039\n",
      " 0.45318634 0.66459102 0.29323973 0.76613851]\n"
     ]
    }
   ],
   "source": [
    "a = np.random.random(10)\n",
    "print(a)\n",
    "a[a.argmax()]=0\n",
    "print(a)"
   ]
  },
  {
   "cell_type": "markdown",
   "id": "5979e3ee",
   "metadata": {},
   "source": [
    "#### 46. Create a structured array with `x` and `y` coordinates covering the [0,1]x[0,1] area (★★☆)"
   ]
  },
  {
   "cell_type": "markdown",
   "id": "2a266fe6",
   "metadata": {},
   "source": [
    "# question not understand"
   ]
  },
  {
   "cell_type": "markdown",
   "id": "cd53abc3",
   "metadata": {},
   "source": [
    "#### 47. Given two arrays, X and Y, construct the Cauchy matrix C (Cij =1/(xi - yj))"
   ]
  },
  {
   "cell_type": "code",
   "execution_count": 64,
   "id": "2d14d9b7",
   "metadata": {},
   "outputs": [
    {
     "name": "stdout",
     "output_type": "stream",
     "text": [
      "[[-2.         -0.66666667 -0.4        -0.28571429 -0.22222222 -0.18181818\n",
      "  -0.15384615 -0.13333333]\n",
      " [ 2.         -2.         -0.66666667 -0.4        -0.28571429 -0.22222222\n",
      "  -0.18181818 -0.15384615]\n",
      " [ 0.66666667  2.         -2.         -0.66666667 -0.4        -0.28571429\n",
      "  -0.22222222 -0.18181818]\n",
      " [ 0.4         0.66666667  2.         -2.         -0.66666667 -0.4\n",
      "  -0.28571429 -0.22222222]\n",
      " [ 0.28571429  0.4         0.66666667  2.         -2.         -0.66666667\n",
      "  -0.4        -0.28571429]\n",
      " [ 0.22222222  0.28571429  0.4         0.66666667  2.         -2.\n",
      "  -0.66666667 -0.4       ]\n",
      " [ 0.18181818  0.22222222  0.28571429  0.4         0.66666667  2.\n",
      "  -2.         -0.66666667]\n",
      " [ 0.15384615  0.18181818  0.22222222  0.28571429  0.4         0.66666667\n",
      "   2.         -2.        ]]\n"
     ]
    },
    {
     "data": {
      "text/plain": [
       "3638.1636371179666"
      ]
     },
     "execution_count": 64,
     "metadata": {},
     "output_type": "execute_result"
    }
   ],
   "source": [
    "X = np.arange(8)\n",
    "Y = X + 0.5\n",
    "C = 1.0 / np.subtract.outer(X, Y)\n",
    "print(C)\n",
    "np.linalg.det(C)"
   ]
  },
  {
   "cell_type": "markdown",
   "id": "37875f0d",
   "metadata": {},
   "source": [
    "#### 48. Print the minimum and maximum representable value for each numpy scalar type (★★☆)"
   ]
  },
  {
   "cell_type": "code",
   "execution_count": 69,
   "id": "1578e3fa",
   "metadata": {},
   "outputs": [
    {
     "name": "stdout",
     "output_type": "stream",
     "text": [
      "-128\n",
      "127\n",
      "-2147483648\n",
      "2147483647\n",
      "-9223372036854775808\n",
      "9223372036854775807\n",
      "-3.4028235e+38\n",
      "3.4028235e+38\n",
      "1.1920929e-07\n",
      "-1.7976931348623157e+308\n",
      "1.7976931348623157e+308\n",
      "2.220446049250313e-16\n"
     ]
    }
   ],
   "source": [
    "for dtype in [np.int8, np.int32, np.int64]:\n",
    "   print(np.iinfo(dtype).min)\n",
    "   print(np.iinfo(dtype).max)\n",
    "for dtype in [np.float32, np.float64]:\n",
    "   print(np.finfo(dtype).min)\n",
    "   print(np.finfo(dtype).max)\n",
    "   print(np.finfo(dtype).eps)\n"
   ]
  },
  {
   "cell_type": "markdown",
   "id": "aa4ce1fd",
   "metadata": {},
   "source": [
    "#### 49. How to print all the values of an array? (★★☆)"
   ]
  },
  {
   "cell_type": "code",
   "execution_count": null,
   "id": "4f1e9847",
   "metadata": {},
   "outputs": [],
   "source": [
    "#np.set_printoptions(threshold=float(\"inf\"))\n",
    "a = np.ones((40,40))\n",
    "print(a)"
   ]
  },
  {
   "cell_type": "markdown",
   "id": "ae637202",
   "metadata": {},
   "source": [
    "#### 50. How to find the closest value (to a given scalar) in a vector? (★★☆)"
   ]
  },
  {
   "cell_type": "code",
   "execution_count": 81,
   "id": "c4546e5c",
   "metadata": {},
   "outputs": [
    {
     "name": "stdout",
     "output_type": "stream",
     "text": [
      "17\n"
     ]
    }
   ],
   "source": [
    "Z = np.arange(100)\n",
    "\n",
    "v = np.random.uniform(0,100)\n",
    "\n",
    "index = (np.abs(Z-v)).argmin()\n",
    "print(Z[index])"
   ]
  },
  {
   "cell_type": "markdown",
   "id": "93157464",
   "metadata": {},
   "source": [
    "#### 51. Create a structured array representing a position (x,y) and a color (r,g,b) (★★☆)"
   ]
  },
  {
   "cell_type": "code",
   "execution_count": 83,
   "id": "69c4b979",
   "metadata": {},
   "outputs": [
    {
     "name": "stdout",
     "output_type": "stream",
     "text": [
      "[((0., 0.), ([0., 0.], 0., 0.)) ((0., 0.), ([0., 0.], 0., 0.))\n",
      " ((0., 0.), ([0., 0.], 0., 0.)) ((0., 0.), ([0., 0.], 0., 0.))\n",
      " ((0., 0.), ([0., 0.], 0., 0.)) ((0., 0.), ([0., 0.], 0., 0.))\n",
      " ((0., 0.), ([0., 0.], 0., 0.)) ((0., 0.), ([0., 0.], 0., 0.))\n",
      " ((0., 0.), ([0., 0.], 0., 0.)) ((0., 0.), ([0., 0.], 0., 0.))]\n"
     ]
    },
    {
     "name": "stderr",
     "output_type": "stream",
     "text": [
      "<ipython-input-83-0a33d1bb074a>:1: FutureWarning: Passing (type, 1) or '1type' as a synonym of type is deprecated; in a future version of numpy, it will be understood as (type, (1,)) / '(1,)type'.\n",
      "  Z = np.zeros(10, [ ('position', [ ('x', float, 1),\n"
     ]
    }
   ],
   "source": [
    "Z = np.zeros(10, [ ('position', [ ('x', float, 1),\n",
    "                                  ('y', float, 1)]),\n",
    "                   ('color',    [ ('r', float, 2),\n",
    "                                  ('g', float, 1),\n",
    "                                  ('b', float, 1)])])\n",
    "print(Z)"
   ]
  },
  {
   "cell_type": "markdown",
   "id": "07ebafa2",
   "metadata": {},
   "source": [
    "#### 52. Consider a random vector with shape (100,2) representing coordinates, find point by point distances (★★☆)"
   ]
  },
  {
   "cell_type": "code",
   "execution_count": 96,
   "id": "2db3c3e5",
   "metadata": {},
   "outputs": [
    {
     "name": "stdout",
     "output_type": "stream",
     "text": [
      "[[ 0.          7.          9.8488578   7.28010989  7.07106781  5.\n",
      "   8.48528137  8.06225775  9.48683298  5.38516481  5.38516481  5.65685425\n",
      "   3.60555128  7.          3.16227766  9.21954446  6.08276253  6.70820393\n",
      "   5.38516481  5.          4.24264069  7.28010989 10.29563014  5.09901951\n",
      "   2.          7.07106781  3.60555128  3.          7.61577311  6.32455532\n",
      "   8.06225775  6.32455532  2.82842712  6.08276253  1.          9.43398113\n",
      "   8.06225775  2.          9.43398113  7.07106781  9.21954446  4.47213595\n",
      "   7.28010989  9.          7.81024968  2.23606798  8.60232527  9.21954446\n",
      "   5.          5.09901951  4.47213595  5.09901951  9.05538514  5.38516481\n",
      "   5.38516481  8.24621125 10.63014581  8.06225775  8.54400375  2.\n",
      "   4.47213595  2.82842712  6.          5.09901951  7.07106781  6.32455532\n",
      "   7.          6.40312424  8.54400375  3.60555128  5.          1.41421356\n",
      "   7.28010989  5.          7.61577311  5.83095189  8.06225775  7.28010989\n",
      "   2.          4.12310563  4.          9.8488578   3.16227766  9.8488578\n",
      "   5.38516481  5.83095189  5.09901951  6.          9.21954446  2.23606798\n",
      "   5.38516481  8.06225775 10.63014581  9.21954446  7.28010989  7.\n",
      "   8.60232527  5.83095189  4.47213595  9.48683298]\n",
      " [ 7.          0.          9.48683298 11.40175425  1.          5.65685425\n",
      "   6.08276253  4.          9.8488578  10.29563014  2.82842712  5.\n",
      "   9.48683298  9.89949494  6.70820393  6.          1.41421356  7.21110255\n",
      "   2.82842712  2.          5.          8.60232527  9.21954446  9.43398113\n",
      "   5.          9.21954446  5.83095189  4.          3.          2.23606798\n",
      "  10.         10.81665383  9.21954446 10.          8.          8.24621125\n",
      "  11.3137085   7.28010989  8.24621125  1.          6.          6.40312424\n",
      "  11.40175425 11.40175425  5.09901951  5.09901951  5.          6.\n",
      "   8.60232527  2.23606798  9.8488578   9.43398113 10.81665383 10.29563014\n",
      "   7.07106781 12.04159458  8.         10.          8.94427191  9.\n",
      "   9.8488578   9.21954446  9.21954446  9.43398113 10.63014581 10.81665383\n",
      "   0.          4.47213595  8.94427191  4.47213595  2.          6.08276253\n",
      "  11.40175425  5.65685425  3.          6.40312424 11.3137085  11.40175425\n",
      "   9.          3.16227766  8.06225775  9.48683298  6.70820393  9.48683298\n",
      "   7.07106781  6.40312424  9.43398113  9.21954446  6.          9.05538514\n",
      "   7.07106781  7.61577311  8.         12.72792206  8.60232527  0.\n",
      "   5.          6.40312424  9.8488578   9.8488578 ]\n",
      " [ 9.8488578   9.48683298  0.          6.32455532  8.54400375  5.09901951\n",
      "   3.60555128  5.83095189  1.          7.21110255  7.07106781  5.\n",
      "   8.48528137  4.47213595  6.70820393  4.24264069  8.24621125  3.16227766\n",
      "   7.07106781  9.05538514  6.08276253  2.82842712  1.          6.40312424\n",
      "   9.21954446  3.60555128  6.32455532  9.05538514  6.70820393  7.28010989\n",
      "   3.16227766  6.70820393  9.21954446  5.83095189 10.29563014  1.41421356\n",
      "   5.09901951  8.06225775  1.41421356  8.54400375  4.24264069  5.38516481\n",
      "   6.32455532  4.          4.47213595  8.24621125  5.          4.24264069\n",
      "   5.65685425  8.06225775  7.81024968  6.40312424  3.          7.21110255\n",
      "   4.47213595  6.08276253  3.16227766  3.16227766  1.41421356 10.81665383\n",
      "   7.81024968  9.21954446  5.          6.40312424  5.38516481  6.70820393\n",
      "   9.48683298  5.09901951  1.41421356  7.07106781  9.05538514  8.54400375\n",
      "   6.32455532  5.09901951  6.70820393  4.12310563  5.09901951  6.32455532\n",
      "  10.81665383  8.          6.40312424  0.          6.70820393  0.\n",
      "   4.47213595  4.12310563  6.40312424  5.          4.24264069 10.\n",
      "   4.47213595  2.          3.16227766  6.          2.82842712  9.48683298\n",
      "   5.          4.12310563  7.81024968  1.        ]\n",
      " [ 7.28010989 11.40175425  6.32455532  0.         10.81665383  5.83095189\n",
      "   8.06225775  9.48683298  5.38516481  2.          8.60232527  6.70820393\n",
      "   4.          2.          5.          9.05538514 10.          5.09901951\n",
      "   8.60232527  9.89949494  6.40312424  4.          7.28010989  2.23606798\n",
      "   8.06225775  3.          5.65685425  8.60232527  9.8488578   9.43398113\n",
      "   3.16227766  1.          5.          1.41421356  7.07106781  7.07106781\n",
      "   1.41421356  5.38516481  7.07106781 10.81665383  9.05538514  5.\n",
      "   0.          2.82842712  8.24621125  7.21110255  9.21954446  9.05538514\n",
      "   2.82842712  9.21954446  3.          2.23606798  3.60555128  2.\n",
      "   4.47213595  1.          9.05538514  3.16227766  5.09901951  7.\n",
      "   3.          5.          2.23606798  2.23606798  1.          1.\n",
      "  11.40175425  7.61577311  5.09901951  7.07106781  9.89949494  6.70820393\n",
      "   0.          5.83095189  9.8488578   5.38516481  1.41421356  0.\n",
      "   7.          8.48528137  3.60555128  6.32455532  5.          6.32455532\n",
      "   4.47213595  5.38516481  2.23606798  2.23606798  9.05538514  6.\n",
      "   4.47213595  6.          9.05538514  2.          4.         11.40175425\n",
      "   9.21954446  5.38516481  3.          5.38516481]\n",
      " [ 7.07106781  1.          8.54400375 10.81665383  0.          5.\n",
      "   5.09901951  3.          8.94427191  9.8488578   2.23606798  4.24264069\n",
      "   9.21954446  9.21954446  6.32455532  5.          1.          6.40312424\n",
      "   2.23606798  2.23606798  4.47213595  7.81024968  8.24621125  8.94427191\n",
      "   5.09901951  8.48528137  5.38516481  4.12310563  2.          1.41421356\n",
      "   9.21954446 10.29563014  9.05538514  9.43398113  8.06225775  7.28010989\n",
      "  10.63014581  7.07106781  7.28010989  0.          5.          5.83095189\n",
      "  10.81665383 10.63014581  4.12310563  5.          4.          5.\n",
      "   8.06225775  2.          9.48683298  8.94427191 10.          9.8488578\n",
      "   6.40312424 11.40175425  7.          9.21954446  8.06225775  9.05538514\n",
      "   9.48683298  9.05538514  8.60232527  8.94427191 10.         10.29563014\n",
      "   1.          3.60555128  8.06225775  4.12310563  2.23606798  6.\n",
      "  10.81665383  5.          2.          5.65685425 10.63014581 10.81665383\n",
      "   9.05538514  3.          7.61577311  8.54400375  6.32455532  8.54400375\n",
      "   6.40312424  5.65685425  8.94427191  8.60232527  5.          9.\n",
      "   6.40312424  6.70820393  7.         12.04159458  7.81024968  1.\n",
      "   4.          5.65685425  9.48683298  8.94427191]\n",
      " [ 5.          5.65685425  5.09901951  5.83095189  5.          0.\n",
      "   3.60555128  4.          5.          5.09901951  2.82842712  1.\n",
      "   5.09901951  4.24264069  2.23606798  4.47213595  4.24264069  2.\n",
      "   2.82842712  4.47213595  1.          3.16227766  5.38516481  4.12310563\n",
      "   4.12310563  3.60555128  1.41421356  4.          4.12310563  3.60555128\n",
      "   4.47213595  5.38516481  5.38516481  4.47213595  5.65685425  4.47213595\n",
      "   5.65685425  3.60555128  4.47213595  5.          4.47213595  1.\n",
      "   5.83095189  5.83095189  3.16227766  3.16227766  4.12310563  4.47213595\n",
      "   3.16227766  3.60555128  5.          4.12310563  5.38516481  5.09901951\n",
      "   1.41421356  6.40312424  5.65685425  4.47213595  4.          6.40312424\n",
      "   5.          5.38516481  3.60555128  4.12310563  5.          5.38516481\n",
      "   5.65685425  2.          4.          2.          4.47213595  3.60555128\n",
      "   5.83095189  0.          4.12310563  1.          5.65685425  5.83095189\n",
      "   6.40312424  3.16227766  3.          5.09901951  2.23606798  5.09901951\n",
      "   1.41421356  1.          4.12310563  3.60555128  4.47213595  5.83095189\n",
      "   1.41421356  3.16227766  5.65685425  7.07106781  3.16227766  5.65685425\n",
      "   4.12310563  1.          5.          5.        ]\n",
      " [ 8.48528137  6.08276253  3.60555128  8.06225775  5.09901951  3.60555128\n",
      "   0.          2.23606798  4.24264069  8.06225775  4.12310563  2.82842712\n",
      "   8.54400375  6.08276253  5.83095189  1.          5.          3.\n",
      "   4.12310563  6.08276253  4.24264069  4.12310563  3.16227766  7.07106781\n",
      "   7.21110255  5.09901951  5.          6.70820393  3.16227766  4.\n",
      "   5.38516481  8.          8.94427191  7.          9.21954446  2.23606798\n",
      "   7.28010989  7.21110255  2.23606798  5.09901951  1.          4.47213595\n",
      "   8.06225775  6.70820393  1.          6.40312424  1.41421356  1.\n",
      "   6.08276253  5.09901951  8.24621125  7.07106781  5.83095189  8.06225775\n",
      "   4.12310563  8.24621125  2.23606798  5.38516481  3.60555128 10.\n",
      "   8.24621125  8.94427191  6.          7.07106781  7.07106781  8.\n",
      "   6.08276253  2.23606798  3.60555128  5.          6.08276253  7.07106781\n",
      "   8.06225775  3.60555128  3.16227766  3.16227766  7.28010989  8.06225775\n",
      "  10.          5.38516481  6.32455532  3.60555128  5.83095189  3.60555128\n",
      "   4.12310563  3.16227766  7.07106781  6.          1.          9.43398113\n",
      "   4.12310563  2.23606798  2.23606798  8.54400375  4.12310563  6.08276253\n",
      "   1.41421356  3.16227766  8.24621125  4.24264069]\n",
      " [ 8.06225775  4.          5.83095189  9.48683298  3.          4.\n",
      "   2.23606798  0.          6.40312424  9.05538514  2.82842712  3.\n",
      "   9.05538514  7.61577311  6.08276253  2.          3.16227766  4.47213595\n",
      "   2.82842712  4.47213595  4.12310563  5.83095189  5.38516481  8.06225775\n",
      "   6.40312424  6.70820393  5.09901951  5.65685425  1.          2.23606798\n",
      "   7.21110255  9.21954446  9.21954446  8.24621125  8.94427191  4.47213595\n",
      "   8.94427191  7.28010989  4.47213595  3.          2.          5.\n",
      "   9.48683298  8.60232527  1.41421356  5.83095189  1.          2.\n",
      "   7.07106781  3.60555128  9.          8.06225775  7.81024968  9.05538514\n",
      "   5.09901951  9.8488578   4.          7.21110255  5.65685425  9.8488578\n",
      "   9.          9.21954446  7.28010989  8.06225775  8.54400375  9.21954446\n",
      "   4.          2.          5.65685425  4.47213595  4.47213595  6.70820393\n",
      "   9.48683298  4.          1.          4.12310563  8.94427191  9.48683298\n",
      "   9.8488578   4.24264069  7.          5.83095189  6.08276253  5.83095189\n",
      "   5.09901951  4.12310563  8.06225775  7.28010989  2.          9.48683298\n",
      "   5.09901951  4.24264069  4.         10.29563014  5.83095189  4.\n",
      "   1.          4.12310563  9.          6.40312424]\n",
      " [ 9.48683298  9.8488578   1.          5.38516481  8.94427191  5.\n",
      "   4.24264069  6.40312424  0.          6.40312424  7.28010989  5.09901951\n",
      "   7.81024968  3.60555128  6.32455532  5.          8.54400375  3.\n",
      "   7.28010989  9.21954446  6.          2.23606798  2.          5.65685425\n",
      "   9.05538514  2.82842712  6.08276253  9.          7.21110255  7.61577311\n",
      "   2.23606798  5.83095189  8.60232527  5.          9.8488578   2.23606798\n",
      "   4.12310563  7.61577311  2.23606798  8.94427191  5.          5.09901951\n",
      "   5.38516481  3.          5.          8.06225775  5.65685425  5.\n",
      "   5.          8.24621125  7.07106781  5.65685425  2.          6.40312424\n",
      "   4.12310563  5.09901951  4.12310563  2.23606798  1.         10.29563014\n",
      "   7.07106781  8.60232527  4.24264069  5.65685425  4.47213595  5.83095189\n",
      "   9.8488578   5.38516481  1.          7.          9.21954446  8.24621125\n",
      "   5.38516481  5.          7.21110255  4.          4.12310563  5.38516481\n",
      "  10.29563014  8.06225775  5.83095189  1.          6.32455532  1.\n",
      "   4.12310563  4.          5.65685425  4.24264069  5.          9.43398113\n",
      "   4.12310563  2.23606798  4.12310563  5.          2.23606798  9.8488578\n",
      "   5.65685425  4.          7.07106781  0.        ]\n",
      " [ 5.38516481 10.29563014  7.21110255  2.          9.8488578   5.09901951\n",
      "   8.06225775  9.05538514  6.40312424  0.          7.61577311  6.08276253\n",
      "   2.          2.82842712  3.60555128  9.05538514  8.94427191  5.09901951\n",
      "   7.61577311  8.60232527  5.38516481  4.47213595  8.06225775  1.\n",
      "   6.40312424  3.60555128  4.47213595  7.07106781  9.21954446  8.54400375\n",
      "   4.24264069  1.          3.          1.41421356  5.09901951  7.61577311\n",
      "   3.16227766  3.60555128  7.61577311  9.8488578   9.05538514  4.12310563\n",
      "   2.          4.47213595  8.          5.65685425  9.          9.05538514\n",
      "   2.          8.06225775  1.          1.          5.          0.\n",
      "   4.          3.          9.48683298  4.24264069  5.83095189  5.\n",
      "   1.          3.          2.23606798  1.          2.23606798  1.\n",
      "  10.29563014  7.07106781  5.83095189  5.83095189  8.60232527  5.\n",
      "   2.          5.09901951  9.21954446  5.          3.16227766  2.\n",
      "   5.          7.21110255  2.23606798  7.21110255  3.60555128  7.21110255\n",
      "   4.          5.          1.          2.23606798  9.05538514  4.\n",
      "   4.          6.32455532  9.48683298  4.          4.47213595 10.29563014\n",
      "   9.          5.          1.          6.40312424]\n",
      " [ 5.38516481  2.82842712  7.07106781  8.60232527  2.23606798  2.82842712\n",
      "   4.12310563  2.82842712  7.28010989  7.61577311  0.          2.23606798\n",
      "   7.07106781  7.07106781  4.12310563  4.47213595  1.41421356  4.47213595\n",
      "   0.          2.          2.23606798  5.83095189  7.          6.70820393\n",
      "   3.60555128  6.40312424  3.16227766  2.82842712  2.23606798  1.\n",
      "   7.21110255  8.06225775  7.          7.21110255  6.32455532  6.\n",
      "   8.48528137  5.          6.          2.23606798  4.47213595  3.60555128\n",
      "   8.60232527  8.60232527  3.16227766  3.16227766  3.60555128  4.47213595\n",
      "   5.83095189  1.          7.28010989  6.70820393  8.06225775  7.61577311\n",
      "   4.24264069  9.21954446  6.32455532  7.21110255  6.32455532  7.28010989\n",
      "   7.28010989  7.          6.40312424  6.70820393  7.81024968  8.06225775\n",
      "   2.82842712  2.          6.32455532  2.          2.          4.12310563\n",
      "   8.60232527  2.82842712  2.23606798  3.60555128  8.48528137  8.60232527\n",
      "   7.28010989  1.41421356  5.38516481  7.07106781  4.12310563  7.07106781\n",
      "   4.24264069  3.60555128  6.70820393  6.40312424  4.47213595  7.07106781\n",
      "   4.24264069  5.09901951  6.32455532  9.89949494  5.83095189  2.82842712\n",
      "   3.60555128  3.60555128  7.28010989  7.28010989]\n",
      " [ 5.65685425  5.          5.          6.70820393  4.24264069  1.\n",
      "   2.82842712  3.          5.09901951  6.08276253  2.23606798  0.\n",
      "   6.08276253  5.          3.16227766  3.60555128  3.60555128  2.23606798\n",
      "   2.23606798  4.12310563  1.41421356  3.60555128  5.09901951  5.09901951\n",
      "   4.47213595  4.24264069  2.23606798  4.12310563  3.16227766  2.82842712\n",
      "   5.          6.32455532  6.32455532  5.38516481  6.40312424  4.12310563\n",
      "   6.40312424  4.47213595  4.12310563  4.24264069  3.60555128  2.\n",
      "   6.70820393  6.40312424  2.23606798  3.60555128  3.16227766  3.60555128\n",
      "   4.12310563  3.16227766  6.          5.09901951  5.83095189  6.08276253\n",
      "   2.23606798  7.21110255  5.          5.          4.12310563  7.21110255\n",
      "   6.          6.32455532  4.47213595  5.09901951  5.83095189  6.32455532\n",
      "   5.          1.          4.12310563  2.23606798  4.12310563  4.24264069\n",
      "   6.70820393  1.          3.16227766  1.41421356  6.40312424  6.70820393\n",
      "   7.21110255  3.          4.          5.          3.16227766  5.\n",
      "   2.23606798  1.41421356  5.09901951  4.47213595  3.60555128  6.70820393\n",
      "   2.23606798  3.          5.          7.81024968  3.60555128  5.\n",
      "   3.16227766  1.41421356  6.          5.09901951]\n",
      " [ 3.60555128  9.48683298  8.48528137  4.          9.21954446  5.09901951\n",
      "   8.54400375  9.05538514  7.81024968  2.          7.07106781  6.08276253\n",
      "   0.          4.47213595  3.          9.48683298  8.24621125  5.83095189\n",
      "   7.07106781  7.61577311  5.          5.65685425  9.21954446  2.23606798\n",
      "   5.          5.          4.          5.83095189  9.          8.06225775\n",
      "   5.83095189  3.          1.          3.16227766  3.16227766  8.60232527\n",
      "   5.09901951  2.23606798  8.60232527  9.21954446  9.48683298  4.12310563\n",
      "   4.          6.32455532  8.24621125  4.47213595  9.21954446  9.48683298\n",
      "   2.82842712  7.28010989  1.          2.23606798  6.70820393  2.\n",
      "   4.47213595  5.         10.29563014  5.83095189  7.07106781  3.\n",
      "   1.          1.          3.60555128  2.23606798  4.12310563  3.\n",
      "   9.48683298  7.07106781  7.07106781  5.09901951  7.61577311  3.60555128\n",
      "   4.          5.09901951  9.          5.38516481  5.09901951  4.\n",
      "   3.          6.32455532  2.23606798  8.48528137  3.          8.48528137\n",
      "   4.47213595  5.38516481  2.23606798  3.60555128  9.48683298  2.\n",
      "   4.47213595  7.21110255 10.29563014  6.          5.65685425  9.48683298\n",
      "   9.21954446  5.38516481  1.          7.81024968]\n",
      " [ 7.          9.89949494  4.47213595  2.          9.21954446  4.24264069\n",
      "   6.08276253  7.61577311  3.60555128  2.82842712  7.07106781  5.\n",
      "   4.47213595  0.          4.12310563  7.07106781  8.48528137  3.16227766\n",
      "   7.07106781  8.60232527  5.          2.          5.38516481  2.23606798\n",
      "   7.28010989  1.          4.47213595  7.61577311  8.06225775  7.81024968\n",
      "   1.41421356  2.23606798  5.38516481  1.41421356  7.07106781  5.09901951\n",
      "   1.41421356  5.          5.09901951  9.21954446  7.07106781  3.60555128\n",
      "   2.          2.          6.32455532  6.32455532  7.28010989  7.07106781\n",
      "   2.          7.81024968  3.60555128  2.23606798  2.23606798  2.82842712\n",
      "   2.82842712  2.23606798  7.07106781  1.41421356  3.16227766  7.28010989\n",
      "   3.60555128  5.38516481  1.          2.23606798  1.          2.23606798\n",
      "   9.89949494  5.83095189  3.16227766  5.83095189  8.60232527  6.08276253\n",
      "   2.          4.24264069  8.06225775  3.60555128  1.41421356  2.\n",
      "   7.28010989  7.21110255  3.          4.47213595  4.12310563  4.47213595\n",
      "   2.82842712  3.60555128  2.23606798  1.          7.07106781  6.32455532\n",
      "   2.82842712  4.          7.07106781  2.82842712  2.          9.89949494\n",
      "   7.28010989  3.60555128  3.60555128  3.60555128]\n",
      " [ 3.16227766  6.70820393  6.70820393  5.          6.32455532  2.23606798\n",
      "   5.83095189  6.08276253  6.32455532  3.60555128  4.12310563  3.16227766\n",
      "   3.          4.12310563  0.          6.70820393  5.38516481  3.60555128\n",
      "   4.12310563  5.          2.          4.12310563  7.21110255  2.82842712\n",
      "   3.16227766  4.          1.          3.60555128  6.          5.09901951\n",
      "   5.          4.24264069  3.16227766  3.60555128  3.60555128  6.40312424\n",
      "   5.38516481  1.41421356  6.40312424  6.32455532  6.70820393  1.41421356\n",
      "   5.          6.08276253  5.38516481  2.23606798  6.32455532  6.70820393\n",
      "   2.23606798  4.47213595  3.16227766  2.82842712  6.          3.60555128\n",
      "   2.23606798  5.83095189  7.81024968  5.          5.38516481  4.24264069\n",
      "   3.16227766  3.16227766  3.16227766  2.82842712  4.47213595  4.24264069\n",
      "   6.70820393  4.12310563  5.38516481  2.23606798  5.          2.\n",
      "   5.          2.23606798  6.          2.82842712  5.38516481  5.\n",
      "   4.24264069  3.60555128  1.41421356  6.70820393  0.          6.70820393\n",
      "   2.23606798  2.82842712  2.82842712  3.16227766  6.70820393  3.60555128\n",
      "   2.23606798  5.          7.81024968  6.70820393  4.12310563  6.70820393\n",
      "   6.32455532  2.82842712  3.16227766  6.32455532]\n",
      " [ 9.21954446  6.          4.24264069  9.05538514  5.          4.47213595\n",
      "   1.          2.          5.          9.05538514  4.47213595  3.60555128\n",
      "   9.48683298  7.07106781  6.70820393  0.          5.09901951  4.\n",
      "   4.47213595  6.32455532  5.          5.09901951  3.60555128  8.06225775\n",
      "   7.81024968  6.08276253  5.83095189  7.21110255  3.          4.12310563\n",
      "   6.32455532  9.          9.8488578   8.         10.          2.82842712\n",
      "   8.24621125  8.06225775  2.82842712  5.          0.          5.38516481\n",
      "   9.05538514  7.61577311  1.41421356  7.07106781  1.          0.\n",
      "   7.07106781  5.38516481  9.21954446  8.06225775  6.70820393  9.05538514\n",
      "   5.09901951  9.21954446  2.          6.32455532  4.47213595 10.81665383\n",
      "   9.21954446  9.8488578   7.          8.06225775  8.06225775  9.\n",
      "   6.          2.82842712  4.47213595  5.65685425  6.32455532  7.81024968\n",
      "   9.05538514  4.47213595  3.          4.12310563  8.24621125  9.05538514\n",
      "  10.81665383  5.83095189  7.28010989  4.24264069  6.70820393  4.24264069\n",
      "   5.09901951  4.12310563  8.06225775  7.          0.         10.29563014\n",
      "   5.09901951  3.16227766  2.          9.48683298  5.09901951  6.\n",
      "   1.          4.12310563  9.21954446  5.        ]\n",
      " [ 6.08276253  1.41421356  8.24621125 10.          1.          4.24264069\n",
      "   5.          3.16227766  8.54400375  8.94427191  1.41421356  3.60555128\n",
      "   8.24621125  8.48528137  5.38516481  5.09901951  0.          5.83095189\n",
      "   1.41421356  1.41421356  3.60555128  7.21110255  8.06225775  8.06225775\n",
      "   4.12310563  7.81024968  4.47213595  3.16227766  2.23606798  1.\n",
      "   8.60232527  9.43398113  8.06225775  8.60232527  7.07106781  7.07106781\n",
      "   9.89949494  6.08276253  7.07106781  1.          5.09901951  5.\n",
      "  10.         10.          4.          4.          4.12310563  5.09901951\n",
      "   7.21110255  1.          8.54400375  8.06225775  9.43398113  8.94427191\n",
      "   5.65685425 10.63014581  7.07106781  8.60232527  7.61577311  8.06225775\n",
      "   8.54400375  8.06225775  7.81024968  8.06225775  9.21954446  9.43398113\n",
      "   1.41421356  3.16227766  7.61577311  3.16227766  1.41421356  5.\n",
      "  10.          4.24264069  2.23606798  5.          9.89949494 10.\n",
      "   8.06225775  2.          6.70820393  8.24621125  5.38516481  8.24621125\n",
      "   5.65685425  5.          8.06225775  7.81024968  5.09901951  8.\n",
      "   5.65685425  6.32455532  7.07106781 11.3137085   7.21110255  1.41421356\n",
      "   4.12310563  5.          8.54400375  8.54400375]\n",
      " [ 6.70820393  7.21110255  3.16227766  5.09901951  6.40312424  2.\n",
      "   3.          4.47213595  3.          5.09901951  4.47213595  2.23606798\n",
      "   5.83095189  3.16227766  3.60555128  4.          5.83095189  0.\n",
      "   4.47213595  6.32455532  3.          1.41421356  3.60555128  4.12310563\n",
      "   6.08276253  2.23606798  3.16227766  6.          5.          5.\n",
      "   2.82842712  5.          6.40312424  4.          7.21110255  2.82842712\n",
      "   4.47213595  5.          2.82842712  6.40312424  4.          2.23606798\n",
      "   5.09901951  4.24264069  3.16227766  5.09901951  4.12310563  4.\n",
      "   3.16227766  5.38516481  5.38516481  4.12310563  3.60555128  5.09901951\n",
      "   1.41421356  5.38516481  4.47213595  2.82842712  2.          7.81024968\n",
      "   5.38516481  6.40312424  3.          4.12310563  4.12310563  5.\n",
      "   7.21110255  2.82842712  2.          4.          6.32455532  5.38516481\n",
      "   5.09901951  2.          5.          1.          4.47213595  5.09901951\n",
      "   7.81024968  5.09901951  3.60555128  3.16227766  3.60555128  3.16227766\n",
      "   1.41421356  1.          4.12310563  3.          4.          7.07106781\n",
      "   1.41421356  1.41421356  4.47213595  5.83095189  1.41421356  7.21110255\n",
      "   4.12310563  1.          5.38516481  3.        ]\n",
      " [ 5.38516481  2.82842712  7.07106781  8.60232527  2.23606798  2.82842712\n",
      "   4.12310563  2.82842712  7.28010989  7.61577311  0.          2.23606798\n",
      "   7.07106781  7.07106781  4.12310563  4.47213595  1.41421356  4.47213595\n",
      "   0.          2.          2.23606798  5.83095189  7.          6.70820393\n",
      "   3.60555128  6.40312424  3.16227766  2.82842712  2.23606798  1.\n",
      "   7.21110255  8.06225775  7.          7.21110255  6.32455532  6.\n",
      "   8.48528137  5.          6.          2.23606798  4.47213595  3.60555128\n",
      "   8.60232527  8.60232527  3.16227766  3.16227766  3.60555128  4.47213595\n",
      "   5.83095189  1.          7.28010989  6.70820393  8.06225775  7.61577311\n",
      "   4.24264069  9.21954446  6.32455532  7.21110255  6.32455532  7.28010989\n",
      "   7.28010989  7.          6.40312424  6.70820393  7.81024968  8.06225775\n",
      "   2.82842712  2.          6.32455532  2.          2.          4.12310563\n",
      "   8.60232527  2.82842712  2.23606798  3.60555128  8.48528137  8.60232527\n",
      "   7.28010989  1.41421356  5.38516481  7.07106781  4.12310563  7.07106781\n",
      "   4.24264069  3.60555128  6.70820393  6.40312424  4.47213595  7.07106781\n",
      "   4.24264069  5.09901951  6.32455532  9.89949494  5.83095189  2.82842712\n",
      "   3.60555128  3.60555128  7.28010989  7.28010989]\n",
      " [ 5.          2.          9.05538514  9.89949494  2.23606798  4.47213595\n",
      "   6.08276253  4.47213595  9.21954446  8.60232527  2.          4.12310563\n",
      "   7.61577311  8.60232527  5.          6.32455532  1.41421356  6.32455532\n",
      "   2.          0.          3.60555128  7.61577311  9.          7.81024968\n",
      "   3.          8.06225775  4.24264069  2.          3.60555128  2.23606798\n",
      "   8.94427191  9.21954446  7.28010989  8.48528137  6.          8.\n",
      "  10.          5.38516481  8.          2.23606798  6.32455532  5.\n",
      "   9.89949494 10.29563014  5.09901951  3.16227766  5.38516481  6.32455532\n",
      "   7.07106781  1.          8.06225775  7.81024968  9.8488578   8.60232527\n",
      "   5.83095189 10.63014581  8.24621125  8.94427191  8.24621125  7.\n",
      "   8.06225775  7.28010989  7.81024968  7.81024968  9.21954446  9.21954446\n",
      "   2.          4.          8.24621125  2.82842712  0.          4.12310563\n",
      "   9.89949494  4.47213595  3.60555128  5.38516481 10.          9.89949494\n",
      "   7.          1.41421356  6.40312424  9.05538514  5.          9.05538514\n",
      "   5.83095189  5.38516481  7.81024968  7.81024968  6.32455532  7.07106781\n",
      "   5.83095189  7.07106781  8.24621125 11.40175425  7.61577311  2.\n",
      "   5.38516481  5.38516481  8.06225775  9.21954446]\n",
      " [ 4.24264069  5.          6.08276253  6.40312424  4.47213595  1.\n",
      "   4.24264069  4.12310563  6.          5.38516481  2.23606798  1.41421356\n",
      "   5.          5.          2.          5.          3.60555128  3.\n",
      "   2.23606798  3.60555128  0.          4.12310563  6.32455532  4.47213595\n",
      "   3.16227766  4.47213595  1.          3.          4.          3.16227766\n",
      "   5.38516481  5.83095189  5.09901951  5.          5.          5.38516481\n",
      "   6.40312424  3.16227766  5.38516481  4.47213595  5.          1.41421356\n",
      "   6.40312424  6.70820393  3.60555128  2.23606798  4.47213595  5.\n",
      "   3.60555128  2.82842712  5.09901951  4.47213595  6.32455532  5.38516481\n",
      "   2.23606798  7.07106781  6.40312424  5.38516481  5.          5.83095189\n",
      "   5.09901951  5.09901951  4.24264069  4.47213595  5.65685425  5.83095189\n",
      "   5.          2.23606798  5.          1.          3.60555128  2.82842712\n",
      "   6.40312424  1.          4.          2.          6.40312424  6.40312424\n",
      "   5.83095189  2.23606798  3.16227766  6.08276253  2.          6.08276253\n",
      "   2.23606798  2.          4.47213595  4.24264069  5.          5.38516481\n",
      "   2.23606798  4.12310563  6.40312424  7.81024968  4.12310563  5.\n",
      "   4.47213595  2.          5.09901951  6.        ]\n",
      " [ 7.28010989  8.60232527  2.82842712  4.          7.81024968  3.16227766\n",
      "   4.12310563  5.83095189  2.23606798  4.47213595  5.83095189  3.60555128\n",
      "   5.65685425  2.          4.12310563  5.09901951  7.21110255  1.41421356\n",
      "   5.83095189  7.61577311  4.12310563  0.          3.60555128  3.60555128\n",
      "   7.          1.          4.          7.07106781  6.40312424  6.40312424\n",
      "   1.41421356  4.12310563  6.40312424  3.16227766  7.61577311  3.16227766\n",
      "   3.16227766  5.38516481  3.16227766  7.81024968  5.09901951  3.\n",
      "   4.          2.82842712  4.47213595  6.          5.38516481  5.09901951\n",
      "   2.82842712  6.70820393  5.          3.60555128  2.23606798  4.47213595\n",
      "   2.          4.12310563  5.09901951  1.41421356  1.41421356  8.06225775\n",
      "   5.          6.40312424  2.23606798  3.60555128  3.          4.12310563\n",
      "   8.60232527  4.24264069  1.41421356  5.09901951  7.61577311  6.08276253\n",
      "   4.          3.16227766  6.40312424  2.23606798  3.16227766  4.\n",
      "   8.06225775  6.32455532  3.60555128  2.82842712  4.12310563  2.82842712\n",
      "   2.          2.23606798  3.60555128  2.23606798  5.09901951  7.21110255\n",
      "   2.          2.          5.09901951  4.47213595  0.          8.60232527\n",
      "   5.38516481  2.23606798  5.          2.23606798]\n",
      " [10.29563014  9.21954446  1.          7.28010989  8.24621125  5.38516481\n",
      "   3.16227766  5.38516481  2.          8.06225775  7.          5.09901951\n",
      "   9.21954446  5.38516481  7.21110255  3.60555128  8.06225775  3.60555128\n",
      "   7.          9.          6.32455532  3.60555128  0.          7.21110255\n",
      "   9.48683298  4.47213595  6.70820393  9.21954446  6.32455532  7.07106781\n",
      "   4.12310563  7.61577311  9.89949494  6.70820393 10.81665383  1.\n",
      "   6.08276253  8.60232527  1.          8.24621125  3.60555128  5.83095189\n",
      "   7.28010989  5.          4.12310563  8.54400375  4.47213595  3.60555128\n",
      "   6.40312424  8.          8.60232527  7.21110255  4.          8.06225775\n",
      "   5.          7.07106781  2.23606798  4.12310563  2.23606798 11.40175425\n",
      "   8.60232527  9.89949494  5.83095189  7.21110255  6.32455532  7.61577311\n",
      "   9.21954446  5.          2.23606798  7.28010989  9.          8.94427191\n",
      "   7.28010989  5.38516481  6.32455532  4.47213595  6.08276253  7.28010989\n",
      "  11.40175425  8.06225775  7.07106781  1.          7.21110255  1.\n",
      "   5.          4.47213595  7.21110255  5.83095189  3.60555128 10.63014581\n",
      "   5.          2.23606798  2.23606798  7.          3.60555128  9.21954446\n",
      "   4.47213595  4.47213595  8.60232527  2.        ]\n",
      " [ 5.09901951  9.43398113  6.40312424  2.23606798  8.94427191  4.12310563\n",
      "   7.07106781  8.06225775  5.65685425  1.          6.70820393  5.09901951\n",
      "   2.23606798  2.23606798  2.82842712  8.06225775  8.06225775  4.12310563\n",
      "   6.70820393  7.81024968  4.47213595  3.60555128  7.21110255  0.\n",
      "   5.83095189  2.82842712  3.60555128  6.40312424  8.24621125  7.61577311\n",
      "   3.60555128  1.41421356  3.16227766  1.          5.          6.70820393\n",
      "   3.          3.16227766  6.70820393  8.94427191  8.06225775  3.16227766\n",
      "   2.23606798  4.12310563  7.          5.          8.          8.06225775\n",
      "   1.          7.21110255  1.41421356  0.          4.47213595  1.\n",
      "   3.          3.16227766  8.54400375  3.60555128  5.          5.09901951\n",
      "   1.41421356  3.16227766  1.41421356  0.          2.          1.41421356\n",
      "   9.43398113  6.08276253  5.          5.          7.81024968  4.47213595\n",
      "   2.23606798  4.12310563  8.24621125  4.          3.          2.23606798\n",
      "   5.09901951  6.40312424  1.41421356  6.40312424  2.82842712  6.40312424\n",
      "   3.          4.          0.          1.41421356  8.06225775  4.12310563\n",
      "   3.          5.38516481  8.54400375  4.12310563  3.60555128  9.43398113\n",
      "   8.          4.          1.41421356  5.65685425]\n",
      " [ 2.          5.          9.21954446  8.06225775  5.09901951  4.12310563\n",
      "   7.21110255  6.40312424  9.05538514  6.40312424  3.60555128  4.47213595\n",
      "   5.          7.28010989  3.16227766  7.81024968  4.12310563  6.08276253\n",
      "   3.60555128  3.          3.16227766  7.          9.48683298  5.83095189\n",
      "   0.          7.07106781  3.          1.          5.83095189  4.47213595\n",
      "   8.06225775  7.21110255  4.47213595  6.70820393  3.          8.54400375\n",
      "   8.54400375  2.82842712  8.54400375  5.09901951  7.81024968  4.\n",
      "   8.06225775  9.21954446  6.40312424  1.          7.07106781  7.81024968\n",
      "   5.38516481  3.16227766  5.65685425  5.83095189  9.05538514  6.40312424\n",
      "   5.          8.94427191  9.43398113  8.06225775  8.06225775  4.\n",
      "   5.65685425  4.47213595  6.32455532  5.83095189  7.61577311  7.21110255\n",
      "   5.          5.          8.06225775  2.23606798  3.          1.41421356\n",
      "   8.06225775  4.12310563  5.83095189  5.09901951  8.54400375  8.06225775\n",
      "   4.          2.23606798  4.47213595  9.21954446  3.16227766  9.21954446\n",
      "   5.          5.09901951  5.83095189  6.32455532  7.81024968  4.12310563\n",
      "   5.          7.28010989  9.43398113  9.8488578   7.          5.\n",
      "   7.07106781  5.09901951  5.65685425  9.05538514]\n",
      " [ 7.07106781  9.21954446  3.60555128  3.          8.48528137  3.60555128\n",
      "   5.09901951  6.70820393  2.82842712  3.60555128  6.40312424  4.24264069\n",
      "   5.          1.          4.          6.08276253  7.81024968  2.23606798\n",
      "   6.40312424  8.06225775  4.47213595  1.          4.47213595  2.82842712\n",
      "   7.07106781  0.          4.12310563  7.28010989  7.21110255  7.07106781\n",
      "   1.          3.16227766  5.83095189  2.23606798  7.28010989  4.12310563\n",
      "   2.23606798  5.09901951  4.12310563  8.48528137  6.08276253  3.16227766\n",
      "   3.          2.23606798  5.38516481  6.08276253  6.32455532  6.08276253\n",
      "   2.23606798  7.21110255  4.24264069  2.82842712  2.          3.60555128\n",
      "   2.23606798  3.16227766  6.08276253  1.          2.23606798  7.61577311\n",
      "   4.24264069  5.83095189  1.41421356  2.82842712  2.          3.16227766\n",
      "   9.21954446  5.          2.23606798  5.38516481  8.06225775  6.\n",
      "   3.          3.60555128  7.21110255  2.82842712  2.23606798  3.\n",
      "   7.61577311  6.70820393  3.16227766  3.60555128  4.          3.60555128\n",
      "   2.23606798  2.82842712  2.82842712  1.41421356  6.08276253  6.70820393\n",
      "   2.23606798  3.          6.08276253  3.60555128  1.          9.21954446\n",
      "   6.32455532  2.82842712  4.24264069  2.82842712]\n",
      " [ 3.60555128  5.83095189  6.32455532  5.65685425  5.38516481  1.41421356\n",
      "   5.          5.09901951  6.08276253  4.47213595  3.16227766  2.23606798\n",
      "   4.          4.47213595  1.          5.83095189  4.47213595  3.16227766\n",
      "   3.16227766  4.24264069  1.          4.          6.70820393  3.60555128\n",
      "   3.          4.12310563  0.          3.16227766  5.          4.12310563\n",
      "   5.09901951  5.          4.12310563  4.24264069  4.24264069  5.83095189\n",
      "   5.83095189  2.23606798  5.83095189  5.38516481  5.83095189  1.\n",
      "   5.65685425  6.32455532  4.47213595  2.          5.38516481  5.83095189\n",
      "   2.82842712  3.60555128  4.12310563  3.60555128  6.08276253  4.47213595\n",
      "   2.          6.40312424  7.07106781  5.09901951  5.09901951  5.\n",
      "   4.12310563  4.12310563  3.60555128  3.60555128  5.          5.\n",
      "   5.83095189  3.16227766  5.09901951  1.41421356  4.24264069  2.23606798\n",
      "   5.65685425  1.41421356  5.          2.23606798  5.83095189  5.65685425\n",
      "   5.          2.82842712  2.23606798  6.32455532  1.          6.32455532\n",
      "   2.          2.23606798  3.60555128  3.60555128  5.83095189  4.47213595\n",
      "   2.          4.47213595  7.07106781  7.21110255  4.          5.83095189\n",
      "   5.38516481  2.23606798  4.12310563  6.08276253]\n",
      " [ 3.          4.          9.05538514  8.60232527  4.12310563  4.\n",
      "   6.70820393  5.65685425  9.          7.07106781  2.82842712  4.12310563\n",
      "   5.83095189  7.61577311  3.60555128  7.21110255  3.16227766  6.\n",
      "   2.82842712  2.          3.          7.07106781  9.21954446  6.40312424\n",
      "   1.          7.28010989  3.16227766  0.          5.          3.60555128\n",
      "   8.24621125  7.81024968  5.38516481  7.21110255  4.          8.24621125\n",
      "   8.94427191  3.60555128  8.24621125  4.12310563  7.21110255  4.12310563\n",
      "   8.60232527  9.48683298  5.83095189  1.41421356  6.40312424  7.21110255\n",
      "   5.83095189  2.23606798  6.40312424  6.40312424  9.21954446  7.07106781\n",
      "   5.09901951  9.43398113  8.94427191  8.24621125  8.          5.\n",
      "   6.40312424  5.38516481  6.70820393  6.40312424  8.06225775  7.81024968\n",
      "   4.          4.47213595  8.          2.          2.          2.23606798\n",
      "   8.60232527  4.          5.          5.          8.94427191  8.60232527\n",
      "   5.          1.41421356  5.          9.05538514  3.60555128  9.05538514\n",
      "   5.09901951  5.          6.40312424  6.70820393  7.21110255  5.09901951\n",
      "   5.09901951  7.07106781  8.94427191 10.29563014  7.07106781  4.\n",
      "   6.40312424  5.          6.40312424  9.        ]\n",
      " [ 7.61577311  3.          6.70820393  9.8488578   2.          4.12310563\n",
      "   3.16227766  1.          7.21110255  9.21954446  2.23606798  3.16227766\n",
      "   9.          8.06225775  6.          3.          2.23606798  5.\n",
      "   2.23606798  3.60555128  4.          6.40312424  6.32455532  8.24621125\n",
      "   5.83095189  7.21110255  5.          5.          0.          1.41421356\n",
      "   7.81024968  9.48683298  9.05538514  8.54400375  8.54400375  5.38516481\n",
      "   9.43398113  7.07106781  5.38516481  2.          3.          5.09901951\n",
      "   9.8488578   9.21954446  2.23606798  5.38516481  2.          3.\n",
      "   7.28010989  2.82842712  9.05538514  8.24621125  8.48528137  9.21954446\n",
      "   5.38516481 10.29563014  5.          7.81024968  6.40312424  9.48683298\n",
      "   9.05538514  9.05538514  7.61577311  8.24621125  8.94427191  9.48683298\n",
      "   3.          2.23606798  6.40312424  4.12310563  3.60555128  6.32455532\n",
      "   9.8488578   4.12310563  0.          4.47213595  9.43398113  9.8488578\n",
      "   9.48683298  3.60555128  7.07106781  6.70820393  6.          6.70820393\n",
      "   5.38516481  4.47213595  8.24621125  7.61577311  3.          9.21954446\n",
      "   5.38516481  5.          5.         10.81665383  6.40312424  3.\n",
      "   2.          4.47213595  9.05538514  7.21110255]\n",
      " [ 6.32455532  2.23606798  7.28010989  9.43398113  1.41421356  3.60555128\n",
      "   4.          2.23606798  7.61577311  8.54400375  1.          2.82842712\n",
      "   8.06225775  7.81024968  5.09901951  4.12310563  1.          5.\n",
      "   1.          2.23606798  3.16227766  6.40312424  7.07106781  7.61577311\n",
      "   4.47213595  7.07106781  4.12310563  3.60555128  1.41421356  0.\n",
      "   7.81024968  8.94427191  8.          8.06225775  7.28010989  6.08276253\n",
      "   9.21954446  6.          6.08276253  1.41421356  4.12310563  4.47213595\n",
      "   9.43398113  9.21954446  3.          4.12310563  3.16227766  4.12310563\n",
      "   6.70820393  1.41421356  8.24621125  7.61577311  8.60232527  8.54400375\n",
      "   5.         10.          6.08276253  7.81024968  6.70820393  8.24621125\n",
      "   8.24621125  8.          7.21110255  7.61577311  8.60232527  8.94427191\n",
      "   2.23606798  2.23606798  6.70820393  3.          2.23606798  5.09901951\n",
      "   9.43398113  3.60555128  1.41421356  4.24264069  9.21954446  9.43398113\n",
      "   8.24621125  2.23606798  6.32455532  7.28010989  5.09901951  7.28010989\n",
      "   5.          4.24264069  7.61577311  7.21110255  4.12310563  8.06225775\n",
      "   5.          5.38516481  6.08276253 10.63014581  6.40312424  2.23606798\n",
      "   3.16227766  4.24264069  8.24621125  7.61577311]\n",
      " [ 8.06225775 10.          3.16227766  3.16227766  9.21954446  4.47213595\n",
      "   5.38516481  7.21110255  2.23606798  4.24264069  7.21110255  5.\n",
      "   5.83095189  1.41421356  5.          6.32455532  8.60232527  2.82842712\n",
      "   7.21110255  8.94427191  5.38516481  1.41421356  4.12310563  3.60555128\n",
      "   8.06225775  1.          5.09901951  8.24621125  7.81024968  7.81024968\n",
      "   0.          3.60555128  6.70820393  2.82842712  8.24621125  4.\n",
      "   2.          6.08276253  4.          9.21954446  6.32455532  4.12310563\n",
      "   3.16227766  1.41421356  5.83095189  7.07106781  6.70820393  6.32455532\n",
      "   3.16227766  8.06225775  5.          3.60555128  1.          4.24264069\n",
      "   3.16227766  3.          6.          0.          2.          8.54400375\n",
      "   5.          6.70820393  2.23606798  3.60555128  2.23606798  3.60555128\n",
      "  10.          5.65685425  2.          6.32455532  8.94427191  7.\n",
      "   3.16227766  4.47213595  7.81024968  3.60555128  2.          3.16227766\n",
      "   8.54400375  7.61577311  4.12310563  3.16227766  5.          3.16227766\n",
      "   3.16227766  3.60555128  3.60555128  2.23606798  6.32455532  7.61577311\n",
      "   3.16227766  3.16227766  6.          3.16227766  1.41421356 10.\n",
      "   6.70820393  3.60555128  5.          2.23606798]\n",
      " [ 6.32455532 10.81665383  6.70820393  1.         10.29563014  5.38516481\n",
      "   8.          9.21954446  5.83095189  1.          8.06225775  6.32455532\n",
      "   3.          2.23606798  4.24264069  9.          9.43398113  5.\n",
      "   8.06225775  9.21954446  5.83095189  4.12310563  7.61577311  1.41421356\n",
      "   7.21110255  3.16227766  5.          7.81024968  9.48683298  8.94427191\n",
      "   3.60555128  0.          4.          1.          6.08276253  7.28010989\n",
      "   2.23606798  4.47213595  7.28010989 10.29563014  9.          4.47213595\n",
      "   1.          3.60555128  8.06225775  6.40312424  9.05538514  9.\n",
      "   2.23606798  8.60232527  2.          1.41421356  4.24264069  1.\n",
      "   4.12310563  2.          9.21954446  3.60555128  5.38516481  6.\n",
      "   2.          4.          2.          1.41421356  1.41421356  0.\n",
      "  10.81665383  7.28010989  5.38516481  6.40312424  9.21954446  5.83095189\n",
      "   1.          5.38516481  9.48683298  5.09901951  2.23606798  1.\n",
      "   6.          7.81024968  2.82842712  6.70820393  4.24264069  6.70820393\n",
      "   4.12310563  5.09901951  1.41421356  2.          9.          5.\n",
      "   4.12310563  6.08276253  9.21954446  3.          4.12310563 10.81665383\n",
      "   9.05538514  5.09901951  2.          5.83095189]\n",
      " [ 2.82842712  9.21954446  9.21954446  5.          9.05538514  5.38516481\n",
      "   8.94427191  9.21954446  8.60232527  3.          7.          6.32455532\n",
      "   1.          5.38516481  3.16227766  9.8488578   8.06225775  6.40312424\n",
      "   7.          7.28010989  5.09901951  6.40312424  9.89949494  3.16227766\n",
      "   4.47213595  5.83095189  4.12310563  5.38516481  9.05538514  8.\n",
      "   6.70820393  4.          0.          4.12310563  2.23606798  9.21954446\n",
      "   6.08276253  2.          9.21954446  9.05538514  9.8488578   4.47213595\n",
      "   5.          7.28010989  8.54400375  4.12310563  9.48683298  9.8488578\n",
      "   3.60555128  7.07106781  2.          3.16227766  7.61577311  3.\n",
      "   5.          6.         10.81665383  6.70820393  7.81024968  2.\n",
      "   2.          0.          4.47213595  3.16227766  5.09901951  4.\n",
      "   9.21954446  7.28010989  7.81024968  5.          7.28010989  3.16227766\n",
      "   5.          5.38516481  9.05538514  5.83095189  6.08276253  5.\n",
      "   2.          6.08276253  2.82842712  9.21954446  3.16227766  9.21954446\n",
      "   5.          5.83095189  3.16227766  4.47213595  9.8488578   1.\n",
      "   5.          7.81024968 10.81665383  7.          6.40312424  9.21954446\n",
      "   9.48683298  5.83095189  2.          8.60232527]\n",
      " [ 6.08276253 10.          5.83095189  1.41421356  9.43398113  4.47213595\n",
      "   7.          8.24621125  5.          1.41421356  7.21110255  5.38516481\n",
      "   3.16227766  1.41421356  3.60555128  8.          8.60232527  4.\n",
      "   7.21110255  8.48528137  5.          3.16227766  6.70820393  1.\n",
      "   6.70820393  2.23606798  4.24264069  7.21110255  8.54400375  8.06225775\n",
      "   2.82842712  1.          4.12310563  0.          6.          6.32455532\n",
      "   2.          4.12310563  6.32455532  9.43398113  8.          3.60555128\n",
      "   1.41421356  3.16227766  7.07106781  5.83095189  8.06225775  8.\n",
      "   1.41421356  7.81024968  2.23606798  1.          3.60555128  1.41421356\n",
      "   3.16227766  2.23606798  8.24621125  2.82842712  4.47213595  6.08276253\n",
      "   2.23606798  4.12310563  1.          1.          1.          1.\n",
      "  10.          6.32455532  4.47213595  5.65685425  8.48528137  5.38516481\n",
      "   1.41421356  4.47213595  8.54400375  4.12310563  2.          1.41421356\n",
      "   6.08276253  7.07106781  2.23606798  5.83095189  3.60555128  5.83095189\n",
      "   3.16227766  4.12310563  1.          1.          8.          5.09901951\n",
      "   3.16227766  5.09901951  8.24621125  3.16227766  3.16227766 10.\n",
      "   8.06225775  4.12310563  2.23606798  5.        ]\n",
      " [ 1.          8.         10.29563014  7.07106781  8.06225775  5.65685425\n",
      "   9.21954446  8.94427191  9.8488578   5.09901951  6.32455532  6.40312424\n",
      "   3.16227766  7.07106781  3.60555128 10.          7.07106781  7.21110255\n",
      "   6.32455532  6.          5.          7.61577311 10.81665383  5.\n",
      "   3.          7.28010989  4.24264069  4.          8.54400375  7.28010989\n",
      "   8.24621125  6.08276253  2.23606798  6.          0.         10.\n",
      "   8.          2.23606798 10.          8.06225775 10.          5.\n",
      "   7.07106781  9.05538514  8.60232527  3.16227766  9.43398113 10.\n",
      "   5.09901951  6.08276253  4.12310563  5.          9.21954446  5.09901951\n",
      "   5.83095189  8.06225775 11.3137085   8.24621125  8.94427191  1.\n",
      "   4.12310563  2.23606798  6.08276253  5.          7.          6.08276253\n",
      "   8.          7.21110255  8.94427191  4.47213595  6.          2.23606798\n",
      "   7.07106781  5.65685425  8.54400375  6.40312424  8.          7.07106781\n",
      "   1.          5.09901951  4.12310563 10.29563014  3.60555128 10.29563014\n",
      "   5.83095189  6.40312424  5.          6.08276253 10.          1.41421356\n",
      "   5.83095189  8.60232527 11.3137085   9.05538514  7.61577311  8.\n",
      "   9.43398113  6.40312424  4.12310563  9.8488578 ]\n",
      " [ 9.43398113  8.24621125  1.41421356  7.07106781  7.28010989  4.47213595\n",
      "   2.23606798  4.47213595  2.23606798  7.61577311  6.          4.12310563\n",
      "   8.60232527  5.09901951  6.40312424  2.82842712  7.07106781  2.82842712\n",
      "   6.          8.          5.38516481  3.16227766  1.          6.70820393\n",
      "   8.54400375  4.12310563  5.83095189  8.24621125  5.38516481  6.08276253\n",
      "   4.          7.28010989  9.21954446  6.32455532 10.          0.\n",
      "   6.          7.81024968  0.          7.28010989  2.82842712  5.\n",
      "   7.07106781  5.09901951  3.16227766  7.61577311  3.60555128  2.82842712\n",
      "   5.83095189  7.          8.06225775  6.70820393  4.12310563  7.61577311\n",
      "   4.24264069  7.          2.          4.          2.         10.63014581\n",
      "   8.06225775  9.21954446  5.38516481  6.70820393  6.08276253  7.28010989\n",
      "   8.24621125  4.          2.          6.32455532  8.          8.06225775\n",
      "   7.07106781  4.47213595  5.38516481  3.60555128  6.          7.07106781\n",
      "  10.63014581  7.07106781  6.40312424  1.41421356  6.40312424  1.41421356\n",
      "   4.24264069  3.60555128  6.70820393  5.38516481  2.82842712  9.89949494\n",
      "   4.24264069  1.41421356  2.          7.07106781  3.16227766  8.24621125\n",
      "   3.60555128  3.60555128  8.06225775  2.23606798]\n",
      " [ 8.06225775 11.3137085   5.09901951  1.41421356 10.63014581  5.65685425\n",
      "   7.28010989  8.94427191  4.12310563  3.16227766  8.48528137  6.40312424\n",
      "   5.09901951  1.41421356  5.38516481  8.24621125  9.89949494  4.47213595\n",
      "   8.48528137 10.          6.40312424  3.16227766  6.08276253  3.\n",
      "   8.54400375  2.23606798  5.83095189  8.94427191  9.43398113  9.21954446\n",
      "   2.          2.23606798  6.08276253  2.          8.          6.\n",
      "   0.          6.08276253  6.         10.63014581  8.24621125  5.\n",
      "   1.41421356  1.41421356  7.61577311  7.61577311  8.54400375  8.24621125\n",
      "   3.16227766  9.21954446  4.12310563  3.          2.23606798  3.16227766\n",
      "   4.24264069  1.          8.          2.          4.          8.06225775\n",
      "   4.12310563  6.08276253  2.23606798  3.          1.          2.23606798\n",
      "  11.3137085   7.21110255  4.          7.21110255 10.          7.28010989\n",
      "   1.41421356  5.65685425  9.43398113  5.          0.          1.41421356\n",
      "   8.06225775  8.60232527  4.12310563  5.09901951  5.38516481  5.09901951\n",
      "   4.24264069  5.          3.          2.23606798  8.24621125  7.07106781\n",
      "   4.24264069  5.09901951  8.          1.41421356  3.16227766 11.3137085\n",
      "   8.54400375  5.          4.12310563  4.12310563]\n",
      " [ 2.          7.28010989  8.06225775  5.38516481  7.07106781  3.60555128\n",
      "   7.21110255  7.28010989  7.61577311  3.60555128  5.          4.47213595\n",
      "   2.23606798  5.          1.41421356  8.06225775  6.08276253  5.\n",
      "   5.          5.38516481  3.16227766  5.38516481  8.60232527  3.16227766\n",
      "   2.82842712  5.09901951  2.23606798  3.60555128  7.07106781  6.\n",
      "   6.08276253  4.47213595  2.          4.12310563  2.23606798  7.81024968\n",
      "   6.08276253  0.          7.81024968  7.07106781  8.06225775  2.82842712\n",
      "   5.38516481  7.          6.70820393  2.23606798  7.61577311  8.06225775\n",
      "   3.          5.09901951  2.82842712  3.16227766  7.07106781  3.60555128\n",
      "   3.60555128  6.32455532  9.21954446  6.08276253  6.70820393  2.82842712\n",
      "   2.82842712  2.          4.          3.16227766  5.09901951  4.47213595\n",
      "   7.28010989  5.38516481  6.70820393  3.          5.38516481  1.41421356\n",
      "   5.38516481  3.60555128  7.07106781  4.24264069  6.08276253  5.38516481\n",
      "   2.82842712  4.12310563  2.          8.06225775  1.41421356  8.06225775\n",
      "   3.60555128  4.24264069  3.16227766  4.          8.06225775  2.23606798\n",
      "   3.60555128  6.40312424  9.21954446  7.28010989  5.38516481  7.28010989\n",
      "   7.61577311  4.24264069  2.82842712  7.61577311]\n",
      " [ 9.43398113  8.24621125  1.41421356  7.07106781  7.28010989  4.47213595\n",
      "   2.23606798  4.47213595  2.23606798  7.61577311  6.          4.12310563\n",
      "   8.60232527  5.09901951  6.40312424  2.82842712  7.07106781  2.82842712\n",
      "   6.          8.          5.38516481  3.16227766  1.          6.70820393\n",
      "   8.54400375  4.12310563  5.83095189  8.24621125  5.38516481  6.08276253\n",
      "   4.          7.28010989  9.21954446  6.32455532 10.          0.\n",
      "   6.          7.81024968  0.          7.28010989  2.82842712  5.\n",
      "   7.07106781  5.09901951  3.16227766  7.61577311  3.60555128  2.82842712\n",
      "   5.83095189  7.          8.06225775  6.70820393  4.12310563  7.61577311\n",
      "   4.24264069  7.          2.          4.          2.         10.63014581\n",
      "   8.06225775  9.21954446  5.38516481  6.70820393  6.08276253  7.28010989\n",
      "   8.24621125  4.          2.          6.32455532  8.          8.06225775\n",
      "   7.07106781  4.47213595  5.38516481  3.60555128  6.          7.07106781\n",
      "  10.63014581  7.07106781  6.40312424  1.41421356  6.40312424  1.41421356\n",
      "   4.24264069  3.60555128  6.70820393  5.38516481  2.82842712  9.89949494\n",
      "   4.24264069  1.41421356  2.          7.07106781  3.16227766  8.24621125\n",
      "   3.60555128  3.60555128  8.06225775  2.23606798]\n",
      " [ 7.07106781  1.          8.54400375 10.81665383  0.          5.\n",
      "   5.09901951  3.          8.94427191  9.8488578   2.23606798  4.24264069\n",
      "   9.21954446  9.21954446  6.32455532  5.          1.          6.40312424\n",
      "   2.23606798  2.23606798  4.47213595  7.81024968  8.24621125  8.94427191\n",
      "   5.09901951  8.48528137  5.38516481  4.12310563  2.          1.41421356\n",
      "   9.21954446 10.29563014  9.05538514  9.43398113  8.06225775  7.28010989\n",
      "  10.63014581  7.07106781  7.28010989  0.          5.          5.83095189\n",
      "  10.81665383 10.63014581  4.12310563  5.          4.          5.\n",
      "   8.06225775  2.          9.48683298  8.94427191 10.          9.8488578\n",
      "   6.40312424 11.40175425  7.          9.21954446  8.06225775  9.05538514\n",
      "   9.48683298  9.05538514  8.60232527  8.94427191 10.         10.29563014\n",
      "   1.          3.60555128  8.06225775  4.12310563  2.23606798  6.\n",
      "  10.81665383  5.          2.          5.65685425 10.63014581 10.81665383\n",
      "   9.05538514  3.          7.61577311  8.54400375  6.32455532  8.54400375\n",
      "   6.40312424  5.65685425  8.94427191  8.60232527  5.          9.\n",
      "   6.40312424  6.70820393  7.         12.04159458  7.81024968  1.\n",
      "   4.          5.65685425  9.48683298  8.94427191]\n",
      " [ 9.21954446  6.          4.24264069  9.05538514  5.          4.47213595\n",
      "   1.          2.          5.          9.05538514  4.47213595  3.60555128\n",
      "   9.48683298  7.07106781  6.70820393  0.          5.09901951  4.\n",
      "   4.47213595  6.32455532  5.          5.09901951  3.60555128  8.06225775\n",
      "   7.81024968  6.08276253  5.83095189  7.21110255  3.          4.12310563\n",
      "   6.32455532  9.          9.8488578   8.         10.          2.82842712\n",
      "   8.24621125  8.06225775  2.82842712  5.          0.          5.38516481\n",
      "   9.05538514  7.61577311  1.41421356  7.07106781  1.          0.\n",
      "   7.07106781  5.38516481  9.21954446  8.06225775  6.70820393  9.05538514\n",
      "   5.09901951  9.21954446  2.          6.32455532  4.47213595 10.81665383\n",
      "   9.21954446  9.8488578   7.          8.06225775  8.06225775  9.\n",
      "   6.          2.82842712  4.47213595  5.65685425  6.32455532  7.81024968\n",
      "   9.05538514  4.47213595  3.          4.12310563  8.24621125  9.05538514\n",
      "  10.81665383  5.83095189  7.28010989  4.24264069  6.70820393  4.24264069\n",
      "   5.09901951  4.12310563  8.06225775  7.          0.         10.29563014\n",
      "   5.09901951  3.16227766  2.          9.48683298  5.09901951  6.\n",
      "   1.          4.12310563  9.21954446  5.        ]\n",
      " [ 4.47213595  6.40312424  5.38516481  5.          5.83095189  1.\n",
      "   4.47213595  5.          5.09901951  4.12310563  3.60555128  2.\n",
      "   4.12310563  3.60555128  1.41421356  5.38516481  5.          2.23606798\n",
      "   3.60555128  5.          1.41421356  3.          5.83095189  3.16227766\n",
      "   4.          3.16227766  1.          4.12310563  5.09901951  4.47213595\n",
      "   4.12310563  4.47213595  4.47213595  3.60555128  5.          5.\n",
      "   5.          2.82842712  5.          5.83095189  5.38516481  0.\n",
      "   5.          5.38516481  4.12310563  3.          5.09901951  5.38516481\n",
      "   2.23606798  4.24264069  4.          3.16227766  5.09901951  4.12310563\n",
      "   1.          5.65685425  6.40312424  4.12310563  4.12310563  5.65685425\n",
      "   4.          4.47213595  2.82842712  3.16227766  4.24264069  4.47213595\n",
      "   6.40312424  3.          4.12310563  2.23606798  5.          3.16227766\n",
      "   5.          1.          5.09901951  1.41421356  5.          5.\n",
      "   5.65685425  3.60555128  2.          5.38516481  1.41421356  5.38516481\n",
      "   1.          1.41421356  3.16227766  2.82842712  5.38516481  5.\n",
      "   1.          3.60555128  6.40312424  6.40312424  3.          6.40312424\n",
      "   5.09901951  1.41421356  4.          5.09901951]\n",
      " [ 7.28010989 11.40175425  6.32455532  0.         10.81665383  5.83095189\n",
      "   8.06225775  9.48683298  5.38516481  2.          8.60232527  6.70820393\n",
      "   4.          2.          5.          9.05538514 10.          5.09901951\n",
      "   8.60232527  9.89949494  6.40312424  4.          7.28010989  2.23606798\n",
      "   8.06225775  3.          5.65685425  8.60232527  9.8488578   9.43398113\n",
      "   3.16227766  1.          5.          1.41421356  7.07106781  7.07106781\n",
      "   1.41421356  5.38516481  7.07106781 10.81665383  9.05538514  5.\n",
      "   0.          2.82842712  8.24621125  7.21110255  9.21954446  9.05538514\n",
      "   2.82842712  9.21954446  3.          2.23606798  3.60555128  2.\n",
      "   4.47213595  1.          9.05538514  3.16227766  5.09901951  7.\n",
      "   3.          5.          2.23606798  2.23606798  1.          1.\n",
      "  11.40175425  7.61577311  5.09901951  7.07106781  9.89949494  6.70820393\n",
      "   0.          5.83095189  9.8488578   5.38516481  1.41421356  0.\n",
      "   7.          8.48528137  3.60555128  6.32455532  5.          6.32455532\n",
      "   4.47213595  5.38516481  2.23606798  2.23606798  9.05538514  6.\n",
      "   4.47213595  6.          9.05538514  2.          4.         11.40175425\n",
      "   9.21954446  5.38516481  3.          5.38516481]\n",
      " [ 9.         11.40175425  4.          2.82842712 10.63014581  5.83095189\n",
      "   6.70820393  8.60232527  3.          4.47213595  8.60232527  6.40312424\n",
      "   6.32455532  2.          6.08276253  7.61577311 10.          4.24264069\n",
      "   8.60232527 10.29563014  6.70820393  2.82842712  5.          4.12310563\n",
      "   9.21954446  2.23606798  6.32455532  9.48683298  9.21954446  9.21954446\n",
      "   1.41421356  3.60555128  7.28010989  3.16227766  9.05538514  5.09901951\n",
      "   1.41421356  7.          5.09901951 10.63014581  7.61577311  5.38516481\n",
      "   2.82842712  0.          7.21110255  8.24621125  8.06225775  7.61577311\n",
      "   4.          9.43398113  5.38516481  4.12310563  1.          4.47213595\n",
      "   4.47213595  2.23606798  7.07106781  1.41421356  3.16227766  9.21954446\n",
      "   5.38516481  7.28010989  3.          4.12310563  2.23606798  3.60555128\n",
      "  11.40175425  7.07106781  3.16227766  7.61577311 10.29563014  8.06225775\n",
      "   2.82842712  5.83095189  9.21954446  5.          1.41421356  2.82842712\n",
      "   9.21954446  8.94427191  5.          4.          6.08276253  4.\n",
      "   4.47213595  5.          4.12310563  3.          7.61577311  8.24621125\n",
      "   4.47213595  4.47213595  7.07106781  2.          2.82842712 11.40175425\n",
      "   8.06225775  5.          5.38516481  3.        ]\n",
      " [ 7.81024968  5.09901951  4.47213595  8.24621125  4.12310563  3.16227766\n",
      "   1.          1.41421356  5.          8.          3.16227766  2.23606798\n",
      "   8.24621125  6.32455532  5.38516481  1.41421356  4.          3.16227766\n",
      "   3.16227766  5.09901951  3.60555128  4.47213595  4.12310563  7.\n",
      "   6.40312424  5.38516481  4.47213595  5.83095189  2.23606798  3.\n",
      "   5.83095189  8.06225775  8.54400375  7.07106781  8.60232527  3.16227766\n",
      "   7.61577311  6.70820393  3.16227766  4.12310563  1.41421356  4.12310563\n",
      "   8.24621125  7.21110255  0.          5.65685425  1.          1.41421356\n",
      "   6.          4.12310563  8.06225775  7.          6.40312424  8.\n",
      "   4.          8.54400375  3.16227766  5.83095189  4.24264069  9.43398113\n",
      "   8.06225775  8.54400375  6.08276253  7.          7.28010989  8.06225775\n",
      "   5.09901951  1.41421356  4.24264069  4.24264069  5.09901951  6.40312424\n",
      "   8.24621125  3.16227766  2.23606798  3.          7.61577311  8.24621125\n",
      "   9.43398113  4.47213595  6.08276253  4.47213595  5.38516481  4.47213595\n",
      "   4.          3.          7.          6.08276253  1.41421356  8.94427191\n",
      "   4.          2.82842712  3.16227766  8.94427191  4.47213595  5.09901951\n",
      "   1.          3.          8.06225775  5.        ]\n",
      " [ 2.23606798  5.09901951  8.24621125  7.21110255  5.          3.16227766\n",
      "   6.40312424  5.83095189  8.06225775  5.65685425  3.16227766  3.60555128\n",
      "   4.47213595  6.32455532  2.23606798  7.07106781  4.          5.09901951\n",
      "   3.16227766  3.16227766  2.23606798  6.          8.54400375  5.\n",
      "   1.          6.08276253  2.          1.41421356  5.38516481  4.12310563\n",
      "   7.07106781  6.40312424  4.12310563  5.83095189  3.16227766  7.61577311\n",
      "   7.61577311  2.23606798  7.61577311  5.          7.07106781  3.\n",
      "   7.21110255  8.24621125  5.65685425  0.          6.40312424  7.07106781\n",
      "   4.47213595  3.          5.          5.          8.06225775  5.65685425\n",
      "   4.          8.06225775  8.60232527  7.07106781  7.07106781  4.12310563\n",
      "   5.          4.12310563  5.38516481  5.          6.70820393  6.40312424\n",
      "   5.09901951  4.24264069  7.07106781  1.41421356  3.16227766  1.\n",
      "   7.21110255  3.16227766  5.38516481  4.12310563  7.61577311  7.21110255\n",
      "   4.12310563  2.          3.60555128  8.24621125  2.23606798  8.24621125\n",
      "   4.          4.12310563  5.          5.38516481  7.07106781  4.\n",
      "   4.          6.32455532  8.60232527  8.94427191  6.          5.09901951\n",
      "   6.40312424  4.12310563  5.          8.06225775]\n",
      " [ 8.60232527  5.          5.          9.21954446  4.          4.12310563\n",
      "   1.41421356  1.          5.65685425  9.          3.60555128  3.16227766\n",
      "   9.21954446  7.28010989  6.32455532  1.          4.12310563  4.12310563\n",
      "   3.60555128  5.38516481  4.47213595  5.38516481  4.47213595  8.\n",
      "   7.07106781  6.32455532  5.38516481  6.40312424  2.          3.16227766\n",
      "   6.70820393  9.05538514  9.48683298  8.06225775  9.43398113  3.60555128\n",
      "   8.54400375  7.61577311  3.60555128  4.          1.          5.09901951\n",
      "   9.21954446  8.06225775  1.          6.40312424  0.          1.\n",
      "   7.          4.47213595  9.05538514  8.          7.21110255  9.\n",
      "   5.          9.48683298  3.          6.70820393  5.         10.29563014\n",
      "   9.05538514  9.48683298  7.07106781  8.          8.24621125  9.05538514\n",
      "   5.          2.23606798  5.          5.          5.38516481  7.21110255\n",
      "   9.21954446  4.12310563  2.          4.          8.54400375  9.21954446\n",
      "  10.29563014  5.          7.07106781  5.          6.32455532  5.\n",
      "   5.          4.          8.          7.07106781  1.          9.8488578\n",
      "   5.          3.60555128  3.          9.8488578   5.38516481  5.\n",
      "   0.          4.          9.05538514  5.65685425]\n",
      " [ 9.21954446  6.          4.24264069  9.05538514  5.          4.47213595\n",
      "   1.          2.          5.          9.05538514  4.47213595  3.60555128\n",
      "   9.48683298  7.07106781  6.70820393  0.          5.09901951  4.\n",
      "   4.47213595  6.32455532  5.          5.09901951  3.60555128  8.06225775\n",
      "   7.81024968  6.08276253  5.83095189  7.21110255  3.          4.12310563\n",
      "   6.32455532  9.          9.8488578   8.         10.          2.82842712\n",
      "   8.24621125  8.06225775  2.82842712  5.          0.          5.38516481\n",
      "   9.05538514  7.61577311  1.41421356  7.07106781  1.          0.\n",
      "   7.07106781  5.38516481  9.21954446  8.06225775  6.70820393  9.05538514\n",
      "   5.09901951  9.21954446  2.          6.32455532  4.47213595 10.81665383\n",
      "   9.21954446  9.8488578   7.          8.06225775  8.06225775  9.\n",
      "   6.          2.82842712  4.47213595  5.65685425  6.32455532  7.81024968\n",
      "   9.05538514  4.47213595  3.          4.12310563  8.24621125  9.05538514\n",
      "  10.81665383  5.83095189  7.28010989  4.24264069  6.70820393  4.24264069\n",
      "   5.09901951  4.12310563  8.06225775  7.          0.         10.29563014\n",
      "   5.09901951  3.16227766  2.          9.48683298  5.09901951  6.\n",
      "   1.          4.12310563  9.21954446  5.        ]\n",
      " [ 5.          8.60232527  5.65685425  2.82842712  8.06225775  3.16227766\n",
      "   6.08276253  7.07106781  5.          2.          5.83095189  4.12310563\n",
      "   2.82842712  2.          2.23606798  7.07106781  7.21110255  3.16227766\n",
      "   5.83095189  7.07106781  3.60555128  2.82842712  6.40312424  1.\n",
      "   5.38516481  2.23606798  2.82842712  5.83095189  7.28010989  6.70820393\n",
      "   3.16227766  2.23606798  3.60555128  1.41421356  5.09901951  5.83095189\n",
      "   3.16227766  3.          5.83095189  8.06225775  7.07106781  2.23606798\n",
      "   2.82842712  4.          6.          4.47213595  7.          7.07106781\n",
      "   0.          6.40312424  2.23606798  1.          4.12310563  2.\n",
      "   2.          3.60555128  7.61577311  3.16227766  4.24264069  5.38516481\n",
      "   2.23606798  3.60555128  1.          1.          2.23606798  2.23606798\n",
      "   8.60232527  5.09901951  4.24264069  4.24264069  7.07106781  4.12310563\n",
      "   2.82842712  3.16227766  7.28010989  3.          3.16227766  2.82842712\n",
      "   5.38516481  5.65685425  1.          5.65685425  2.23606798  5.65685425\n",
      "   2.          3.          1.          1.          7.07106781  4.47213595\n",
      "   2.          4.47213595  7.61577311  4.47213595  2.82842712  8.60232527\n",
      "   7.          3.          2.23606798  5.        ]\n",
      " [ 5.09901951  2.23606798  8.06225775  9.21954446  2.          3.60555128\n",
      "   5.09901951  3.60555128  8.24621125  8.06225775  1.          3.16227766\n",
      "   7.28010989  7.81024968  4.47213595  5.38516481  1.          5.38516481\n",
      "   1.          1.          2.82842712  6.70820393  8.          7.21110255\n",
      "   3.16227766  7.21110255  3.60555128  2.23606798  2.82842712  1.41421356\n",
      "   8.06225775  8.60232527  7.07106781  7.81024968  6.08276253  7.\n",
      "   9.21954446  5.09901951  7.          2.          5.38516481  4.24264069\n",
      "   9.21954446  9.43398113  4.12310563  3.          4.47213595  5.38516481\n",
      "   6.40312424  0.          7.61577311  7.21110255  8.94427191  8.06225775\n",
      "   5.          9.89949494  7.28010989  8.06225775  7.28010989  7.07106781\n",
      "   7.61577311  7.07106781  7.07106781  7.21110255  8.48528137  8.60232527\n",
      "   2.23606798  3.          7.28010989  2.23606798  1.          4.\n",
      "   9.21954446  3.60555128  2.82842712  4.47213595  9.21954446  9.21954446\n",
      "   7.07106781  1.          5.83095189  8.06225775  4.47213595  8.06225775\n",
      "   5.          4.47213595  7.21110255  7.07106781  5.38516481  7.\n",
      "   5.          6.08276253  7.28010989 10.63014581  6.70820393  2.23606798\n",
      "   4.47213595  4.47213595  7.61577311  8.24621125]\n",
      " [ 4.47213595  9.8488578   7.81024968  3.          9.48683298  5.\n",
      "   8.24621125  9.          7.07106781  1.          7.28010989  6.\n",
      "   1.          3.60555128  3.16227766  9.21954446  8.54400375  5.38516481\n",
      "   7.28010989  8.06225775  5.09901951  5.          8.60232527  1.41421356\n",
      "   5.65685425  4.24264069  4.12310563  6.40312424  9.05538514  8.24621125\n",
      "   5.          2.          2.          2.23606798  4.12310563  8.06225775\n",
      "   4.12310563  2.82842712  8.06225775  9.48683298  9.21954446  4.\n",
      "   3.          5.38516481  8.06225775  5.          9.05538514  9.21954446\n",
      "   2.23606798  7.61577311  0.          1.41421356  5.83095189  1.\n",
      "   4.12310563  4.          9.8488578   5.          6.40312424  4.\n",
      "   0.          2.          2.82842712  1.41421356  3.16227766  2.\n",
      "   9.8488578   7.          6.40312424  5.38516481  8.06225775  4.24264069\n",
      "   3.          5.          9.05538514  5.09901951  4.12310563  3.\n",
      "   4.          6.70820393  2.          7.81024968  3.16227766  7.81024968\n",
      "   4.12310563  5.09901951  1.41421356  2.82842712  9.21954446  3.\n",
      "   4.12310563  6.70820393  9.8488578   5.          5.          9.8488578\n",
      "   9.05538514  5.09901951  0.          7.07106781]\n",
      " [ 5.09901951  9.43398113  6.40312424  2.23606798  8.94427191  4.12310563\n",
      "   7.07106781  8.06225775  5.65685425  1.          6.70820393  5.09901951\n",
      "   2.23606798  2.23606798  2.82842712  8.06225775  8.06225775  4.12310563\n",
      "   6.70820393  7.81024968  4.47213595  3.60555128  7.21110255  0.\n",
      "   5.83095189  2.82842712  3.60555128  6.40312424  8.24621125  7.61577311\n",
      "   3.60555128  1.41421356  3.16227766  1.          5.          6.70820393\n",
      "   3.          3.16227766  6.70820393  8.94427191  8.06225775  3.16227766\n",
      "   2.23606798  4.12310563  7.          5.          8.          8.06225775\n",
      "   1.          7.21110255  1.41421356  0.          4.47213595  1.\n",
      "   3.          3.16227766  8.54400375  3.60555128  5.          5.09901951\n",
      "   1.41421356  3.16227766  1.41421356  0.          2.          1.41421356\n",
      "   9.43398113  6.08276253  5.          5.          7.81024968  4.47213595\n",
      "   2.23606798  4.12310563  8.24621125  4.          3.          2.23606798\n",
      "   5.09901951  6.40312424  1.41421356  6.40312424  2.82842712  6.40312424\n",
      "   3.          4.          0.          1.41421356  8.06225775  4.12310563\n",
      "   3.          5.38516481  8.54400375  4.12310563  3.60555128  9.43398113\n",
      "   8.          4.          1.41421356  5.65685425]\n",
      " [ 9.05538514 10.81665383  3.          3.60555128 10.          5.38516481\n",
      "   5.83095189  7.81024968  2.          5.          8.06225775  5.83095189\n",
      "   6.70820393  2.23606798  6.          6.70820393  9.43398113  3.60555128\n",
      "   8.06225775  9.8488578   6.32455532  2.23606798  4.          4.47213595\n",
      "   9.05538514  2.          6.08276253  9.21954446  8.48528137  8.60232527\n",
      "   1.          4.24264069  7.61577311  3.60555128  9.21954446  4.12310563\n",
      "   2.23606798  7.07106781  4.12310563 10.          6.70820393  5.09901951\n",
      "   3.60555128  1.          6.40312424  8.06225775  7.21110255  6.70820393\n",
      "   4.12310563  8.94427191  5.83095189  4.47213595  0.          5.\n",
      "   4.12310563  3.16227766  6.08276253  1.          2.23606798  9.48683298\n",
      "   5.83095189  7.61577311  3.16227766  4.47213595  2.82842712  4.24264069\n",
      "  10.81665383  6.40312424  2.23606798  7.28010989  9.8488578   8.\n",
      "   3.60555128  5.38516481  8.48528137  4.47213595  2.23606798  3.60555128\n",
      "   9.48683298  8.54400375  5.09901951  3.          6.          3.\n",
      "   4.12310563  4.47213595  4.47213595  3.16227766  6.70820393  8.54400375\n",
      "   4.12310563  3.60555128  6.08276253  3.          2.23606798 10.81665383\n",
      "   7.21110255  4.47213595  5.83095189  2.        ]\n",
      " [ 5.38516481 10.29563014  7.21110255  2.          9.8488578   5.09901951\n",
      "   8.06225775  9.05538514  6.40312424  0.          7.61577311  6.08276253\n",
      "   2.          2.82842712  3.60555128  9.05538514  8.94427191  5.09901951\n",
      "   7.61577311  8.60232527  5.38516481  4.47213595  8.06225775  1.\n",
      "   6.40312424  3.60555128  4.47213595  7.07106781  9.21954446  8.54400375\n",
      "   4.24264069  1.          3.          1.41421356  5.09901951  7.61577311\n",
      "   3.16227766  3.60555128  7.61577311  9.8488578   9.05538514  4.12310563\n",
      "   2.          4.47213595  8.          5.65685425  9.          9.05538514\n",
      "   2.          8.06225775  1.          1.          5.          0.\n",
      "   4.          3.          9.48683298  4.24264069  5.83095189  5.\n",
      "   1.          3.          2.23606798  1.          2.23606798  1.\n",
      "  10.29563014  7.07106781  5.83095189  5.83095189  8.60232527  5.\n",
      "   2.          5.09901951  9.21954446  5.          3.16227766  2.\n",
      "   5.          7.21110255  2.23606798  7.21110255  3.60555128  7.21110255\n",
      "   4.          5.          1.          2.23606798  9.05538514  4.\n",
      "   4.          6.32455532  9.48683298  4.          4.47213595 10.29563014\n",
      "   9.          5.          1.          6.40312424]\n",
      " [ 5.38516481  7.07106781  4.47213595  4.47213595  6.40312424  1.41421356\n",
      "   4.12310563  5.09901951  4.12310563  4.          4.24264069  2.23606798\n",
      "   4.47213595  2.82842712  2.23606798  5.09901951  5.65685425  1.41421356\n",
      "   4.24264069  5.83095189  2.23606798  2.          5.          3.\n",
      "   5.          2.23606798  2.          5.09901951  5.38516481  5.\n",
      "   3.16227766  4.12310563  5.          3.16227766  5.83095189  4.24264069\n",
      "   4.24264069  3.60555128  4.24264069  6.40312424  5.09901951  1.\n",
      "   4.47213595  4.47213595  4.          4.          5.          5.09901951\n",
      "   2.          5.          4.12310563  3.          4.12310563  4.\n",
      "   0.          5.          5.83095189  3.16227766  3.16227766  6.40312424\n",
      "   4.12310563  5.          2.23606798  3.          3.60555128  4.12310563\n",
      "   7.07106781  3.16227766  3.16227766  3.16227766  5.83095189  4.12310563\n",
      "   4.47213595  1.41421356  5.38516481  1.          4.24264069  4.47213595\n",
      "   6.40312424  4.47213595  2.23606798  4.47213595  2.23606798  4.47213595\n",
      "   0.          1.          3.          2.23606798  5.09901951  5.65685425\n",
      "   0.          2.82842712  5.83095189  5.65685425  2.          7.07106781\n",
      "   5.          1.          4.12310563  4.12310563]\n",
      " [ 8.24621125 12.04159458  6.08276253  1.         11.40175425  6.40312424\n",
      "   8.24621125  9.8488578   5.09901951  3.          9.21954446  7.21110255\n",
      "   5.          2.23606798  5.83095189  9.21954446 10.63014581  5.38516481\n",
      "   9.21954446 10.63014581  7.07106781  4.12310563  7.07106781  3.16227766\n",
      "   8.94427191  3.16227766  6.40312424  9.43398113 10.29563014 10.\n",
      "   3.          2.          6.          2.23606798  8.06225775  7.\n",
      "   1.          6.32455532  7.         11.40175425  9.21954446  5.65685425\n",
      "   1.          2.23606798  8.54400375  8.06225775  9.48683298  9.21954446\n",
      "   3.60555128  9.89949494  4.          3.16227766  3.16227766  3.\n",
      "   5.          0.          9.          3.          5.          8.\n",
      "   4.          6.          2.82842712  3.16227766  1.41421356  2.\n",
      "  12.04159458  8.06225775  5.          7.81024968 10.63014581  7.61577311\n",
      "   1.          6.40312424 10.29563014  5.83095189  1.          1.\n",
      "   8.          9.21954446  4.47213595  6.08276253  5.83095189  6.08276253\n",
      "   5.          5.83095189  3.16227766  2.82842712  9.21954446  7.\n",
      "   5.          6.08276253  9.          1.          4.12310563 12.04159458\n",
      "   9.48683298  5.83095189  4.          5.09901951]\n",
      " [10.63014581  8.          3.16227766  9.05538514  7.          5.65685425\n",
      "   2.23606798  4.          4.12310563  9.48683298  6.32455532  5.\n",
      "  10.29563014  7.07106781  7.81024968  2.          7.07106781  4.47213595\n",
      "   6.32455532  8.24621125  6.40312424  5.09901951  2.23606798  8.54400375\n",
      "   9.43398113  6.08276253  7.07106781  8.94427191  5.          6.08276253\n",
      "   6.          9.21954446 10.81665383  8.24621125 11.3137085   2.\n",
      "   8.          9.21954446  2.          7.          2.          6.40312424\n",
      "   9.05538514  7.07106781  3.16227766  8.60232527  3.          2.\n",
      "   7.61577311  7.28010989  9.8488578   8.54400375  6.08276253  9.48683298\n",
      "   5.83095189  9.          0.          6.          4.         12.04159458\n",
      "   9.8488578  10.81665383  7.28010989  8.54400375  8.06225775  9.21954446\n",
      "   8.          4.47213595  4.          7.21110255  8.24621125  9.21954446\n",
      "   9.05538514  5.65685425  5.          5.          8.          9.05538514\n",
      "  12.04159458  7.61577311  8.06225775  3.16227766  7.81024968  3.16227766\n",
      "   5.83095189  5.          8.54400375  7.28010989  2.         11.40175425\n",
      "   5.83095189  3.16227766  0.          9.05538514  5.09901951  8.\n",
      "   3.          5.          9.8488578   4.12310563]\n",
      " [ 8.06225775 10.          3.16227766  3.16227766  9.21954446  4.47213595\n",
      "   5.38516481  7.21110255  2.23606798  4.24264069  7.21110255  5.\n",
      "   5.83095189  1.41421356  5.          6.32455532  8.60232527  2.82842712\n",
      "   7.21110255  8.94427191  5.38516481  1.41421356  4.12310563  3.60555128\n",
      "   8.06225775  1.          5.09901951  8.24621125  7.81024968  7.81024968\n",
      "   0.          3.60555128  6.70820393  2.82842712  8.24621125  4.\n",
      "   2.          6.08276253  4.          9.21954446  6.32455532  4.12310563\n",
      "   3.16227766  1.41421356  5.83095189  7.07106781  6.70820393  6.32455532\n",
      "   3.16227766  8.06225775  5.          3.60555128  1.          4.24264069\n",
      "   3.16227766  3.          6.          0.          2.          8.54400375\n",
      "   5.          6.70820393  2.23606798  3.60555128  2.23606798  3.60555128\n",
      "  10.          5.65685425  2.          6.32455532  8.94427191  7.\n",
      "   3.16227766  4.47213595  7.81024968  3.60555128  2.          3.16227766\n",
      "   8.54400375  7.61577311  4.12310563  3.16227766  5.          3.16227766\n",
      "   3.16227766  3.60555128  3.60555128  2.23606798  6.32455532  7.61577311\n",
      "   3.16227766  3.16227766  6.          3.16227766  1.41421356 10.\n",
      "   6.70820393  3.60555128  5.          2.23606798]\n",
      " [ 8.54400375  8.94427191  1.41421356  5.09901951  8.06225775  4.\n",
      "   3.60555128  5.65685425  1.          5.83095189  6.32455532  4.12310563\n",
      "   7.07106781  3.16227766  5.38516481  4.47213595  7.61577311  2.\n",
      "   6.32455532  8.24621125  5.          1.41421356  2.23606798  5.\n",
      "   8.06225775  2.23606798  5.09901951  8.          6.40312424  6.70820393\n",
      "   2.          5.38516481  7.81024968  4.47213595  8.94427191  2.\n",
      "   4.          6.70820393  2.          8.06225775  4.47213595  4.12310563\n",
      "   5.09901951  3.16227766  4.24264069  7.07106781  5.          4.47213595\n",
      "   4.24264069  7.28010989  6.40312424  5.          2.23606798  5.83095189\n",
      "   3.16227766  5.          4.          2.          0.          9.43398113\n",
      "   6.40312424  7.81024968  3.60555128  5.          4.12310563  5.38516481\n",
      "   8.94427191  4.47213595  0.          6.          8.24621125  7.28010989\n",
      "   5.09901951  4.          6.40312424  3.          4.          5.09901951\n",
      "   9.43398113  7.07106781  5.          1.41421356  5.38516481  1.41421356\n",
      "   3.16227766  3.          5.          3.60555128  4.47213595  8.60232527\n",
      "   3.16227766  1.41421356  4.          5.09901951  1.41421356  8.94427191\n",
      "   5.          3.          6.40312424  1.        ]\n",
      " [ 2.          9.         10.81665383  7.          9.05538514  6.40312424\n",
      "  10.          9.8488578  10.29563014  5.          7.28010989  7.21110255\n",
      "   3.          7.28010989  4.24264069 10.81665383  8.06225775  7.81024968\n",
      "   7.28010989  7.          5.83095189  8.06225775 11.40175425  5.09901951\n",
      "   4.          7.61577311  5.          5.          9.48683298  8.24621125\n",
      "   8.54400375  6.          2.          6.08276253  1.         10.63014581\n",
      "   8.06225775  2.82842712 10.63014581  9.05538514 10.81665383  5.65685425\n",
      "   7.          9.21954446  9.43398113  4.12310563 10.29563014 10.81665383\n",
      "   5.38516481  7.07106781  4.          5.09901951  9.48683298  5.\n",
      "   6.40312424  8.         12.04159458  8.54400375  9.43398113  0.\n",
      "   4.          2.          6.32455532  5.09901951  7.07106781  6.\n",
      "   9.          8.06225775  9.43398113  5.38516481  7.          3.16227766\n",
      "   7.          6.40312424  9.48683298  7.07106781  8.06225775  7.\n",
      "   0.          6.08276253  4.47213595 10.81665383  4.24264069 10.81665383\n",
      "   6.40312424  7.07106781  5.09901951  6.32455532 10.81665383  1.\n",
      "   6.40312424  9.21954446 12.04159458  9.          8.06225775  9.\n",
      "  10.29563014  7.07106781  4.         10.29563014]\n",
      " [ 4.47213595  9.8488578   7.81024968  3.          9.48683298  5.\n",
      "   8.24621125  9.          7.07106781  1.          7.28010989  6.\n",
      "   1.          3.60555128  3.16227766  9.21954446  8.54400375  5.38516481\n",
      "   7.28010989  8.06225775  5.09901951  5.          8.60232527  1.41421356\n",
      "   5.65685425  4.24264069  4.12310563  6.40312424  9.05538514  8.24621125\n",
      "   5.          2.          2.          2.23606798  4.12310563  8.06225775\n",
      "   4.12310563  2.82842712  8.06225775  9.48683298  9.21954446  4.\n",
      "   3.          5.38516481  8.06225775  5.          9.05538514  9.21954446\n",
      "   2.23606798  7.61577311  0.          1.41421356  5.83095189  1.\n",
      "   4.12310563  4.          9.8488578   5.          6.40312424  4.\n",
      "   0.          2.          2.82842712  1.41421356  3.16227766  2.\n",
      "   9.8488578   7.          6.40312424  5.38516481  8.06225775  4.24264069\n",
      "   3.          5.          9.05538514  5.09901951  4.12310563  3.\n",
      "   4.          6.70820393  2.          7.81024968  3.16227766  7.81024968\n",
      "   4.12310563  5.09901951  1.41421356  2.82842712  9.21954446  3.\n",
      "   4.12310563  6.70820393  9.8488578   5.          5.          9.8488578\n",
      "   9.05538514  5.09901951  0.          7.07106781]\n",
      " [ 2.82842712  9.21954446  9.21954446  5.          9.05538514  5.38516481\n",
      "   8.94427191  9.21954446  8.60232527  3.          7.          6.32455532\n",
      "   1.          5.38516481  3.16227766  9.8488578   8.06225775  6.40312424\n",
      "   7.          7.28010989  5.09901951  6.40312424  9.89949494  3.16227766\n",
      "   4.47213595  5.83095189  4.12310563  5.38516481  9.05538514  8.\n",
      "   6.70820393  4.          0.          4.12310563  2.23606798  9.21954446\n",
      "   6.08276253  2.          9.21954446  9.05538514  9.8488578   4.47213595\n",
      "   5.          7.28010989  8.54400375  4.12310563  9.48683298  9.8488578\n",
      "   3.60555128  7.07106781  2.          3.16227766  7.61577311  3.\n",
      "   5.          6.         10.81665383  6.70820393  7.81024968  2.\n",
      "   2.          0.          4.47213595  3.16227766  5.09901951  4.\n",
      "   9.21954446  7.28010989  7.81024968  5.          7.28010989  3.16227766\n",
      "   5.          5.38516481  9.05538514  5.83095189  6.08276253  5.\n",
      "   2.          6.08276253  2.82842712  9.21954446  3.16227766  9.21954446\n",
      "   5.          5.83095189  3.16227766  4.47213595  9.8488578   1.\n",
      "   5.          7.81024968 10.81665383  7.          6.40312424  9.21954446\n",
      "   9.48683298  5.83095189  2.          8.60232527]\n",
      " [ 6.          9.21954446  5.          2.23606798  8.60232527  3.60555128\n",
      "   6.          7.28010989  4.24264069  2.23606798  6.40312424  4.47213595\n",
      "   3.60555128  1.          3.16227766  7.          7.81024968  3.\n",
      "   6.40312424  7.81024968  4.24264069  2.23606798  5.83095189  1.41421356\n",
      "   6.32455532  1.41421356  3.60555128  6.70820393  7.61577311  7.21110255\n",
      "   2.23606798  2.          4.47213595  1.          6.08276253  5.38516481\n",
      "   2.23606798  4.          5.38516481  8.60232527  7.          2.82842712\n",
      "   2.23606798  3.          6.08276253  5.38516481  7.07106781  7.\n",
      "   1.          7.07106781  2.82842712  1.41421356  3.16227766  2.23606798\n",
      "   2.23606798  2.82842712  7.28010989  2.23606798  3.60555128  6.32455532\n",
      "   2.82842712  4.47213595  0.          1.41421356  1.41421356  2.\n",
      "   9.21954446  5.38516481  3.60555128  5.          7.81024968  5.09901951\n",
      "   2.23606798  3.60555128  7.61577311  3.16227766  2.23606798  2.23606798\n",
      "   6.32455532  6.40312424  2.          5.          3.16227766  5.\n",
      "   2.23606798  3.16227766  1.41421356  0.          7.          5.38516481\n",
      "   2.23606798  4.12310563  7.28010989  3.60555128  2.23606798  9.21954446\n",
      "   7.07106781  3.16227766  2.82842712  4.24264069]\n",
      " [ 5.09901951  9.43398113  6.40312424  2.23606798  8.94427191  4.12310563\n",
      "   7.07106781  8.06225775  5.65685425  1.          6.70820393  5.09901951\n",
      "   2.23606798  2.23606798  2.82842712  8.06225775  8.06225775  4.12310563\n",
      "   6.70820393  7.81024968  4.47213595  3.60555128  7.21110255  0.\n",
      "   5.83095189  2.82842712  3.60555128  6.40312424  8.24621125  7.61577311\n",
      "   3.60555128  1.41421356  3.16227766  1.          5.          6.70820393\n",
      "   3.          3.16227766  6.70820393  8.94427191  8.06225775  3.16227766\n",
      "   2.23606798  4.12310563  7.          5.          8.          8.06225775\n",
      "   1.          7.21110255  1.41421356  0.          4.47213595  1.\n",
      "   3.          3.16227766  8.54400375  3.60555128  5.          5.09901951\n",
      "   1.41421356  3.16227766  1.41421356  0.          2.          1.41421356\n",
      "   9.43398113  6.08276253  5.          5.          7.81024968  4.47213595\n",
      "   2.23606798  4.12310563  8.24621125  4.          3.          2.23606798\n",
      "   5.09901951  6.40312424  1.41421356  6.40312424  2.82842712  6.40312424\n",
      "   3.          4.          0.          1.41421356  8.06225775  4.12310563\n",
      "   3.          5.38516481  8.54400375  4.12310563  3.60555128  9.43398113\n",
      "   8.          4.          1.41421356  5.65685425]\n",
      " [ 7.07106781 10.63014581  5.38516481  1.         10.          5.\n",
      "   7.07106781  8.54400375  4.47213595  2.23606798  7.81024968  5.83095189\n",
      "   4.12310563  1.          4.47213595  8.06225775  9.21954446  4.12310563\n",
      "   7.81024968  9.21954446  5.65685425  3.          6.32455532  2.\n",
      "   7.61577311  2.          5.          8.06225775  8.94427191  8.60232527\n",
      "   2.23606798  1.41421356  5.09901951  1.          7.          6.08276253\n",
      "   1.          5.09901951  6.08276253 10.          8.06225775  4.24264069\n",
      "   1.          2.23606798  7.28010989  6.70820393  8.24621125  8.06225775\n",
      "   2.23606798  8.48528137  3.16227766  2.          2.82842712  2.23606798\n",
      "   3.60555128  1.41421356  8.06225775  2.23606798  4.12310563  7.07106781\n",
      "   3.16227766  5.09901951  1.41421356  2.          0.          1.41421356\n",
      "  10.63014581  6.70820393  4.12310563  6.40312424  9.21954446  6.32455532\n",
      "   1.          5.          8.94427191  4.47213595  1.          1.\n",
      "   7.07106781  7.81024968  3.16227766  5.38516481  4.47213595  5.38516481\n",
      "   3.60555128  4.47213595  2.          1.41421356  8.06225775  6.08276253\n",
      "   3.60555128  5.          8.06225775  2.23606798  3.         10.63014581\n",
      "   8.24621125  4.47213595  3.16227766  4.47213595]\n",
      " [ 6.32455532 10.81665383  6.70820393  1.         10.29563014  5.38516481\n",
      "   8.          9.21954446  5.83095189  1.          8.06225775  6.32455532\n",
      "   3.          2.23606798  4.24264069  9.          9.43398113  5.\n",
      "   8.06225775  9.21954446  5.83095189  4.12310563  7.61577311  1.41421356\n",
      "   7.21110255  3.16227766  5.          7.81024968  9.48683298  8.94427191\n",
      "   3.60555128  0.          4.          1.          6.08276253  7.28010989\n",
      "   2.23606798  4.47213595  7.28010989 10.29563014  9.          4.47213595\n",
      "   1.          3.60555128  8.06225775  6.40312424  9.05538514  9.\n",
      "   2.23606798  8.60232527  2.          1.41421356  4.24264069  1.\n",
      "   4.12310563  2.          9.21954446  3.60555128  5.38516481  6.\n",
      "   2.          4.          2.          1.41421356  1.41421356  0.\n",
      "  10.81665383  7.28010989  5.38516481  6.40312424  9.21954446  5.83095189\n",
      "   1.          5.38516481  9.48683298  5.09901951  2.23606798  1.\n",
      "   6.          7.81024968  2.82842712  6.70820393  4.24264069  6.70820393\n",
      "   4.12310563  5.09901951  1.41421356  2.          9.          5.\n",
      "   4.12310563  6.08276253  9.21954446  3.          4.12310563 10.81665383\n",
      "   9.05538514  5.09901951  2.          5.83095189]\n",
      " [ 7.          0.          9.48683298 11.40175425  1.          5.65685425\n",
      "   6.08276253  4.          9.8488578  10.29563014  2.82842712  5.\n",
      "   9.48683298  9.89949494  6.70820393  6.          1.41421356  7.21110255\n",
      "   2.82842712  2.          5.          8.60232527  9.21954446  9.43398113\n",
      "   5.          9.21954446  5.83095189  4.          3.          2.23606798\n",
      "  10.         10.81665383  9.21954446 10.          8.          8.24621125\n",
      "  11.3137085   7.28010989  8.24621125  1.          6.          6.40312424\n",
      "  11.40175425 11.40175425  5.09901951  5.09901951  5.          6.\n",
      "   8.60232527  2.23606798  9.8488578   9.43398113 10.81665383 10.29563014\n",
      "   7.07106781 12.04159458  8.         10.          8.94427191  9.\n",
      "   9.8488578   9.21954446  9.21954446  9.43398113 10.63014581 10.81665383\n",
      "   0.          4.47213595  8.94427191  4.47213595  2.          6.08276253\n",
      "  11.40175425  5.65685425  3.          6.40312424 11.3137085  11.40175425\n",
      "   9.          3.16227766  8.06225775  9.48683298  6.70820393  9.48683298\n",
      "   7.07106781  6.40312424  9.43398113  9.21954446  6.          9.05538514\n",
      "   7.07106781  7.61577311  8.         12.72792206  8.60232527  0.\n",
      "   5.          6.40312424  9.8488578   9.8488578 ]\n",
      " [ 6.40312424  4.47213595  5.09901951  7.61577311  3.60555128  2.\n",
      "   2.23606798  2.          5.38516481  7.07106781  2.          1.\n",
      "   7.07106781  5.83095189  4.12310563  2.82842712  3.16227766  2.82842712\n",
      "   2.          4.          2.23606798  4.24264069  5.          6.08276253\n",
      "   5.          5.          3.16227766  4.47213595  2.23606798  2.23606798\n",
      "   5.65685425  7.28010989  7.28010989  6.32455532  7.21110255  4.\n",
      "   7.21110255  5.38516481  4.          3.60555128  2.82842712  3.\n",
      "   7.61577311  7.07106781  1.41421356  4.24264069  2.23606798  2.82842712\n",
      "   5.09901951  3.          7.          6.08276253  6.40312424  7.07106781\n",
      "   3.16227766  8.06225775  4.47213595  5.65685425  4.47213595  8.06225775\n",
      "   7.          7.28010989  5.38516481  6.08276253  6.70820393  7.28010989\n",
      "   4.47213595  0.          4.47213595  2.82842712  4.          5.\n",
      "   7.61577311  2.          2.23606798  2.23606798  7.21110255  7.61577311\n",
      "   8.06225775  3.16227766  5.          5.09901951  4.12310563  5.09901951\n",
      "   3.16227766  2.23606798  6.08276253  5.38516481  2.82842712  7.61577311\n",
      "   3.16227766  3.16227766  4.47213595  8.60232527  4.24264069  4.47213595\n",
      "   2.23606798  2.23606798  7.          5.38516481]\n",
      " [ 8.54400375  8.94427191  1.41421356  5.09901951  8.06225775  4.\n",
      "   3.60555128  5.65685425  1.          5.83095189  6.32455532  4.12310563\n",
      "   7.07106781  3.16227766  5.38516481  4.47213595  7.61577311  2.\n",
      "   6.32455532  8.24621125  5.          1.41421356  2.23606798  5.\n",
      "   8.06225775  2.23606798  5.09901951  8.          6.40312424  6.70820393\n",
      "   2.          5.38516481  7.81024968  4.47213595  8.94427191  2.\n",
      "   4.          6.70820393  2.          8.06225775  4.47213595  4.12310563\n",
      "   5.09901951  3.16227766  4.24264069  7.07106781  5.          4.47213595\n",
      "   4.24264069  7.28010989  6.40312424  5.          2.23606798  5.83095189\n",
      "   3.16227766  5.          4.          2.          0.          9.43398113\n",
      "   6.40312424  7.81024968  3.60555128  5.          4.12310563  5.38516481\n",
      "   8.94427191  4.47213595  0.          6.          8.24621125  7.28010989\n",
      "   5.09901951  4.          6.40312424  3.          4.          5.09901951\n",
      "   9.43398113  7.07106781  5.          1.41421356  5.38516481  1.41421356\n",
      "   3.16227766  3.          5.          3.60555128  4.47213595  8.60232527\n",
      "   3.16227766  1.41421356  4.          5.09901951  1.41421356  8.94427191\n",
      "   5.          3.          6.40312424  1.        ]\n",
      " [ 3.60555128  4.47213595  7.07106781  7.07106781  4.12310563  2.\n",
      "   5.          4.47213595  7.          5.83095189  2.          2.23606798\n",
      "   5.09901951  5.83095189  2.23606798  5.65685425  3.16227766  4.\n",
      "   2.          2.82842712  1.          5.09901951  7.28010989  5.\n",
      "   2.23606798  5.38516481  1.41421356  2.          4.12310563  3.\n",
      "   6.32455532  6.40312424  5.          5.65685425  4.47213595  6.32455532\n",
      "   7.21110255  3.          6.32455532  4.12310563  5.65685425  2.23606798\n",
      "   7.07106781  7.61577311  4.24264069  1.41421356  5.          5.65685425\n",
      "   4.24264069  2.23606798  5.38516481  5.          7.28010989  5.83095189\n",
      "   3.16227766  7.81024968  7.21110255  6.32455532  6.          5.38516481\n",
      "   5.38516481  5.          5.          5.          6.40312424  6.40312424\n",
      "   4.47213595  2.82842712  6.          0.          2.82842712  2.23606798\n",
      "   7.07106781  2.          4.12310563  3.          7.21110255  7.07106781\n",
      "   5.38516481  1.41421356  3.60555128  7.07106781  2.23606798  7.07106781\n",
      "   3.16227766  3.          5.          5.          5.65685425  5.09901951\n",
      "   3.16227766  5.09901951  7.21110255  8.60232527  5.09901951  4.47213595\n",
      "   5.          3.          5.38516481  7.        ]\n",
      " [ 5.          2.          9.05538514  9.89949494  2.23606798  4.47213595\n",
      "   6.08276253  4.47213595  9.21954446  8.60232527  2.          4.12310563\n",
      "   7.61577311  8.60232527  5.          6.32455532  1.41421356  6.32455532\n",
      "   2.          0.          3.60555128  7.61577311  9.          7.81024968\n",
      "   3.          8.06225775  4.24264069  2.          3.60555128  2.23606798\n",
      "   8.94427191  9.21954446  7.28010989  8.48528137  6.          8.\n",
      "  10.          5.38516481  8.          2.23606798  6.32455532  5.\n",
      "   9.89949494 10.29563014  5.09901951  3.16227766  5.38516481  6.32455532\n",
      "   7.07106781  1.          8.06225775  7.81024968  9.8488578   8.60232527\n",
      "   5.83095189 10.63014581  8.24621125  8.94427191  8.24621125  7.\n",
      "   8.06225775  7.28010989  7.81024968  7.81024968  9.21954446  9.21954446\n",
      "   2.          4.          8.24621125  2.82842712  0.          4.12310563\n",
      "   9.89949494  4.47213595  3.60555128  5.38516481 10.          9.89949494\n",
      "   7.          1.41421356  6.40312424  9.05538514  5.          9.05538514\n",
      "   5.83095189  5.38516481  7.81024968  7.81024968  6.32455532  7.07106781\n",
      "   5.83095189  7.07106781  8.24621125 11.40175425  7.61577311  2.\n",
      "   5.38516481  5.38516481  8.06225775  9.21954446]\n",
      " [ 1.41421356  6.08276253  8.54400375  6.70820393  6.          3.60555128\n",
      "   7.07106781  6.70820393  8.24621125  5.          4.12310563  4.24264069\n",
      "   3.60555128  6.08276253  2.          7.81024968  5.          5.38516481\n",
      "   4.12310563  4.12310563  2.82842712  6.08276253  8.94427191  4.47213595\n",
      "   1.41421356  6.          2.23606798  2.23606798  6.32455532  5.09901951\n",
      "   7.          5.83095189  3.16227766  5.38516481  2.23606798  8.06225775\n",
      "   7.28010989  1.41421356  8.06225775  6.          7.81024968  3.16227766\n",
      "   6.70820393  8.06225775  6.40312424  1.          7.21110255  7.81024968\n",
      "   4.12310563  4.          4.24264069  4.47213595  8.          5.\n",
      "   4.12310563  7.61577311  9.21954446  7.          7.28010989  3.16227766\n",
      "   4.24264069  3.16227766  5.09901951  4.47213595  6.32455532  5.83095189\n",
      "   6.08276253  5.          7.28010989  2.23606798  4.12310563  0.\n",
      "   6.70820393  3.60555128  6.32455532  4.47213595  7.28010989  6.70820393\n",
      "   3.16227766  3.          3.16227766  8.54400375  2.          8.54400375\n",
      "   4.12310563  4.47213595  4.47213595  5.09901951  7.81024968  3.\n",
      "   4.12310563  6.70820393  9.21954446  8.54400375  6.08276253  6.08276253\n",
      "   7.21110255  4.47213595  4.24264069  8.24621125]\n",
      " [ 7.28010989 11.40175425  6.32455532  0.         10.81665383  5.83095189\n",
      "   8.06225775  9.48683298  5.38516481  2.          8.60232527  6.70820393\n",
      "   4.          2.          5.          9.05538514 10.          5.09901951\n",
      "   8.60232527  9.89949494  6.40312424  4.          7.28010989  2.23606798\n",
      "   8.06225775  3.          5.65685425  8.60232527  9.8488578   9.43398113\n",
      "   3.16227766  1.          5.          1.41421356  7.07106781  7.07106781\n",
      "   1.41421356  5.38516481  7.07106781 10.81665383  9.05538514  5.\n",
      "   0.          2.82842712  8.24621125  7.21110255  9.21954446  9.05538514\n",
      "   2.82842712  9.21954446  3.          2.23606798  3.60555128  2.\n",
      "   4.47213595  1.          9.05538514  3.16227766  5.09901951  7.\n",
      "   3.          5.          2.23606798  2.23606798  1.          1.\n",
      "  11.40175425  7.61577311  5.09901951  7.07106781  9.89949494  6.70820393\n",
      "   0.          5.83095189  9.8488578   5.38516481  1.41421356  0.\n",
      "   7.          8.48528137  3.60555128  6.32455532  5.          6.32455532\n",
      "   4.47213595  5.38516481  2.23606798  2.23606798  9.05538514  6.\n",
      "   4.47213595  6.          9.05538514  2.          4.         11.40175425\n",
      "   9.21954446  5.38516481  3.          5.38516481]\n",
      " [ 5.          5.65685425  5.09901951  5.83095189  5.          0.\n",
      "   3.60555128  4.          5.          5.09901951  2.82842712  1.\n",
      "   5.09901951  4.24264069  2.23606798  4.47213595  4.24264069  2.\n",
      "   2.82842712  4.47213595  1.          3.16227766  5.38516481  4.12310563\n",
      "   4.12310563  3.60555128  1.41421356  4.          4.12310563  3.60555128\n",
      "   4.47213595  5.38516481  5.38516481  4.47213595  5.65685425  4.47213595\n",
      "   5.65685425  3.60555128  4.47213595  5.          4.47213595  1.\n",
      "   5.83095189  5.83095189  3.16227766  3.16227766  4.12310563  4.47213595\n",
      "   3.16227766  3.60555128  5.          4.12310563  5.38516481  5.09901951\n",
      "   1.41421356  6.40312424  5.65685425  4.47213595  4.          6.40312424\n",
      "   5.          5.38516481  3.60555128  4.12310563  5.          5.38516481\n",
      "   5.65685425  2.          4.          2.          4.47213595  3.60555128\n",
      "   5.83095189  0.          4.12310563  1.          5.65685425  5.83095189\n",
      "   6.40312424  3.16227766  3.          5.09901951  2.23606798  5.09901951\n",
      "   1.41421356  1.          4.12310563  3.60555128  4.47213595  5.83095189\n",
      "   1.41421356  3.16227766  5.65685425  7.07106781  3.16227766  5.65685425\n",
      "   4.12310563  1.          5.          5.        ]\n",
      " [ 7.61577311  3.          6.70820393  9.8488578   2.          4.12310563\n",
      "   3.16227766  1.          7.21110255  9.21954446  2.23606798  3.16227766\n",
      "   9.          8.06225775  6.          3.          2.23606798  5.\n",
      "   2.23606798  3.60555128  4.          6.40312424  6.32455532  8.24621125\n",
      "   5.83095189  7.21110255  5.          5.          0.          1.41421356\n",
      "   7.81024968  9.48683298  9.05538514  8.54400375  8.54400375  5.38516481\n",
      "   9.43398113  7.07106781  5.38516481  2.          3.          5.09901951\n",
      "   9.8488578   9.21954446  2.23606798  5.38516481  2.          3.\n",
      "   7.28010989  2.82842712  9.05538514  8.24621125  8.48528137  9.21954446\n",
      "   5.38516481 10.29563014  5.          7.81024968  6.40312424  9.48683298\n",
      "   9.05538514  9.05538514  7.61577311  8.24621125  8.94427191  9.48683298\n",
      "   3.          2.23606798  6.40312424  4.12310563  3.60555128  6.32455532\n",
      "   9.8488578   4.12310563  0.          4.47213595  9.43398113  9.8488578\n",
      "   9.48683298  3.60555128  7.07106781  6.70820393  6.          6.70820393\n",
      "   5.38516481  4.47213595  8.24621125  7.61577311  3.          9.21954446\n",
      "   5.38516481  5.          5.         10.81665383  6.40312424  3.\n",
      "   2.          4.47213595  9.05538514  7.21110255]\n",
      " [ 5.83095189  6.40312424  4.12310563  5.38516481  5.65685425  1.\n",
      "   3.16227766  4.12310563  4.          5.          3.60555128  1.41421356\n",
      "   5.38516481  3.60555128  2.82842712  4.12310563  5.          1.\n",
      "   3.60555128  5.38516481  2.          2.23606798  4.47213595  4.\n",
      "   5.09901951  2.82842712  2.23606798  5.          4.47213595  4.24264069\n",
      "   3.60555128  5.09901951  5.83095189  4.12310563  6.40312424  3.60555128\n",
      "   5.          4.24264069  3.60555128  5.65685425  4.12310563  1.41421356\n",
      "   5.38516481  5.          3.          4.12310563  4.          4.12310563\n",
      "   3.          4.47213595  5.09901951  4.          4.47213595  5.\n",
      "   1.          5.83095189  5.          3.60555128  3.          7.07106781\n",
      "   5.09901951  5.83095189  3.16227766  4.          4.47213595  5.09901951\n",
      "   6.40312424  2.23606798  3.          3.          5.38516481  4.47213595\n",
      "   5.38516481  1.          4.47213595  0.          5.          5.38516481\n",
      "   7.07106781  4.12310563  3.16227766  4.12310563  2.82842712  4.12310563\n",
      "   1.          0.          4.          3.16227766  4.12310563  6.40312424\n",
      "   1.          2.23606798  5.          6.40312424  2.23606798  6.40312424\n",
      "   4.          0.          5.09901951  4.        ]\n",
      " [ 8.06225775 11.3137085   5.09901951  1.41421356 10.63014581  5.65685425\n",
      "   7.28010989  8.94427191  4.12310563  3.16227766  8.48528137  6.40312424\n",
      "   5.09901951  1.41421356  5.38516481  8.24621125  9.89949494  4.47213595\n",
      "   8.48528137 10.          6.40312424  3.16227766  6.08276253  3.\n",
      "   8.54400375  2.23606798  5.83095189  8.94427191  9.43398113  9.21954446\n",
      "   2.          2.23606798  6.08276253  2.          8.          6.\n",
      "   0.          6.08276253  6.         10.63014581  8.24621125  5.\n",
      "   1.41421356  1.41421356  7.61577311  7.61577311  8.54400375  8.24621125\n",
      "   3.16227766  9.21954446  4.12310563  3.          2.23606798  3.16227766\n",
      "   4.24264069  1.          8.          2.          4.          8.06225775\n",
      "   4.12310563  6.08276253  2.23606798  3.          1.          2.23606798\n",
      "  11.3137085   7.21110255  4.          7.21110255 10.          7.28010989\n",
      "   1.41421356  5.65685425  9.43398113  5.          0.          1.41421356\n",
      "   8.06225775  8.60232527  4.12310563  5.09901951  5.38516481  5.09901951\n",
      "   4.24264069  5.          3.          2.23606798  8.24621125  7.07106781\n",
      "   4.24264069  5.09901951  8.          1.41421356  3.16227766 11.3137085\n",
      "   8.54400375  5.          4.12310563  4.12310563]\n",
      " [ 7.28010989 11.40175425  6.32455532  0.         10.81665383  5.83095189\n",
      "   8.06225775  9.48683298  5.38516481  2.          8.60232527  6.70820393\n",
      "   4.          2.          5.          9.05538514 10.          5.09901951\n",
      "   8.60232527  9.89949494  6.40312424  4.          7.28010989  2.23606798\n",
      "   8.06225775  3.          5.65685425  8.60232527  9.8488578   9.43398113\n",
      "   3.16227766  1.          5.          1.41421356  7.07106781  7.07106781\n",
      "   1.41421356  5.38516481  7.07106781 10.81665383  9.05538514  5.\n",
      "   0.          2.82842712  8.24621125  7.21110255  9.21954446  9.05538514\n",
      "   2.82842712  9.21954446  3.          2.23606798  3.60555128  2.\n",
      "   4.47213595  1.          9.05538514  3.16227766  5.09901951  7.\n",
      "   3.          5.          2.23606798  2.23606798  1.          1.\n",
      "  11.40175425  7.61577311  5.09901951  7.07106781  9.89949494  6.70820393\n",
      "   0.          5.83095189  9.8488578   5.38516481  1.41421356  0.\n",
      "   7.          8.48528137  3.60555128  6.32455532  5.          6.32455532\n",
      "   4.47213595  5.38516481  2.23606798  2.23606798  9.05538514  6.\n",
      "   4.47213595  6.          9.05538514  2.          4.         11.40175425\n",
      "   9.21954446  5.38516481  3.          5.38516481]\n",
      " [ 2.          9.         10.81665383  7.          9.05538514  6.40312424\n",
      "  10.          9.8488578  10.29563014  5.          7.28010989  7.21110255\n",
      "   3.          7.28010989  4.24264069 10.81665383  8.06225775  7.81024968\n",
      "   7.28010989  7.          5.83095189  8.06225775 11.40175425  5.09901951\n",
      "   4.          7.61577311  5.          5.          9.48683298  8.24621125\n",
      "   8.54400375  6.          2.          6.08276253  1.         10.63014581\n",
      "   8.06225775  2.82842712 10.63014581  9.05538514 10.81665383  5.65685425\n",
      "   7.          9.21954446  9.43398113  4.12310563 10.29563014 10.81665383\n",
      "   5.38516481  7.07106781  4.          5.09901951  9.48683298  5.\n",
      "   6.40312424  8.         12.04159458  8.54400375  9.43398113  0.\n",
      "   4.          2.          6.32455532  5.09901951  7.07106781  6.\n",
      "   9.          8.06225775  9.43398113  5.38516481  7.          3.16227766\n",
      "   7.          6.40312424  9.48683298  7.07106781  8.06225775  7.\n",
      "   0.          6.08276253  4.47213595 10.81665383  4.24264069 10.81665383\n",
      "   6.40312424  7.07106781  5.09901951  6.32455532 10.81665383  1.\n",
      "   6.40312424  9.21954446 12.04159458  9.          8.06225775  9.\n",
      "  10.29563014  7.07106781  4.         10.29563014]\n",
      " [ 4.12310563  3.16227766  8.          8.48528137  3.          3.16227766\n",
      "   5.38516481  4.24264069  8.06225775  7.21110255  1.41421356  3.\n",
      "   6.32455532  7.21110255  3.60555128  5.83095189  2.          5.09901951\n",
      "   1.41421356  1.41421356  2.23606798  6.32455532  8.06225775  6.40312424\n",
      "   2.23606798  6.70820393  2.82842712  1.41421356  3.60555128  2.23606798\n",
      "   7.61577311  7.81024968  6.08276253  7.07106781  5.09901951  7.07106781\n",
      "   8.60232527  4.12310563  7.07106781  3.          5.83095189  3.60555128\n",
      "   8.48528137  8.94427191  4.47213595  2.          5.          5.83095189\n",
      "   5.65685425  1.          6.70820393  6.40312424  8.54400375  7.21110255\n",
      "   4.47213595  9.21954446  7.61577311  7.61577311  7.07106781  6.08276253\n",
      "   6.70820393  6.08276253  6.40312424  6.40312424  7.81024968  7.81024968\n",
      "   3.16227766  3.16227766  7.07106781  1.41421356  1.41421356  3.\n",
      "   8.48528137  3.16227766  3.60555128  4.12310563  8.60232527  8.48528137\n",
      "   6.08276253  0.          5.          8.          3.60555128  8.\n",
      "   4.47213595  4.12310563  6.40312424  6.40312424  5.83095189  6.\n",
      "   4.47213595  6.          7.61577311 10.          6.32455532  3.16227766\n",
      "   5.          4.12310563  6.70820393  8.06225775]\n",
      " [ 4.          8.06225775  6.40312424  3.60555128  7.61577311  3.\n",
      "   6.32455532  7.          5.83095189  2.23606798  5.38516481  4.\n",
      "   2.23606798  3.          1.41421356  7.28010989  6.70820393  3.60555128\n",
      "   5.38516481  6.40312424  3.16227766  3.60555128  7.07106781  1.41421356\n",
      "   4.47213595  3.16227766  2.23606798  5.          7.07106781  6.32455532\n",
      "   4.12310563  2.82842712  2.82842712  2.23606798  4.12310563  6.40312424\n",
      "   4.12310563  2.          6.40312424  7.61577311  7.28010989  2.\n",
      "   3.60555128  5.          6.08276253  3.60555128  7.07106781  7.28010989\n",
      "   1.          5.83095189  2.          1.41421356  5.09901951  2.23606798\n",
      "   2.23606798  4.47213595  8.06225775  4.12310563  5.          4.47213595\n",
      "   2.          2.82842712  2.          1.41421356  3.16227766  2.82842712\n",
      "   8.06225775  5.          5.          3.60555128  6.40312424  3.16227766\n",
      "   3.60555128  3.          7.07106781  3.16227766  4.12310563  3.60555128\n",
      "   4.47213595  5.          0.          6.40312424  1.41421356  6.40312424\n",
      "   2.23606798  3.16227766  1.41421356  2.          7.28010989  3.60555128\n",
      "   2.23606798  5.          8.06225775  5.38516481  3.60555128  8.06225775\n",
      "   7.07106781  3.16227766  2.          5.83095189]\n",
      " [ 9.8488578   9.48683298  0.          6.32455532  8.54400375  5.09901951\n",
      "   3.60555128  5.83095189  1.          7.21110255  7.07106781  5.\n",
      "   8.48528137  4.47213595  6.70820393  4.24264069  8.24621125  3.16227766\n",
      "   7.07106781  9.05538514  6.08276253  2.82842712  1.          6.40312424\n",
      "   9.21954446  3.60555128  6.32455532  9.05538514  6.70820393  7.28010989\n",
      "   3.16227766  6.70820393  9.21954446  5.83095189 10.29563014  1.41421356\n",
      "   5.09901951  8.06225775  1.41421356  8.54400375  4.24264069  5.38516481\n",
      "   6.32455532  4.          4.47213595  8.24621125  5.          4.24264069\n",
      "   5.65685425  8.06225775  7.81024968  6.40312424  3.          7.21110255\n",
      "   4.47213595  6.08276253  3.16227766  3.16227766  1.41421356 10.81665383\n",
      "   7.81024968  9.21954446  5.          6.40312424  5.38516481  6.70820393\n",
      "   9.48683298  5.09901951  1.41421356  7.07106781  9.05538514  8.54400375\n",
      "   6.32455532  5.09901951  6.70820393  4.12310563  5.09901951  6.32455532\n",
      "  10.81665383  8.          6.40312424  0.          6.70820393  0.\n",
      "   4.47213595  4.12310563  6.40312424  5.          4.24264069 10.\n",
      "   4.47213595  2.          3.16227766  6.          2.82842712  9.48683298\n",
      "   5.          4.12310563  7.81024968  1.        ]\n",
      " [ 3.16227766  6.70820393  6.70820393  5.          6.32455532  2.23606798\n",
      "   5.83095189  6.08276253  6.32455532  3.60555128  4.12310563  3.16227766\n",
      "   3.          4.12310563  0.          6.70820393  5.38516481  3.60555128\n",
      "   4.12310563  5.          2.          4.12310563  7.21110255  2.82842712\n",
      "   3.16227766  4.          1.          3.60555128  6.          5.09901951\n",
      "   5.          4.24264069  3.16227766  3.60555128  3.60555128  6.40312424\n",
      "   5.38516481  1.41421356  6.40312424  6.32455532  6.70820393  1.41421356\n",
      "   5.          6.08276253  5.38516481  2.23606798  6.32455532  6.70820393\n",
      "   2.23606798  4.47213595  3.16227766  2.82842712  6.          3.60555128\n",
      "   2.23606798  5.83095189  7.81024968  5.          5.38516481  4.24264069\n",
      "   3.16227766  3.16227766  3.16227766  2.82842712  4.47213595  4.24264069\n",
      "   6.70820393  4.12310563  5.38516481  2.23606798  5.          2.\n",
      "   5.          2.23606798  6.          2.82842712  5.38516481  5.\n",
      "   4.24264069  3.60555128  1.41421356  6.70820393  0.          6.70820393\n",
      "   2.23606798  2.82842712  2.82842712  3.16227766  6.70820393  3.60555128\n",
      "   2.23606798  5.          7.81024968  6.70820393  4.12310563  6.70820393\n",
      "   6.32455532  2.82842712  3.16227766  6.32455532]\n",
      " [ 9.8488578   9.48683298  0.          6.32455532  8.54400375  5.09901951\n",
      "   3.60555128  5.83095189  1.          7.21110255  7.07106781  5.\n",
      "   8.48528137  4.47213595  6.70820393  4.24264069  8.24621125  3.16227766\n",
      "   7.07106781  9.05538514  6.08276253  2.82842712  1.          6.40312424\n",
      "   9.21954446  3.60555128  6.32455532  9.05538514  6.70820393  7.28010989\n",
      "   3.16227766  6.70820393  9.21954446  5.83095189 10.29563014  1.41421356\n",
      "   5.09901951  8.06225775  1.41421356  8.54400375  4.24264069  5.38516481\n",
      "   6.32455532  4.          4.47213595  8.24621125  5.          4.24264069\n",
      "   5.65685425  8.06225775  7.81024968  6.40312424  3.          7.21110255\n",
      "   4.47213595  6.08276253  3.16227766  3.16227766  1.41421356 10.81665383\n",
      "   7.81024968  9.21954446  5.          6.40312424  5.38516481  6.70820393\n",
      "   9.48683298  5.09901951  1.41421356  7.07106781  9.05538514  8.54400375\n",
      "   6.32455532  5.09901951  6.70820393  4.12310563  5.09901951  6.32455532\n",
      "  10.81665383  8.          6.40312424  0.          6.70820393  0.\n",
      "   4.47213595  4.12310563  6.40312424  5.          4.24264069 10.\n",
      "   4.47213595  2.          3.16227766  6.          2.82842712  9.48683298\n",
      "   5.          4.12310563  7.81024968  1.        ]\n",
      " [ 5.38516481  7.07106781  4.47213595  4.47213595  6.40312424  1.41421356\n",
      "   4.12310563  5.09901951  4.12310563  4.          4.24264069  2.23606798\n",
      "   4.47213595  2.82842712  2.23606798  5.09901951  5.65685425  1.41421356\n",
      "   4.24264069  5.83095189  2.23606798  2.          5.          3.\n",
      "   5.          2.23606798  2.          5.09901951  5.38516481  5.\n",
      "   3.16227766  4.12310563  5.          3.16227766  5.83095189  4.24264069\n",
      "   4.24264069  3.60555128  4.24264069  6.40312424  5.09901951  1.\n",
      "   4.47213595  4.47213595  4.          4.          5.          5.09901951\n",
      "   2.          5.          4.12310563  3.          4.12310563  4.\n",
      "   0.          5.          5.83095189  3.16227766  3.16227766  6.40312424\n",
      "   4.12310563  5.          2.23606798  3.          3.60555128  4.12310563\n",
      "   7.07106781  3.16227766  3.16227766  3.16227766  5.83095189  4.12310563\n",
      "   4.47213595  1.41421356  5.38516481  1.          4.24264069  4.47213595\n",
      "   6.40312424  4.47213595  2.23606798  4.47213595  2.23606798  4.47213595\n",
      "   0.          1.          3.          2.23606798  5.09901951  5.65685425\n",
      "   0.          2.82842712  5.83095189  5.65685425  2.          7.07106781\n",
      "   5.          1.          4.12310563  4.12310563]\n",
      " [ 5.83095189  6.40312424  4.12310563  5.38516481  5.65685425  1.\n",
      "   3.16227766  4.12310563  4.          5.          3.60555128  1.41421356\n",
      "   5.38516481  3.60555128  2.82842712  4.12310563  5.          1.\n",
      "   3.60555128  5.38516481  2.          2.23606798  4.47213595  4.\n",
      "   5.09901951  2.82842712  2.23606798  5.          4.47213595  4.24264069\n",
      "   3.60555128  5.09901951  5.83095189  4.12310563  6.40312424  3.60555128\n",
      "   5.          4.24264069  3.60555128  5.65685425  4.12310563  1.41421356\n",
      "   5.38516481  5.          3.          4.12310563  4.          4.12310563\n",
      "   3.          4.47213595  5.09901951  4.          4.47213595  5.\n",
      "   1.          5.83095189  5.          3.60555128  3.          7.07106781\n",
      "   5.09901951  5.83095189  3.16227766  4.          4.47213595  5.09901951\n",
      "   6.40312424  2.23606798  3.          3.          5.38516481  4.47213595\n",
      "   5.38516481  1.          4.47213595  0.          5.          5.38516481\n",
      "   7.07106781  4.12310563  3.16227766  4.12310563  2.82842712  4.12310563\n",
      "   1.          0.          4.          3.16227766  4.12310563  6.40312424\n",
      "   1.          2.23606798  5.          6.40312424  2.23606798  6.40312424\n",
      "   4.          0.          5.09901951  4.        ]\n",
      " [ 5.09901951  9.43398113  6.40312424  2.23606798  8.94427191  4.12310563\n",
      "   7.07106781  8.06225775  5.65685425  1.          6.70820393  5.09901951\n",
      "   2.23606798  2.23606798  2.82842712  8.06225775  8.06225775  4.12310563\n",
      "   6.70820393  7.81024968  4.47213595  3.60555128  7.21110255  0.\n",
      "   5.83095189  2.82842712  3.60555128  6.40312424  8.24621125  7.61577311\n",
      "   3.60555128  1.41421356  3.16227766  1.          5.          6.70820393\n",
      "   3.          3.16227766  6.70820393  8.94427191  8.06225775  3.16227766\n",
      "   2.23606798  4.12310563  7.          5.          8.          8.06225775\n",
      "   1.          7.21110255  1.41421356  0.          4.47213595  1.\n",
      "   3.          3.16227766  8.54400375  3.60555128  5.          5.09901951\n",
      "   1.41421356  3.16227766  1.41421356  0.          2.          1.41421356\n",
      "   9.43398113  6.08276253  5.          5.          7.81024968  4.47213595\n",
      "   2.23606798  4.12310563  8.24621125  4.          3.          2.23606798\n",
      "   5.09901951  6.40312424  1.41421356  6.40312424  2.82842712  6.40312424\n",
      "   3.          4.          0.          1.41421356  8.06225775  4.12310563\n",
      "   3.          5.38516481  8.54400375  4.12310563  3.60555128  9.43398113\n",
      "   8.          4.          1.41421356  5.65685425]\n",
      " [ 6.          9.21954446  5.          2.23606798  8.60232527  3.60555128\n",
      "   6.          7.28010989  4.24264069  2.23606798  6.40312424  4.47213595\n",
      "   3.60555128  1.          3.16227766  7.          7.81024968  3.\n",
      "   6.40312424  7.81024968  4.24264069  2.23606798  5.83095189  1.41421356\n",
      "   6.32455532  1.41421356  3.60555128  6.70820393  7.61577311  7.21110255\n",
      "   2.23606798  2.          4.47213595  1.          6.08276253  5.38516481\n",
      "   2.23606798  4.          5.38516481  8.60232527  7.          2.82842712\n",
      "   2.23606798  3.          6.08276253  5.38516481  7.07106781  7.\n",
      "   1.          7.07106781  2.82842712  1.41421356  3.16227766  2.23606798\n",
      "   2.23606798  2.82842712  7.28010989  2.23606798  3.60555128  6.32455532\n",
      "   2.82842712  4.47213595  0.          1.41421356  1.41421356  2.\n",
      "   9.21954446  5.38516481  3.60555128  5.          7.81024968  5.09901951\n",
      "   2.23606798  3.60555128  7.61577311  3.16227766  2.23606798  2.23606798\n",
      "   6.32455532  6.40312424  2.          5.          3.16227766  5.\n",
      "   2.23606798  3.16227766  1.41421356  0.          7.          5.38516481\n",
      "   2.23606798  4.12310563  7.28010989  3.60555128  2.23606798  9.21954446\n",
      "   7.07106781  3.16227766  2.82842712  4.24264069]\n",
      " [ 9.21954446  6.          4.24264069  9.05538514  5.          4.47213595\n",
      "   1.          2.          5.          9.05538514  4.47213595  3.60555128\n",
      "   9.48683298  7.07106781  6.70820393  0.          5.09901951  4.\n",
      "   4.47213595  6.32455532  5.          5.09901951  3.60555128  8.06225775\n",
      "   7.81024968  6.08276253  5.83095189  7.21110255  3.          4.12310563\n",
      "   6.32455532  9.          9.8488578   8.         10.          2.82842712\n",
      "   8.24621125  8.06225775  2.82842712  5.          0.          5.38516481\n",
      "   9.05538514  7.61577311  1.41421356  7.07106781  1.          0.\n",
      "   7.07106781  5.38516481  9.21954446  8.06225775  6.70820393  9.05538514\n",
      "   5.09901951  9.21954446  2.          6.32455532  4.47213595 10.81665383\n",
      "   9.21954446  9.8488578   7.          8.06225775  8.06225775  9.\n",
      "   6.          2.82842712  4.47213595  5.65685425  6.32455532  7.81024968\n",
      "   9.05538514  4.47213595  3.          4.12310563  8.24621125  9.05538514\n",
      "  10.81665383  5.83095189  7.28010989  4.24264069  6.70820393  4.24264069\n",
      "   5.09901951  4.12310563  8.06225775  7.          0.         10.29563014\n",
      "   5.09901951  3.16227766  2.          9.48683298  5.09901951  6.\n",
      "   1.          4.12310563  9.21954446  5.        ]\n",
      " [ 2.23606798  9.05538514 10.          6.          9.          5.83095189\n",
      "   9.43398113  9.48683298  9.43398113  4.          7.07106781  6.70820393\n",
      "   2.          6.32455532  3.60555128 10.29563014  8.          7.07106781\n",
      "   7.07106781  7.07106781  5.38516481  7.21110255 10.63014581  4.12310563\n",
      "   4.12310563  6.70820393  4.47213595  5.09901951  9.21954446  8.06225775\n",
      "   7.61577311  5.          1.          5.09901951  1.41421356  9.89949494\n",
      "   7.07106781  2.23606798  9.89949494  9.         10.29563014  5.\n",
      "   6.          8.24621125  8.94427191  4.          9.8488578  10.29563014\n",
      "   4.47213595  7.          3.          4.12310563  8.54400375  4.\n",
      "   5.65685425  7.         11.40175425  7.61577311  8.60232527  1.\n",
      "   3.          1.          5.38516481  4.12310563  6.08276253  5.\n",
      "   9.05538514  7.61577311  8.60232527  5.09901951  7.07106781  3.\n",
      "   6.          5.83095189  9.21954446  6.40312424  7.07106781  6.\n",
      "   1.          6.          3.60555128 10.          3.60555128 10.\n",
      "   5.65685425  6.40312424  4.12310563  5.38516481 10.29563014  0.\n",
      "   5.65685425  8.48528137 11.40175425  8.          7.21110255  9.05538514\n",
      "   9.8488578   6.40312424  3.          9.43398113]\n",
      " [ 5.38516481  7.07106781  4.47213595  4.47213595  6.40312424  1.41421356\n",
      "   4.12310563  5.09901951  4.12310563  4.          4.24264069  2.23606798\n",
      "   4.47213595  2.82842712  2.23606798  5.09901951  5.65685425  1.41421356\n",
      "   4.24264069  5.83095189  2.23606798  2.          5.          3.\n",
      "   5.          2.23606798  2.          5.09901951  5.38516481  5.\n",
      "   3.16227766  4.12310563  5.          3.16227766  5.83095189  4.24264069\n",
      "   4.24264069  3.60555128  4.24264069  6.40312424  5.09901951  1.\n",
      "   4.47213595  4.47213595  4.          4.          5.          5.09901951\n",
      "   2.          5.          4.12310563  3.          4.12310563  4.\n",
      "   0.          5.          5.83095189  3.16227766  3.16227766  6.40312424\n",
      "   4.12310563  5.          2.23606798  3.          3.60555128  4.12310563\n",
      "   7.07106781  3.16227766  3.16227766  3.16227766  5.83095189  4.12310563\n",
      "   4.47213595  1.41421356  5.38516481  1.          4.24264069  4.47213595\n",
      "   6.40312424  4.47213595  2.23606798  4.47213595  2.23606798  4.47213595\n",
      "   0.          1.          3.          2.23606798  5.09901951  5.65685425\n",
      "   0.          2.82842712  5.83095189  5.65685425  2.          7.07106781\n",
      "   5.          1.          4.12310563  4.12310563]\n",
      " [ 8.06225775  7.61577311  2.          6.          6.70820393  3.16227766\n",
      "   2.23606798  4.24264069  2.23606798  6.32455532  5.09901951  3.\n",
      "   7.21110255  4.          5.          3.16227766  6.32455532  1.41421356\n",
      "   5.09901951  7.07106781  4.12310563  2.          2.23606798  5.38516481\n",
      "   7.28010989  3.          4.47213595  7.07106781  5.          5.38516481\n",
      "   3.16227766  6.08276253  7.81024968  5.09901951  8.60232527  1.41421356\n",
      "   5.09901951  6.40312424  1.41421356  6.70820393  3.16227766  3.60555128\n",
      "   6.          4.47213595  2.82842712  6.32455532  3.60555128  3.16227766\n",
      "   4.47213595  6.08276253  6.70820393  5.38516481  3.60555128  6.32455532\n",
      "   2.82842712  6.08276253  3.16227766  3.16227766  1.41421356  9.21954446\n",
      "   6.70820393  7.81024968  4.12310563  5.38516481  5.          6.08276253\n",
      "   7.61577311  3.16227766  1.41421356  5.09901951  7.07106781  6.70820393\n",
      "   6.          3.16227766  5.          2.23606798  5.09901951  6.\n",
      "   9.21954446  6.          5.          2.          5.          2.\n",
      "   2.82842712  2.23606798  5.38516481  4.12310563  3.16227766  8.48528137\n",
      "   2.82842712  0.          3.16227766  6.32455532  2.          7.61577311\n",
      "   3.60555128  2.23606798  6.70820393  2.23606798]\n",
      " [10.63014581  8.          3.16227766  9.05538514  7.          5.65685425\n",
      "   2.23606798  4.          4.12310563  9.48683298  6.32455532  5.\n",
      "  10.29563014  7.07106781  7.81024968  2.          7.07106781  4.47213595\n",
      "   6.32455532  8.24621125  6.40312424  5.09901951  2.23606798  8.54400375\n",
      "   9.43398113  6.08276253  7.07106781  8.94427191  5.          6.08276253\n",
      "   6.          9.21954446 10.81665383  8.24621125 11.3137085   2.\n",
      "   8.          9.21954446  2.          7.          2.          6.40312424\n",
      "   9.05538514  7.07106781  3.16227766  8.60232527  3.          2.\n",
      "   7.61577311  7.28010989  9.8488578   8.54400375  6.08276253  9.48683298\n",
      "   5.83095189  9.          0.          6.          4.         12.04159458\n",
      "   9.8488578  10.81665383  7.28010989  8.54400375  8.06225775  9.21954446\n",
      "   8.          4.47213595  4.          7.21110255  8.24621125  9.21954446\n",
      "   9.05538514  5.65685425  5.          5.          8.          9.05538514\n",
      "  12.04159458  7.61577311  8.06225775  3.16227766  7.81024968  3.16227766\n",
      "   5.83095189  5.          8.54400375  7.28010989  2.         11.40175425\n",
      "   5.83095189  3.16227766  0.          9.05538514  5.09901951  8.\n",
      "   3.          5.          9.8488578   4.12310563]\n",
      " [ 9.21954446 12.72792206  6.          2.         12.04159458  7.07106781\n",
      "   8.54400375 10.29563014  5.          4.          9.89949494  7.81024968\n",
      "   6.          2.82842712  6.70820393  9.48683298 11.3137085   5.83095189\n",
      "   9.89949494 11.40175425  7.81024968  4.47213595  7.          4.12310563\n",
      "   9.8488578   3.60555128  7.21110255 10.29563014 10.81665383 10.63014581\n",
      "   3.16227766  3.          7.          3.16227766  9.05538514  7.07106781\n",
      "   1.41421356  7.28010989  7.07106781 12.04159458  9.48683298  6.40312424\n",
      "   2.          2.          8.94427191  8.94427191  9.8488578   9.48683298\n",
      "   4.47213595 10.63014581  5.          4.12310563  3.          4.\n",
      "   5.65685425  1.          9.05538514  3.16227766  5.09901951  9.\n",
      "   5.          7.          3.60555128  4.12310563  2.23606798  3.\n",
      "  12.72792206  8.60232527  5.09901951  8.60232527 11.40175425  8.54400375\n",
      "   2.          7.07106781 10.81665383  6.40312424  1.41421356  2.\n",
      "   9.         10.          5.38516481  6.          6.70820393  6.\n",
      "   5.65685425  6.40312424  4.12310563  3.60555128  9.48683298  8.\n",
      "   5.65685425  6.32455532  9.05538514  0.          4.47213595 12.72792206\n",
      "   9.8488578   6.40312424  5.          5.        ]\n",
      " [ 7.28010989  8.60232527  2.82842712  4.          7.81024968  3.16227766\n",
      "   4.12310563  5.83095189  2.23606798  4.47213595  5.83095189  3.60555128\n",
      "   5.65685425  2.          4.12310563  5.09901951  7.21110255  1.41421356\n",
      "   5.83095189  7.61577311  4.12310563  0.          3.60555128  3.60555128\n",
      "   7.          1.          4.          7.07106781  6.40312424  6.40312424\n",
      "   1.41421356  4.12310563  6.40312424  3.16227766  7.61577311  3.16227766\n",
      "   3.16227766  5.38516481  3.16227766  7.81024968  5.09901951  3.\n",
      "   4.          2.82842712  4.47213595  6.          5.38516481  5.09901951\n",
      "   2.82842712  6.70820393  5.          3.60555128  2.23606798  4.47213595\n",
      "   2.          4.12310563  5.09901951  1.41421356  1.41421356  8.06225775\n",
      "   5.          6.40312424  2.23606798  3.60555128  3.          4.12310563\n",
      "   8.60232527  4.24264069  1.41421356  5.09901951  7.61577311  6.08276253\n",
      "   4.          3.16227766  6.40312424  2.23606798  3.16227766  4.\n",
      "   8.06225775  6.32455532  3.60555128  2.82842712  4.12310563  2.82842712\n",
      "   2.          2.23606798  3.60555128  2.23606798  5.09901951  7.21110255\n",
      "   2.          2.          5.09901951  4.47213595  0.          8.60232527\n",
      "   5.38516481  2.23606798  5.          2.23606798]\n",
      " [ 7.          0.          9.48683298 11.40175425  1.          5.65685425\n",
      "   6.08276253  4.          9.8488578  10.29563014  2.82842712  5.\n",
      "   9.48683298  9.89949494  6.70820393  6.          1.41421356  7.21110255\n",
      "   2.82842712  2.          5.          8.60232527  9.21954446  9.43398113\n",
      "   5.          9.21954446  5.83095189  4.          3.          2.23606798\n",
      "  10.         10.81665383  9.21954446 10.          8.          8.24621125\n",
      "  11.3137085   7.28010989  8.24621125  1.          6.          6.40312424\n",
      "  11.40175425 11.40175425  5.09901951  5.09901951  5.          6.\n",
      "   8.60232527  2.23606798  9.8488578   9.43398113 10.81665383 10.29563014\n",
      "   7.07106781 12.04159458  8.         10.          8.94427191  9.\n",
      "   9.8488578   9.21954446  9.21954446  9.43398113 10.63014581 10.81665383\n",
      "   0.          4.47213595  8.94427191  4.47213595  2.          6.08276253\n",
      "  11.40175425  5.65685425  3.          6.40312424 11.3137085  11.40175425\n",
      "   9.          3.16227766  8.06225775  9.48683298  6.70820393  9.48683298\n",
      "   7.07106781  6.40312424  9.43398113  9.21954446  6.          9.05538514\n",
      "   7.07106781  7.61577311  8.         12.72792206  8.60232527  0.\n",
      "   5.          6.40312424  9.8488578   9.8488578 ]\n",
      " [ 8.60232527  5.          5.          9.21954446  4.          4.12310563\n",
      "   1.41421356  1.          5.65685425  9.          3.60555128  3.16227766\n",
      "   9.21954446  7.28010989  6.32455532  1.          4.12310563  4.12310563\n",
      "   3.60555128  5.38516481  4.47213595  5.38516481  4.47213595  8.\n",
      "   7.07106781  6.32455532  5.38516481  6.40312424  2.          3.16227766\n",
      "   6.70820393  9.05538514  9.48683298  8.06225775  9.43398113  3.60555128\n",
      "   8.54400375  7.61577311  3.60555128  4.          1.          5.09901951\n",
      "   9.21954446  8.06225775  1.          6.40312424  0.          1.\n",
      "   7.          4.47213595  9.05538514  8.          7.21110255  9.\n",
      "   5.          9.48683298  3.          6.70820393  5.         10.29563014\n",
      "   9.05538514  9.48683298  7.07106781  8.          8.24621125  9.05538514\n",
      "   5.          2.23606798  5.          5.          5.38516481  7.21110255\n",
      "   9.21954446  4.12310563  2.          4.          8.54400375  9.21954446\n",
      "  10.29563014  5.          7.07106781  5.          6.32455532  5.\n",
      "   5.          4.          8.          7.07106781  1.          9.8488578\n",
      "   5.          3.60555128  3.          9.8488578   5.38516481  5.\n",
      "   0.          4.          9.05538514  5.65685425]\n",
      " [ 5.83095189  6.40312424  4.12310563  5.38516481  5.65685425  1.\n",
      "   3.16227766  4.12310563  4.          5.          3.60555128  1.41421356\n",
      "   5.38516481  3.60555128  2.82842712  4.12310563  5.          1.\n",
      "   3.60555128  5.38516481  2.          2.23606798  4.47213595  4.\n",
      "   5.09901951  2.82842712  2.23606798  5.          4.47213595  4.24264069\n",
      "   3.60555128  5.09901951  5.83095189  4.12310563  6.40312424  3.60555128\n",
      "   5.          4.24264069  3.60555128  5.65685425  4.12310563  1.41421356\n",
      "   5.38516481  5.          3.          4.12310563  4.          4.12310563\n",
      "   3.          4.47213595  5.09901951  4.          4.47213595  5.\n",
      "   1.          5.83095189  5.          3.60555128  3.          7.07106781\n",
      "   5.09901951  5.83095189  3.16227766  4.          4.47213595  5.09901951\n",
      "   6.40312424  2.23606798  3.          3.          5.38516481  4.47213595\n",
      "   5.38516481  1.          4.47213595  0.          5.          5.38516481\n",
      "   7.07106781  4.12310563  3.16227766  4.12310563  2.82842712  4.12310563\n",
      "   1.          0.          4.          3.16227766  4.12310563  6.40312424\n",
      "   1.          2.23606798  5.          6.40312424  2.23606798  6.40312424\n",
      "   4.          0.          5.09901951  4.        ]\n",
      " [ 4.47213595  9.8488578   7.81024968  3.          9.48683298  5.\n",
      "   8.24621125  9.          7.07106781  1.          7.28010989  6.\n",
      "   1.          3.60555128  3.16227766  9.21954446  8.54400375  5.38516481\n",
      "   7.28010989  8.06225775  5.09901951  5.          8.60232527  1.41421356\n",
      "   5.65685425  4.24264069  4.12310563  6.40312424  9.05538514  8.24621125\n",
      "   5.          2.          2.          2.23606798  4.12310563  8.06225775\n",
      "   4.12310563  2.82842712  8.06225775  9.48683298  9.21954446  4.\n",
      "   3.          5.38516481  8.06225775  5.          9.05538514  9.21954446\n",
      "   2.23606798  7.61577311  0.          1.41421356  5.83095189  1.\n",
      "   4.12310563  4.          9.8488578   5.          6.40312424  4.\n",
      "   0.          2.          2.82842712  1.41421356  3.16227766  2.\n",
      "   9.8488578   7.          6.40312424  5.38516481  8.06225775  4.24264069\n",
      "   3.          5.          9.05538514  5.09901951  4.12310563  3.\n",
      "   4.          6.70820393  2.          7.81024968  3.16227766  7.81024968\n",
      "   4.12310563  5.09901951  1.41421356  2.82842712  9.21954446  3.\n",
      "   4.12310563  6.70820393  9.8488578   5.          5.          9.8488578\n",
      "   9.05538514  5.09901951  0.          7.07106781]\n",
      " [ 9.48683298  9.8488578   1.          5.38516481  8.94427191  5.\n",
      "   4.24264069  6.40312424  0.          6.40312424  7.28010989  5.09901951\n",
      "   7.81024968  3.60555128  6.32455532  5.          8.54400375  3.\n",
      "   7.28010989  9.21954446  6.          2.23606798  2.          5.65685425\n",
      "   9.05538514  2.82842712  6.08276253  9.          7.21110255  7.61577311\n",
      "   2.23606798  5.83095189  8.60232527  5.          9.8488578   2.23606798\n",
      "   4.12310563  7.61577311  2.23606798  8.94427191  5.          5.09901951\n",
      "   5.38516481  3.          5.          8.06225775  5.65685425  5.\n",
      "   5.          8.24621125  7.07106781  5.65685425  2.          6.40312424\n",
      "   4.12310563  5.09901951  4.12310563  2.23606798  1.         10.29563014\n",
      "   7.07106781  8.60232527  4.24264069  5.65685425  4.47213595  5.83095189\n",
      "   9.8488578   5.38516481  1.          7.          9.21954446  8.24621125\n",
      "   5.38516481  5.          7.21110255  4.          4.12310563  5.38516481\n",
      "  10.29563014  8.06225775  5.83095189  1.          6.32455532  1.\n",
      "   4.12310563  4.          5.65685425  4.24264069  5.          9.43398113\n",
      "   4.12310563  2.23606798  4.12310563  5.          2.23606798  9.8488578\n",
      "   5.65685425  4.          7.07106781  0.        ]]\n"
     ]
    }
   ],
   "source": [
    "a = np.random.randint(0,10,(100,2))\n",
    "\n",
    "x,y = np.atleast_2d(a[:,0],a[:,1])\n",
    "d = np.sqrt((x-x.T)**2 + (y-y.T)**2)\n",
    "print(d)"
   ]
  },
  {
   "cell_type": "markdown",
   "id": "fb93d503",
   "metadata": {},
   "source": [
    "#### 53. How to convert a float (32 bits) array into an integer (32 bits) in place?"
   ]
  },
  {
   "cell_type": "markdown",
   "id": "7bc28316",
   "metadata": {},
   "source": [
    "# explain"
   ]
  },
  {
   "cell_type": "markdown",
   "id": "9c0ce40b",
   "metadata": {},
   "source": [
    "#### 54. How to read the following file? (★★☆)\n",
    "```\n",
    "1, 2, 3, 4, 5\n",
    "6,  ,  , 7, 8\n",
    " ,  , 9,10,11\n",
    "```"
   ]
  },
  {
   "cell_type": "code",
   "execution_count": null,
   "id": "aecef043",
   "metadata": {},
   "outputs": [],
   "source": []
  },
  {
   "cell_type": "markdown",
   "id": "bdfe9e5d",
   "metadata": {},
   "source": [
    "#### 55. What is the equivalent of enumerate for numpy arrays? (★★☆)"
   ]
  },
  {
   "cell_type": "code",
   "execution_count": 100,
   "id": "bcc193c9",
   "metadata": {},
   "outputs": [
    {
     "name": "stdout",
     "output_type": "stream",
     "text": [
      "(0, 0) 0\n",
      "(0, 1) 1\n",
      "(0, 2) 2\n",
      "(1, 0) 3\n",
      "(1, 1) 4\n",
      "(1, 2) 5\n",
      "(2, 0) 6\n",
      "(2, 1) 7\n",
      "(2, 2) 8\n"
     ]
    }
   ],
   "source": [
    "Z = np.arange(9).reshape(3,3)\n",
    "for index, value in np.ndenumerate(Z):\n",
    "    print(index, value)\n"
   ]
  },
  {
   "cell_type": "markdown",
   "id": "fa2e5fc9",
   "metadata": {},
   "source": [
    "#### 56. Generate a generic 2D Gaussian-like array (★★☆)"
   ]
  },
  {
   "cell_type": "code",
   "execution_count": null,
   "id": "7b94a92a",
   "metadata": {},
   "outputs": [],
   "source": []
  },
  {
   "cell_type": "markdown",
   "id": "465a1ea4",
   "metadata": {},
   "source": [
    "#### 57. How to randomly place p elements in a 2D array? (★★☆)"
   ]
  },
  {
   "cell_type": "code",
   "execution_count": 107,
   "id": "c2d1d13f",
   "metadata": {},
   "outputs": [
    {
     "name": "stdout",
     "output_type": "stream",
     "text": [
      "[[0. 0. 0. 0. 0. 0. 0. 0. 0. 0.]\n",
      " [0. 0. 0. 0. 0. 0. 0. 0. 0. 0.]\n",
      " [0. 0. 0. 0. 0. 0. 0. 3. 0. 0.]\n",
      " [0. 0. 0. 0. 0. 0. 0. 0. 0. 0.]\n",
      " [0. 0. 0. 0. 0. 0. 0. 0. 0. 0.]\n",
      " [0. 0. 0. 0. 0. 0. 0. 0. 0. 0.]\n",
      " [0. 0. 0. 0. 0. 0. 0. 0. 0. 0.]\n",
      " [0. 0. 0. 0. 0. 0. 0. 0. 0. 0.]\n",
      " [0. 0. 0. 0. 0. 0. 0. 0. 0. 0.]\n",
      " [0. 0. 0. 0. 0. 0. 0. 0. 0. 0.]]\n"
     ]
    }
   ],
   "source": [
    "n = 10\n",
    "p = 3\n",
    "Z = np.zeros((n,n))\n",
    "np.put(Z, np.random.choice(range(n*n), replace=False),p)\n",
    "print(Z)"
   ]
  },
  {
   "cell_type": "markdown",
   "id": "d75998b5",
   "metadata": {},
   "source": [
    "#### 58. Subtract the mean of each row of a matrix (★★☆)"
   ]
  },
  {
   "cell_type": "code",
   "execution_count": 117,
   "id": "44c2043a",
   "metadata": {},
   "outputs": [
    {
     "name": "stdout",
     "output_type": "stream",
     "text": [
      "[[ 0.33686871 -0.13971492  0.18833231  0.35246615 -0.39731046 -0.30681593\n",
      "  -0.41529397 -0.17357687  0.12934017  0.42570481]\n",
      " [-0.07131645  0.09862699 -0.12203308 -0.35464896  0.43740161 -0.14278929\n",
      "   0.0934455  -0.03622749  0.44017238 -0.3426312 ]\n",
      " [-0.43036535 -0.32018361  0.18848176 -0.32080943  0.5204457   0.34140688\n",
      "   0.19568099 -0.42544567  0.00369455  0.24709418]\n",
      " [ 0.28561054  0.25449908  0.28310195  0.26651385 -0.41227247  0.19303075\n",
      "  -0.22271793  0.14040337 -0.44578521 -0.34238394]\n",
      " [ 0.54169527  0.27778261 -0.27081886  0.36682283 -0.26055191  0.08121147\n",
      "   0.28975226 -0.31993195 -0.41311172 -0.29285001]]\n"
     ]
    }
   ],
   "source": [
    "x = np.random.rand(5,10)\n",
    "mean = x - x.mean(axis=1,keepdims=True)\n",
    "print(mean)"
   ]
  },
  {
   "cell_type": "markdown",
   "id": "4f2e8b7a",
   "metadata": {},
   "source": [
    "#### 59. How to sort an array by the nth column? (★★☆)"
   ]
  },
  {
   "cell_type": "code",
   "execution_count": 122,
   "id": "d0b80ded",
   "metadata": {},
   "outputs": [
    {
     "name": "stdout",
     "output_type": "stream",
     "text": [
      "[[7 3 6]\n",
      " [1 7 7]\n",
      " [1 0 8]]\n",
      "[[1 0 8]\n",
      " [7 3 6]\n",
      " [1 7 7]]\n"
     ]
    }
   ],
   "source": [
    "Z = np.random.randint(0,10,(3,3))\n",
    "print(Z)\n",
    "print(Z[Z[:,1].argsort()])"
   ]
  },
  {
   "cell_type": "markdown",
   "id": "be56980d",
   "metadata": {},
   "source": [
    "#### 60. How to tell if a given 2D array has null columns? (★★☆)"
   ]
  },
  {
   "cell_type": "code",
   "execution_count": 131,
   "id": "6dc4eaf6",
   "metadata": {},
   "outputs": [
    {
     "name": "stdout",
     "output_type": "stream",
     "text": [
      "True\n",
      "False\n"
     ]
    }
   ],
   "source": [
    "a = np.random.randint(0,3,(3,10))\n",
    "\n",
    "\n",
    "print((~a.any(axis=0).any()))\n",
    "      "
   ]
  },
  {
   "cell_type": "markdown",
   "id": "92e0b60c",
   "metadata": {},
   "source": [
    "#### 61. Find the nearest value from a given value in an array (★★☆)"
   ]
  },
  {
   "cell_type": "code",
   "execution_count": 3,
   "id": "0b37b462",
   "metadata": {},
   "outputs": [
    {
     "name": "stdout",
     "output_type": "stream",
     "text": [
      "[1.32683027 1.06588106 0.5383746  2.21879344 2.41964355 2.04088179\n",
      " 0.56505673 1.59942087 0.08749631 2.6321095 ]\n"
     ]
    }
   ],
   "source": [
    "import numpy as np\n",
    "a = np.random.uniform(0,3,(3,10))\n",
    "g=np.random.uniform(0,3)\n",
    "x=abs(np.abs(g-a).argmin())\n",
    "print(a[x])"
   ]
  },
  {
   "cell_type": "markdown",
   "id": "476bb933",
   "metadata": {},
   "source": [
    "#### 62. Considering two arrays with shape (1,3) and (3,1), how to compute their sum using an iterator? (★★☆)"
   ]
  },
  {
   "cell_type": "code",
   "execution_count": null,
   "id": "33c8566d",
   "metadata": {},
   "outputs": [],
   "source": [
    "Z = np.random.uniform(0,1,10)\n",
    "z = 0.5\n",
    "m = Z[np.abs(Z - z).argmin()]\n",
    "print(m)"
   ]
  },
  {
   "cell_type": "code",
   "execution_count": null,
   "id": "5dd6da84",
   "metadata": {},
   "outputs": [],
   "source": [
    "#### 63. Create an array class that has a name attribute (★★☆)"
   ]
  },
  {
   "cell_type": "code",
   "execution_count": null,
   "id": "db81ac8b",
   "metadata": {},
   "outputs": [],
   "source": []
  },
  {
   "cell_type": "markdown",
   "id": "fb0a4de3",
   "metadata": {},
   "source": [
    "#### 64. Consider a given vector, how to add 1 to each element indexed by a second vector (be careful with repeated indices)? (★★★)"
   ]
  },
  {
   "cell_type": "code",
   "execution_count": 22,
   "id": "4726a17d",
   "metadata": {},
   "outputs": [
    {
     "name": "stdout",
     "output_type": "stream",
     "text": [
      "[1. 1. 1. 1. 1. 1. 1. 1. 1. 1.]\n",
      "[5. 3. 3. 2. 3. 2. 6. 2. 2. 2.]\n"
     ]
    }
   ],
   "source": [
    "a = np.ones(10)\n",
    "b = np.random.randint(0,len(a),20)\n",
    "#a += np.bincount(b,minlength=len(a))\n",
    "print(a)\n",
    "np.add.at(a,b,1)\n",
    "print(a)"
   ]
  },
  {
   "cell_type": "markdown",
   "id": "ae1a4b8d",
   "metadata": {},
   "source": [
    "#### 65. How to accumulate elements of a vector (X) to an array (F) based on an index list (I)? (★★★)"
   ]
  },
  {
   "cell_type": "markdown",
   "id": "c1e40af5",
   "metadata": {},
   "source": [
    "# what the heck is this\n",
    "X = [1,2,3,4,5,6]\n",
    "I = [1,3,9,3,4,1]\n",
    "print(np.bincount(X))\n",
    "print(np.bincount(I))\n",
    "F = np.bincount(I,X)\n",
    "print(F)"
   ]
  },
  {
   "cell_type": "markdown",
   "id": "a5127520",
   "metadata": {},
   "source": [
    "#### 66. Considering a (w,h,3) image of (dtype=ubyte), compute the number of unique colors (★★☆)"
   ]
  },
  {
   "cell_type": "code",
   "execution_count": null,
   "id": "546bc0a2",
   "metadata": {},
   "outputs": [],
   "source": []
  },
  {
   "cell_type": "markdown",
   "id": "1eaa1407",
   "metadata": {},
   "source": [
    "#### 67. Considering a four dimensions array, how to get sum over the last two axis at once? (★★★)"
   ]
  },
  {
   "cell_type": "code",
   "execution_count": null,
   "id": "7823c50c",
   "metadata": {},
   "outputs": [],
   "source": []
  },
  {
   "cell_type": "markdown",
   "id": "18cd6a16",
   "metadata": {},
   "source": [
    "#### 68. Considering a one-dimensional vector D, how to compute means of subsets of D using a vector S of same size describing subset  indices? (★★★)"
   ]
  },
  {
   "cell_type": "code",
   "execution_count": null,
   "id": "2185257f",
   "metadata": {},
   "outputs": [],
   "source": []
  },
  {
   "cell_type": "markdown",
   "id": "fb2b3f5d",
   "metadata": {},
   "source": [
    "#### 69. How to get the diagonal of a dot product? (★★★)"
   ]
  },
  {
   "cell_type": "code",
   "execution_count": null,
   "id": "8ada08d1",
   "metadata": {},
   "outputs": [],
   "source": []
  },
  {
   "cell_type": "markdown",
   "id": "3bb7807e",
   "metadata": {},
   "source": [
    "#### 70. Consider the vector [1, 2, 3, 4, 5], how to build a new vector with 3 consecutive zeros interleaved between each value? (★★★)"
   ]
  },
  {
   "cell_type": "code",
   "execution_count": null,
   "id": "c173afdb",
   "metadata": {},
   "outputs": [],
   "source": []
  },
  {
   "cell_type": "markdown",
   "id": "40e4d74e",
   "metadata": {},
   "source": [
    "#### 71. Consider an array of dimension (5,5,3), how to mulitply it by an array with dimensions (5,5)? (★★★)"
   ]
  },
  {
   "cell_type": "code",
   "execution_count": null,
   "id": "32d15813",
   "metadata": {},
   "outputs": [],
   "source": []
  },
  {
   "cell_type": "markdown",
   "id": "9ee9c5cc",
   "metadata": {},
   "source": [
    "#### 72. How to swap two rows of an array? (★★★)"
   ]
  },
  {
   "cell_type": "code",
   "execution_count": 41,
   "id": "8499665c",
   "metadata": {},
   "outputs": [
    {
     "name": "stdout",
     "output_type": "stream",
     "text": [
      "[[ 0  1  2  3  4]\n",
      " [ 5  6  7  8  9]\n",
      " [10 11 12 13 14]\n",
      " [15 16 17 18 19]\n",
      " [20 21 22 23 24]]\n",
      "[[ 5  6  7  8  9]\n",
      " [ 0  1  2  3  4]\n",
      " [10 11 12 13 14]\n",
      " [15 16 17 18 19]\n",
      " [20 21 22 23 24]]\n"
     ]
    }
   ],
   "source": [
    "A = np.arange(25).reshape(5,5)\n",
    "print(A)\n",
    "A[[1,0],:]= A[[0,1],:]\n",
    "print(A)"
   ]
  },
  {
   "cell_type": "markdown",
   "id": "2a16d4e2",
   "metadata": {},
   "source": [
    "#### 73. Consider a set of 10 triplets describing 10 triangles (with shared vertices), find the set of unique line segments composing all the  triangles (★★★)"
   ]
  },
  {
   "cell_type": "code",
   "execution_count": null,
   "id": "4f2c6e17",
   "metadata": {},
   "outputs": [],
   "source": []
  },
  {
   "cell_type": "markdown",
   "id": "75bbcb12",
   "metadata": {},
   "source": [
    "#### 74. Given a sorted array C that corresponds to a bincount, how to produce an array A such that np.bincount(A) == C? (★★★)"
   ]
  },
  {
   "cell_type": "code",
   "execution_count": null,
   "id": "46ebf898",
   "metadata": {},
   "outputs": [],
   "source": []
  },
  {
   "cell_type": "markdown",
   "id": "605b5b91",
   "metadata": {},
   "source": [
    "#### 75. How to compute averages using a sliding window over an array? (★★★)"
   ]
  },
  {
   "cell_type": "code",
   "execution_count": null,
   "id": "b6f28d8a",
   "metadata": {},
   "outputs": [],
   "source": []
  },
  {
   "cell_type": "markdown",
   "id": "0a83c91b",
   "metadata": {},
   "source": [
    "#### 76. Consider a one-dimensional array Z, build a two-dimensional array whose first row is (Z[0],Z[1],Z[2]) and each subsequent row is  shifted by 1 (last row should be (Z[-3],Z[-2],Z[-1]) (★★★)"
   ]
  },
  {
   "cell_type": "code",
   "execution_count": null,
   "id": "78b4cfb4",
   "metadata": {},
   "outputs": [],
   "source": []
  },
  {
   "cell_type": "markdown",
   "id": "4be00d5e",
   "metadata": {},
   "source": [
    "#### 77. How to negate a boolean, or to change the sign of a float inplace? (★★★)"
   ]
  },
  {
   "cell_type": "code",
   "execution_count": 47,
   "id": "5ba94110",
   "metadata": {},
   "outputs": [
    {
     "name": "stdout",
     "output_type": "stream",
     "text": [
      "[1 1 0 1 0 1 1 0 0 0]\n",
      "[0 0 1 0 1 0 0 1 1 1]\n",
      "[-0.8587426  -0.44996831 -0.49918798 -0.71533012  0.82912653 -0.38375923\n",
      " -0.20941353  0.19786331 -0.10885048 -0.102743  ]\n",
      "[ 0.8587426   0.44996831  0.49918798  0.71533012 -0.82912653  0.38375923\n",
      "  0.20941353 -0.19786331  0.10885048  0.102743  ]\n"
     ]
    }
   ],
   "source": [
    "a=np.random.randint(0,2,10)\n",
    "print(a)\n",
    "np.logical_not(a,out=a)\n",
    "print(a)\n",
    "\n",
    "b = np.random.uniform(-1,1,10)\n",
    "print(b)\n",
    "np.negative(b,out=b)\n",
    "print(b)"
   ]
  },
  {
   "cell_type": "markdown",
   "id": "23ff5523",
   "metadata": {},
   "source": [
    "#### 78. Consider 2 sets of points P0,P1 describing lines (2d) and a point p, how to compute distance from p to each line i (P0[i],P1[i])? (★★★)"
   ]
  },
  {
   "cell_type": "code",
   "execution_count": null,
   "id": "4621c4e1",
   "metadata": {},
   "outputs": [],
   "source": []
  },
  {
   "cell_type": "markdown",
   "id": "bbba6526",
   "metadata": {},
   "source": [
    "#### 79. Consider 2 sets of points P0,P1 describing lines (2d) and a set of points P, how to compute distance from each point j (P[j]) to each line i (P0[i],P1[i])? (★★★)"
   ]
  },
  {
   "cell_type": "code",
   "execution_count": null,
   "id": "a38de46e",
   "metadata": {},
   "outputs": [],
   "source": []
  },
  {
   "cell_type": "markdown",
   "id": "b70a0169",
   "metadata": {},
   "source": [
    "#### 80. Consider an arbitrary array, write a function that extract a subpart with a fixed shape and centered on a given element (pad with a `fill` value when necessary) (★★★)"
   ]
  },
  {
   "cell_type": "code",
   "execution_count": null,
   "id": "e286aa38",
   "metadata": {},
   "outputs": [],
   "source": []
  },
  {
   "cell_type": "markdown",
   "id": "82577004",
   "metadata": {},
   "source": [
    "#### 81. Consider an array Z = [1,2,3,4,5,6,7,8,9,10,11,12,13,14], how to generate an array R = [[1,2,3,4], [2,3,4,5], [3,4,5,6], ..., [11,12,13,14]]? (★★★)"
   ]
  },
  {
   "cell_type": "code",
   "execution_count": null,
   "id": "299febc3",
   "metadata": {},
   "outputs": [],
   "source": []
  },
  {
   "cell_type": "markdown",
   "id": "19914b7e",
   "metadata": {},
   "source": [
    "#### 82. Compute a matrix rank (★★★)"
   ]
  },
  {
   "cell_type": "code",
   "execution_count": null,
   "id": "71b6d05e",
   "metadata": {},
   "outputs": [],
   "source": []
  },
  {
   "cell_type": "markdown",
   "id": "5b4702b1",
   "metadata": {},
   "source": [
    "#### 83. How to find the most frequent value in an array?"
   ]
  },
  {
   "cell_type": "code",
   "execution_count": null,
   "id": "47392a08",
   "metadata": {},
   "outputs": [],
   "source": []
  },
  {
   "cell_type": "markdown",
   "id": "e2b4e6d4",
   "metadata": {},
   "source": [
    "#### 84. Extract all the contiguous 3x3 blocks from a random 10x10 matrix (★★★)"
   ]
  },
  {
   "cell_type": "code",
   "execution_count": null,
   "id": "ecc7884c",
   "metadata": {},
   "outputs": [],
   "source": []
  },
  {
   "cell_type": "markdown",
   "id": "588931bf",
   "metadata": {},
   "source": [
    "#### 85. Create a 2D array subclass such that Z[i,j] == Z[j,i] (★★★)"
   ]
  },
  {
   "cell_type": "code",
   "execution_count": null,
   "id": "16415e97",
   "metadata": {},
   "outputs": [],
   "source": []
  },
  {
   "cell_type": "markdown",
   "id": "3e2ada58",
   "metadata": {},
   "source": [
    "#### 86. Consider a set of p matrices wich shape (n,n) and a set of p vectors with shape (n,1). How to compute the sum of of the p matrix products at once? (result has shape (n,1)) (★★★)"
   ]
  },
  {
   "cell_type": "code",
   "execution_count": null,
   "id": "b830123b",
   "metadata": {},
   "outputs": [],
   "source": []
  },
  {
   "cell_type": "markdown",
   "id": "dc24b132",
   "metadata": {},
   "source": [
    "#### 87. Consider a 16x16 array, how to get the block-sum (block size is 4x4)? (★★★)"
   ]
  },
  {
   "cell_type": "code",
   "execution_count": 58,
   "id": "2aecf16c",
   "metadata": {},
   "outputs": [
    {
     "name": "stdout",
     "output_type": "stream",
     "text": [
      "[[0. 0. 0. 0. 0. 0. 0. 0. 0. 0. 0. 0. 0. 0. 0. 0.]\n",
      " [0. 0. 0. 0. 0. 0. 0. 0. 0. 0. 0. 0. 0. 0. 0. 0.]\n",
      " [0. 0. 0. 0. 0. 0. 0. 0. 0. 0. 0. 0. 0. 0. 0. 0.]\n",
      " [0. 0. 0. 0. 0. 0. 0. 0. 0. 0. 0. 0. 0. 0. 0. 0.]\n",
      " [0. 0. 0. 0. 0. 0. 0. 0. 0. 0. 0. 0. 0. 0. 0. 0.]\n",
      " [0. 0. 0. 0. 0. 0. 0. 0. 0. 0. 0. 0. 0. 0. 0. 0.]\n",
      " [0. 0. 0. 0. 0. 0. 0. 0. 0. 0. 0. 0. 0. 0. 0. 0.]\n",
      " [0. 0. 0. 0. 0. 0. 0. 0. 0. 0. 0. 0. 0. 0. 0. 0.]\n",
      " [0. 0. 0. 0. 0. 0. 0. 0. 0. 0. 0. 0. 0. 0. 0. 0.]\n",
      " [0. 0. 0. 0. 0. 0. 0. 0. 0. 0. 0. 0. 0. 0. 0. 0.]\n",
      " [0. 0. 0. 0. 0. 0. 0. 0. 0. 0. 0. 0. 0. 0. 0. 0.]\n",
      " [0. 0. 0. 0. 0. 0. 0. 0. 0. 0. 0. 0. 0. 0. 0. 0.]\n",
      " [0. 0. 0. 0. 0. 0. 0. 0. 0. 0. 0. 0. 0. 0. 0. 0.]\n",
      " [0. 0. 0. 0. 0. 0. 0. 0. 0. 0. 0. 0. 0. 0. 0. 0.]\n",
      " [0. 0. 0. 0. 0. 0. 0. 0. 0. 0. 0. 0. 0. 0. 0. 0.]\n",
      " [0. 0. 0. 0. 0. 0. 0. 0. 0. 0. 0. 0. 0. 0. 0. 0.]]\n"
     ]
    },
    {
     "ename": "TypeError",
     "evalue": "slice indices must be integers or None or have an __index__ method",
     "output_type": "error",
     "traceback": [
      "\u001b[1;31m---------------------------------------------------------------------------\u001b[0m",
      "\u001b[1;31mTypeError\u001b[0m                                 Traceback (most recent call last)",
      "\u001b[1;32m<ipython-input-58-8848ed71691a>\u001b[0m in \u001b[0;36m<module>\u001b[1;34m\u001b[0m\n\u001b[0;32m      2\u001b[0m \u001b[0mprint\u001b[0m\u001b[1;33m(\u001b[0m\u001b[0ma\u001b[0m\u001b[1;33m)\u001b[0m\u001b[1;33m\u001b[0m\u001b[1;33m\u001b[0m\u001b[0m\n\u001b[0;32m      3\u001b[0m \u001b[0mb\u001b[0m\u001b[1;33m=\u001b[0m\u001b[0mnp\u001b[0m\u001b[1;33m.\u001b[0m\u001b[0mones\u001b[0m\u001b[1;33m(\u001b[0m\u001b[1;33m(\u001b[0m\u001b[1;36m4\u001b[0m\u001b[1;33m,\u001b[0m\u001b[1;36m4\u001b[0m\u001b[1;33m)\u001b[0m\u001b[1;33m)\u001b[0m\u001b[1;33m\u001b[0m\u001b[1;33m\u001b[0m\u001b[0m\n\u001b[1;32m----> 4\u001b[1;33m \u001b[0ma\u001b[0m\u001b[1;33m[\u001b[0m\u001b[1;33m[\u001b[0m\u001b[1;36m0\u001b[0m\u001b[1;33m,\u001b[0m\u001b[1;36m3\u001b[0m\u001b[1;33m]\u001b[0m\u001b[1;33m,\u001b[0m\u001b[1;33m:\u001b[0m\u001b[1;33m[\u001b[0m\u001b[1;36m0\u001b[0m\u001b[1;33m,\u001b[0m\u001b[1;36m3\u001b[0m\u001b[1;33m]\u001b[0m\u001b[1;33m]\u001b[0m\u001b[1;33m=\u001b[0m\u001b[0mb\u001b[0m\u001b[1;33m\u001b[0m\u001b[1;33m\u001b[0m\u001b[0m\n\u001b[0m",
      "\u001b[1;31mTypeError\u001b[0m: slice indices must be integers or None or have an __index__ method"
     ]
    }
   ],
   "source": [
    "a = np.zeros((16,16))\n",
    "print(a)\n",
    "b=np.ones((4,4))\n",
    "a[[0,3],:[0,3]]=b"
   ]
  },
  {
   "cell_type": "markdown",
   "id": "bc324c05",
   "metadata": {},
   "source": [
    "#### 88. How to implement the Game of Life using numpy arrays? (★★★)"
   ]
  },
  {
   "cell_type": "code",
   "execution_count": 49,
   "id": "fb2f76d6",
   "metadata": {},
   "outputs": [
    {
     "name": "stdout",
     "output_type": "stream",
     "text": [
      "[[16. 16. 16. 16.]\n",
      " [16. 16. 16. 16.]\n",
      " [16. 16. 16. 16.]\n",
      " [16. 16. 16. 16.]]\n"
     ]
    }
   ],
   "source": []
  },
  {
   "cell_type": "markdown",
   "id": "84266863",
   "metadata": {},
   "source": [
    "#### 89. How to get the n largest values of an array (★★★)"
   ]
  },
  {
   "cell_type": "code",
   "execution_count": null,
   "id": "3b353230",
   "metadata": {},
   "outputs": [],
   "source": []
  },
  {
   "cell_type": "markdown",
   "id": "4f5587b9",
   "metadata": {},
   "source": [
    "#### 90. Given an arbitrary number of vectors, build the cartesian product (every combinations of every item) (★★★)"
   ]
  },
  {
   "cell_type": "code",
   "execution_count": null,
   "id": "3f752a18",
   "metadata": {},
   "outputs": [],
   "source": []
  },
  {
   "cell_type": "markdown",
   "id": "b4c22657",
   "metadata": {},
   "source": [
    "#### 91. How to create a record array from a regular array? (★★★)"
   ]
  },
  {
   "cell_type": "code",
   "execution_count": null,
   "id": "a0dc0426",
   "metadata": {},
   "outputs": [],
   "source": []
  },
  {
   "cell_type": "markdown",
   "id": "bb9f1473",
   "metadata": {},
   "source": [
    "#### 92. Consider a large vector Z, compute Z to the power of 3 using 3 different methods (★★★)"
   ]
  },
  {
   "cell_type": "code",
   "execution_count": null,
   "id": "0d585a57",
   "metadata": {},
   "outputs": [],
   "source": []
  },
  {
   "cell_type": "markdown",
   "id": "3acb5b65",
   "metadata": {},
   "source": [
    "#### 93. Consider two arrays A and B of shape (8,3) and (2,2). How to find rows of A that contain elements of each row of B regardless of the order of the elements in B? (★★★)"
   ]
  },
  {
   "cell_type": "code",
   "execution_count": null,
   "id": "f9e1e127",
   "metadata": {},
   "outputs": [],
   "source": []
  },
  {
   "cell_type": "markdown",
   "id": "f8f36be4",
   "metadata": {},
   "source": [
    "#### 94. Considering a 10x3 matrix, extract rows with unequal values (e.g. [2,2,3]) (★★★)"
   ]
  },
  {
   "cell_type": "code",
   "execution_count": null,
   "id": "6caa0f63",
   "metadata": {},
   "outputs": [],
   "source": []
  },
  {
   "cell_type": "markdown",
   "id": "2065f6b5",
   "metadata": {},
   "source": [
    "#### 95. Convert a vector of ints into a matrix binary representation (★★★)"
   ]
  },
  {
   "cell_type": "code",
   "execution_count": null,
   "id": "8a6afb88",
   "metadata": {},
   "outputs": [],
   "source": []
  },
  {
   "cell_type": "markdown",
   "id": "15953492",
   "metadata": {},
   "source": [
    "#### 96. Given a two dimensional array, how to extract unique rows? (★★★)"
   ]
  },
  {
   "cell_type": "code",
   "execution_count": null,
   "id": "2fbe8159",
   "metadata": {},
   "outputs": [],
   "source": []
  },
  {
   "cell_type": "markdown",
   "id": "95bce4fe",
   "metadata": {},
   "source": [
    "#### 97. Considering 2 vectors A & B, write the einsum equivalent of inner, outer, sum, and mul function (★★★)"
   ]
  },
  {
   "cell_type": "code",
   "execution_count": null,
   "id": "07971442",
   "metadata": {},
   "outputs": [],
   "source": []
  },
  {
   "cell_type": "markdown",
   "id": "6d728760",
   "metadata": {},
   "source": [
    "#### 98. Considering a path described by two vectors (X,Y), how to sample it using equidistant samples (★★★)?"
   ]
  },
  {
   "cell_type": "code",
   "execution_count": null,
   "id": "2a30f221",
   "metadata": {},
   "outputs": [],
   "source": []
  },
  {
   "cell_type": "markdown",
   "id": "5b3bbdc0",
   "metadata": {},
   "source": [
    "#### 99. Given an integer n and a 2D array X, select from X the rows which can be interpreted as draws from a multinomial distribution with n degrees, i.e., the rows which only contain integers and which sum to n. (★★★)"
   ]
  },
  {
   "cell_type": "code",
   "execution_count": null,
   "id": "eb9bad02",
   "metadata": {},
   "outputs": [],
   "source": []
  },
  {
   "cell_type": "markdown",
   "id": "6295db88",
   "metadata": {},
   "source": [
    "#### 100. Compute bootstrapped 95% confidence intervals for the mean of a 1D array X (i.e., resample the elements of an array with replacement N times, compute the mean of each sample, and then compute percentiles over the means). (★★★)"
   ]
  },
  {
   "cell_type": "code",
   "execution_count": null,
   "id": "94174a6b",
   "metadata": {},
   "outputs": [],
   "source": []
  }
 ],
 "metadata": {
  "kernelspec": {
   "display_name": "Python 3",
   "language": "python",
   "name": "python3"
  },
  "language_info": {
   "codemirror_mode": {
    "name": "ipython",
    "version": 3
   },
   "file_extension": ".py",
   "mimetype": "text/x-python",
   "name": "python",
   "nbconvert_exporter": "python",
   "pygments_lexer": "ipython3",
   "version": "3.8.8"
  }
 },
 "nbformat": 4,
 "nbformat_minor": 5
}
